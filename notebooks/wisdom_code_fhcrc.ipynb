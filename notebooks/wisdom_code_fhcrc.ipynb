{
 "cells": [
  {
   "cell_type": "code",
   "execution_count": 2,
   "metadata": {},
   "outputs": [],
   "source": [
    "import os\n",
    "import math\n",
    "import copy\n",
    "import time\n",
    "import random\n",
    "import pprint\n",
    "import tqdm\n",
    "import platform\n",
    "from datetime import datetime\n",
    "\n",
    "import pandas as pd\n",
    "import numpy as np\n",
    "import matplotlib.pyplot as plt\n",
    "\n",
    "import torch\n",
    "from torch import nn\n",
    "from torch.nn import CrossEntropyLoss\n",
    "import torch.nn.functional as F\n",
    "from torchvision import utils\n",
    "from torch.utils.data import Dataset, DataLoader, ConcatDataset\n",
    "from torch.utils.tensorboard import SummaryWriter\n",
    "from sklearn.model_selection import KFold\n",
    "# from torchinfo import summary\n",
    "\n",
    "import cv2\n",
    "import nibabel as nib\n",
    "import skimage.transform as skTrans\n",
    "from numpy import logical_and as l_and, logical_not as l_not\n",
    "from scipy.spatial.distance import directed_hausdorff\n",
    "\n",
    "%matplotlib inline\n",
    "\n",
    "%load_ext autoreload\n",
    "%autoreload 2"
   ]
  },
  {
   "cell_type": "code",
   "execution_count": 3,
   "metadata": {},
   "outputs": [
    {
     "data": {
      "text/plain": [
       "device(type='cuda')"
      ]
     },
     "execution_count": 3,
     "metadata": {},
     "output_type": "execute_result"
    }
   ],
   "source": [
    "device = torch.device(\"cuda\" if torch.cuda.is_available() else \"cpu\")\n",
    "device"
   ]
  },
  {
   "cell_type": "code",
   "execution_count": 4,
   "metadata": {},
   "outputs": [],
   "source": [
    "# Set random seed for reproduciablity\n",
    "torch.manual_seed(42)\n",
    "random.seed(42)"
   ]
  },
  {
   "cell_type": "code",
   "execution_count": 5,
   "metadata": {},
   "outputs": [],
   "source": [
    "class ScaleToFixed(object):\n",
    "\n",
    "    def __init__(self, new_shape, interpolation=1, channels=4):\n",
    "        self.shape= new_shape\n",
    "        self.interpolation = interpolation\n",
    "        self.channels = channels\n",
    "\n",
    "    def __call__(self, image):\n",
    "        # print('first shape', image.shape)\n",
    "        if image is not None: # (some patients don't have segmentations)\n",
    "            if self.channels == 1:\n",
    "                short_shape = (self.shape[1], self.shape[2], self.shape[3])\n",
    "                image = skTrans.resize(image, short_shape, order=self.interpolation, preserve_range=True)  #\n",
    "                image = image.reshape(self.shape)\n",
    "            else:\n",
    "                image = skTrans.resize(image, self.shape, order=self.interpolation, preserve_range=True)  #\n",
    "\n",
    "        # print('second shape', image.shape)\n",
    "        # print()\n",
    "        return image\n",
    "\n",
    "class RandomFlip(object):\n",
    "    \"\"\"Randomly flips (horizontally as well as vertically) the given PIL.Image with a probability of 0.5\n",
    "    \"\"\"\n",
    "    def __init__(self, prob_flip=0.5):\n",
    "        self.prob_flip= prob_flip\n",
    "    def __call__(self, image):\n",
    "\n",
    "        if random.random() < self.prob_flip:\n",
    "            flip_type = np.random.randint(0, 3) # flip across any 3D axis\n",
    "            image = np.flip(image, flip_type)\n",
    "        return image\n",
    "\n",
    "class ZeroChannel(object):\n",
    "    \"\"\"Randomly sets channel to zero the given PIL.Image with a probability of 0.25\n",
    "    \"\"\"\n",
    "    def __init__(self, prob_zero=0.25, channels=4):\n",
    "        self.prob_zero= prob_zero\n",
    "        self.channels = channels\n",
    "    def __call__(self, image):\n",
    "\n",
    "        if np.random.random() < self.prob_zero:\n",
    "            channel_to_zero = np.random.randint(0, self.channels) # flip across any 3D axis\n",
    "            zeros = np.zeros((image.shape[1], image.shape[2], image.shape[3]))\n",
    "            image[channel_to_zero, :, :, :] = zeros\n",
    "        return image\n",
    "\n",
    "class ZeroSprinkle(object):\n",
    "    def __init__(self, prob_zero=0.25, prob_true=0.5, channels=4):\n",
    "        self.prob_zero=prob_zero\n",
    "        self.prob_true=prob_true\n",
    "        self.channels=channels\n",
    "    def __call__(self, image):\n",
    "\n",
    "        if self.prob_true:\n",
    "            mask = np.random.rand(image.shape[0], image.shape[1], image.shape[2], image.shape[3])\n",
    "            mask[mask < self.prob_zero] = 0\n",
    "            mask[mask > 0] = 1\n",
    "            image = image*mask\n",
    "\n",
    "        return image\n",
    "\n",
    "\n",
    "class MinMaxNormalize(object):\n",
    "    \"\"\"Min-Max normalization\n",
    "    \"\"\"\n",
    "    def __call__(self, image):\n",
    "        def norm(im):\n",
    "            im = im.astype(np.float32)\n",
    "            min_v = np.min(im)\n",
    "            max_v = np.max(im)\n",
    "            im = (im - min_v)/(max_v - min_v)\n",
    "            return im\n",
    "        image = norm(image)\n",
    "        return image\n",
    "\n",
    "class ToTensor(object):\n",
    "    def __init__(self, scale=1):\n",
    "        self.scale = scale\n",
    "\n",
    "    def __call__(self, image):\n",
    "        if image is not None:\n",
    "            image = image.astype(np.float32)\n",
    "            image = image.reshape((image.shape[0], int(image.shape[1]/self.scale), int(image.shape[2]/self.scale), int(image.shape[3]/self.scale)))\n",
    "            image_tensor = torch.from_numpy(image)\n",
    "            return image_tensor\n",
    "        else:\n",
    "            return image\n",
    "\n",
    "\n",
    "class Compose(object):\n",
    "    \"\"\"\n",
    "    Composes several transforms together.\n",
    "    \"\"\"\n",
    "\n",
    "    def __init__(self, transforms):\n",
    "        self.transforms = transforms\n",
    "\n",
    "    def __call__(self, image):\n",
    "        for i, t in enumerate(self.transforms):\n",
    "            image = t(image)\n",
    "        return image"
   ]
  },
  {
   "cell_type": "code",
   "execution_count": 6,
   "metadata": {},
   "outputs": [],
   "source": [
    "def get_bb_3D(img, pad=0):\n",
    "    '''\n",
    "    This function returns a tumor 3D bounding box using a segmentation mask\n",
    "    '''\n",
    "    xs = np.nonzero(np.sum(np.sum(img, axis=1), axis=1))\n",
    "    ys = np.nonzero(np.sum(np.sum(img, axis=0), axis=1))\n",
    "    zs = np.nonzero(np.sum(np.sum(img, axis=0), axis=0))\n",
    "    xmin, xmax = np.min(xs), np.max(xs)\n",
    "    ymin, ymax = np.min(ys), np.max(ys)\n",
    "    zmin, zmax = np.min(zs), np.max(zs)\n",
    "    bbox = (xmin-pad, ymin-pad, zmin-pad, xmax+pad, ymax+pad, zmax+pad)\n",
    "    return bbox\n",
    "\n",
    "def min_max(img):\n",
    "    '''\n",
    "    Min-max normalization\n",
    "    '''\n",
    "    return (img - img.min()) / (img.max() - img.min())\n",
    "\n",
    "def read_mri(mr_path_dict, pad=0):\n",
    "\n",
    "    image_shape = nib.load(mr_path_dict['flair']).get_fdata().shape\n",
    "    bb_seg = get_bb_3D(nib.load(mr_path_dict['flair']).get_fdata())\n",
    "    (xmin, ymin, zmin, xmax, ymax, zmax) = bb_seg\n",
    "\n",
    "    xmin = np.max([0, xmin-pad])\n",
    "    ymin = np.max([0, ymin-pad])\n",
    "    zmin = np.max([0, zmin-pad])\n",
    "\n",
    "    xmax = np.min([image_shape[0]-1, xmax+pad])\n",
    "    ymax = np.min([image_shape[1]-1, ymax+pad])\n",
    "    zmax = np.min([image_shape[2]-1, zmax+pad])\n",
    "\n",
    "\n",
    "    img_dict = {}\n",
    "    for key in ['flair', 't1', 't1ce', 't2', 'seg']:\n",
    "        img = nib.load(mr_path_dict[key])\n",
    "        img_data = img.get_fdata()\n",
    "        img_dict[key] = img_data[xmin:xmax, ymin:ymax, zmin:zmax]\n",
    "\n",
    "    stacked_img = np.stack([min_max(img_dict['flair']), min_max(img_dict['t1']),min_max(img_dict['t1ce']),min_max(img_dict['t2'])], axis=0)\n",
    "    return stacked_img, img_dict['seg']\n"
   ]
  },
  {
   "cell_type": "code",
   "execution_count": 7,
   "metadata": {},
   "outputs": [],
   "source": [
    "def plot_(image, seg, predicted=False):\n",
    "    #Overlay with Predicted\n",
    "    img = image[slice, :, :, :].squeeze()\n",
    "    img = utils.make_grid(img)\n",
    "    img = img.detach().cpu().numpy()\n",
    "    \n",
    "    print(img.shape)\n",
    "    \n",
    "    # plot images\n",
    "    plt.figure(figsize=(10, 8))\n",
    "    img_list = [img[i].T for i in range(channels)] # 1 image per channel\n",
    "    plt.imshow(np.hstack(img_list), cmap='Greys_r')\n",
    "    \n",
    "    ## plot segmentation mask ##\n",
    "    seg_img = torch.tensor(pred[slice].squeeze())\n",
    "    if not predicted:\n",
    "        seg_img = torch.tensor(seg_img.numpy()[:, ::-1].copy()) #flip\n",
    "    seg_img = utils.make_grid(seg_img).detach().cpu().numpy()\n",
    "    \n",
    "    print(np.unique(seg_img))\n",
    "\n",
    "    plt.imshow(np.hstack([seg_img[0].T]), cmap='Greys_r', alpha=0.3)\n",
    "    plt.show()\n",
    "    "
   ]
  },
  {
   "cell_type": "code",
   "execution_count": 8,
   "metadata": {},
   "outputs": [],
   "source": [
    "class GeneralDataset(Dataset):\n",
    "\n",
    "    def __init__(self,\n",
    "                metadata_df,\n",
    "                root_dir,\n",
    "                transform=None,\n",
    "                seg_transform=None, ###\n",
    "                dataformat=None, # indicates what shape (or content) should be returned (2D or 3D, etc.)\n",
    "                returndims=None, # what size/shape 3D volumes should be returned as.\n",
    "                output_shape=None,\n",
    "                visualize=False,\n",
    "                modality=None,\n",
    "                pad=2,\n",
    "                device='cpu'):\n",
    "        \"\"\"\n",
    "        Args:\n",
    "            metadata_df (string): Path to the csv file w/ patient IDs\n",
    "            root_dir (string): Directory for MR images\n",
    "            transform (callable, optional)\n",
    "        \"\"\"\n",
    "        self.device=device\n",
    "        self.metadata_df = metadata_df\n",
    "        self.root_dir = root_dir\n",
    "        self.transform = transform\n",
    "        self.seg_transform = seg_transform\n",
    "        self.returndims=returndims\n",
    "        self.modality = modality\n",
    "        self.pad = pad\n",
    "        self.output_shape = output_shape\n",
    "\n",
    "    def __len__(self):\n",
    "        return len(self.metadata_df)\n",
    "\n",
    "    def __getitem__(self, idx):\n",
    "        #print(type(idx), idx)\n",
    "        if torch.is_tensor(idx):\n",
    "            idx = idx.tolist()\n",
    "\n",
    "        BraTS20ID = self.metadata_df.iloc[idx].BraTS_2020_subject_ID\n",
    "\n",
    "        # make dictonary of paths to MRI volumnes (modalities) and segmenation masks\n",
    "        mr_path_dict = {}\n",
    "        sequence_type = ['seg', 't1', 't1ce', 'flair', 't2']\n",
    "        for seq in sequence_type:\n",
    "            mr_path_dict[seq] = os.path.join(self.root_dir, BraTS20ID, BraTS20ID + '_'+seq+'.nii.gz')\n",
    "\n",
    "        image, seg_image = read_mri(mr_path_dict=mr_path_dict, pad=self.pad)\n",
    "        \n",
    "        if seg_image is not None:\n",
    "            if self.output_shape == 'wt':\n",
    "                seg_image[np.nonzero(seg_image)] = 1 #only 0's and 1's for background and tumor\n",
    "            else:\n",
    "                seg_image[seg_image == 4] = 3 #0,1,2,3 for background and tumor regions\n",
    "\n",
    "        if self.transform:\n",
    "            image = self.transform(image)\n",
    "        if self.seg_transform:\n",
    "            seg_image = self.seg_transform(seg_image)\n",
    "        else:\n",
    "            print('no transform')\n",
    "        # print(image.shape)\n",
    "        return (image, seg_image), BraTS20ID"
   ]
  },
  {
   "cell_type": "code",
   "execution_count": 9,
   "metadata": {},
   "outputs": [],
   "source": [
    "def read_dataframe(params):\n",
    "    if platform.system() == 'Windows':\n",
    "        naming = pd.read_csv(f\"{params['image_dir']}\\\\name_mapping.csv\")\n",
    "    else:\n",
    "        naming = pd.read_csv(f\"{params['image_dir']}/name_mapping.csv\")\n",
    "    \n",
    "    data_df = pd.DataFrame(naming['BraTS_2020_subject_ID'])\n",
    "\n",
    "    # n_patients_to_train_with\n",
    "    total_num_patients = len(data_df)\n",
    "\n",
    "    assert sum(params['tr_va_te_split']) == 100\n",
    "    tr_split = int((total_num_patients * params['tr_va_te_split'][0]) / 100)\n",
    "    va_split = int((total_num_patients * params['tr_va_te_split'][1]) / 100)\n",
    "    te_split = total_num_patients - (tr_split + va_split)\n",
    "\n",
    "    print(f\"Data is split into train: {tr_split}, validation: {va_split} and test: {te_split}\")\n",
    "                   \n",
    "    train_df = data_df[: tr_split]\n",
    "    valid_df = data_df[tr_split : (tr_split + va_split)]\n",
    "    test_df = data_df[(tr_split + va_split) :]\n",
    "\n",
    "    return train_df, valid_df, test_df"
   ]
  },
  {
   "cell_type": "code",
   "execution_count": 10,
   "metadata": {},
   "outputs": [],
   "source": [
    "def retrieve_dataset(df, train=False):\n",
    "\n",
    "    image_dir, channels, resize_shape, output_shape = params['image_dir'], \\\n",
    "                                                      params['channels'], \\\n",
    "                                                      params['resize_shape'], \\\n",
    "                                                      params['output_shape']\n",
    "\n",
    "    # basic data augmentation\n",
    "    prob_voxel_zero = 0 # 0.1\n",
    "    prob_channel_zero = 0 # 0.5\n",
    "    prob_true = 0 # 0.8\n",
    "    randomflip = RandomFlip()\n",
    "\n",
    "    # MRI transformations\n",
    "    train_transformations = Compose([\n",
    "        MinMaxNormalize(),\n",
    "        ScaleToFixed((channels, resize_shape[0], resize_shape[1],\n",
    "                      resize_shape[2]), interpolation=1, channels=channels),\n",
    "        ZeroSprinkle(prob_zero=prob_voxel_zero, prob_true=prob_true),\n",
    "        ZeroChannel(prob_zero=prob_channel_zero),\n",
    "        randomflip,\n",
    "        ToTensor()\n",
    "        ])\n",
    "    \n",
    "    val_transformations = Compose([\n",
    "            MinMaxNormalize(),\n",
    "            ScaleToFixed((channels, resize_shape[0], resize_shape[1],\n",
    "                          resize_shape[2]), interpolation=1, channels=channels),\n",
    "            ToTensor(),\n",
    "        ])\n",
    "\n",
    "    # GT segmentation mask transformations\n",
    "    seg_transformations = Compose([\n",
    "        ScaleToFixed((1, resize_shape[0], resize_shape[1],\n",
    "                      resize_shape[2]), interpolation=0, channels=1),\n",
    "        randomflip,\n",
    "        ToTensor(),\n",
    "        ])\n",
    "    \n",
    "    if train:\n",
    "        dataset = GeneralDataset(metadata_df=df, \n",
    "                                root_dir=image_dir,\n",
    "                                transform=train_transformations,\n",
    "                                seg_transform=seg_transformations,\n",
    "                                returndims=resize_shape,\n",
    "                                output_shape=output_shape)\n",
    "    else:\n",
    "        dataset = GeneralDataset(metadata_df=df, \n",
    "                                root_dir=image_dir,\n",
    "                                transform=val_transformations,\n",
    "                                seg_transform=seg_transformations,\n",
    "                                returndims=resize_shape,\n",
    "                                output_shape=output_shape)\n",
    "    return dataset"
   ]
  },
  {
   "cell_type": "code",
   "execution_count": 11,
   "metadata": {},
   "outputs": [],
   "source": [
    "def get_data(params):\n",
    "\n",
    "    train_df, valid_df, test_df = read_dataframe(params)\n",
    "\n",
    "    train_dataset = retrieve_dataset(train_df, train=True)\n",
    "    \n",
    "    valid_dataset = retrieve_dataset(valid_df)\n",
    "\n",
    "    test_dataset = retrieve_dataset(test_df)\n",
    "    \n",
    "\n",
    "    train_loader = DataLoader(train_dataset, batch_size=params['train_batch_size'], shuffle=True)\n",
    "    valid_loader = DataLoader(valid_dataset, batch_size=params['train_batch_size'], shuffle=True)\n",
    "    test_loader = DataLoader(test_dataset, batch_size=params['test_batch_size'])\n",
    "\n",
    "    return train_loader, valid_loader, test_loader"
   ]
  },
  {
   "cell_type": "code",
   "execution_count": 12,
   "metadata": {},
   "outputs": [],
   "source": [
    "\n",
    "class ConvBlock(nn.Module):\n",
    "    def __init__(self, in_channels, out_channels, norm='b', num_groups=2, k_size=3, stride=1, padding=1):\n",
    "        super(ConvBlock, self).__init__()\n",
    "        self.conv3d = nn.Conv3d(in_channels=in_channels, out_channels=out_channels, kernel_size=k_size,\n",
    "                                stride=stride, padding=padding)\n",
    "        if norm == 'b':\n",
    "            self.norm = nn.BatchNorm3d(num_features=out_channels)\n",
    "        else:\n",
    "            # use only one group if the given number of groups is greater than the number of channels\n",
    "            if out_channels < num_groups:\n",
    "                num_groups = 1\n",
    "            assert out_channels % num_groups == 0, f'Expected out_channels{out_channels} in input to be divisible by num_groups{num_groups}'\n",
    "            self.norm = nn.GroupNorm(num_groups=num_groups, num_channels=out_channels)\n",
    "\n",
    "    def forward(self, x):\n",
    "        x = self.norm(self.conv3d(x))\n",
    "        x = F.elu(x) #!\n",
    "        return x\n",
    "\n",
    "class ConvTranspose(nn.Module):\n",
    "    def __init__(self, in_channels, out_channels, k_size=3, stride=2, padding=1, output_padding=1):\n",
    "        super(ConvTranspose, self).__init__()\n",
    "        self.conv3d_transpose = nn.ConvTranspose3d(in_channels=in_channels,\n",
    "                                                   out_channels=out_channels,\n",
    "                                                   kernel_size=k_size,\n",
    "                                                   stride=stride,\n",
    "                                                   padding=padding,\n",
    "                                                   output_padding=output_padding)\n",
    "\n",
    "    def forward(self, x):\n",
    "        return self.conv3d_transpose(x)\n",
    "\n",
    "\n",
    "class EncoderBlock(nn.Module):\n",
    "    def __init__(self, in_channels, init_features, norm='b', num_groups=2, model_depth=4, pool_size=2):\n",
    "        super(EncoderBlock, self).__init__()\n",
    "        self.root_feat_maps = init_features\n",
    "        self.num_conv_blocks = 2\n",
    "        self.module_dict = nn.ModuleDict()\n",
    "        for depth in range(model_depth):\n",
    "            feat_map_channels = 2 ** (depth + 1) * self.root_feat_maps\n",
    "            for i in range(self.num_conv_blocks):\n",
    "                self.conv_block = ConvBlock(in_channels=in_channels, out_channels=feat_map_channels, norm=norm, num_groups=num_groups)\n",
    "                self.module_dict[\"conv_{}_{}\".format(depth, i)] = self.conv_block\n",
    "                in_channels, feat_map_channels = feat_map_channels, feat_map_channels * 2\n",
    "            if depth == model_depth - 1:\n",
    "                break\n",
    "            else:\n",
    "                self.pooling = nn.MaxPool3d(kernel_size=pool_size, stride=2, padding=0)\n",
    "                self.module_dict[\"max_pooling_{}\".format(depth)] = self.pooling\n",
    "\n",
    "    def forward(self, x):\n",
    "        down_sampling_features = []\n",
    "        for k, op in self.module_dict.items():\n",
    "            if k.startswith(\"conv\"):\n",
    "                x = op(x)\n",
    "                #print(k, x.shape)\n",
    "                if k.endswith(\"1\"):\n",
    "                    down_sampling_features.append(x)\n",
    "            elif k.startswith(\"max_pooling\"):\n",
    "                x = op(x)\n",
    "                #print(k, x.shape)\n",
    "\n",
    "        return x, down_sampling_features\n",
    "\n",
    "\n",
    "class DecoderBlock(nn.Module):\n",
    "    def __init__(self, out_channels, init_features, norm, num_groups=2, model_depth=4):\n",
    "        super(DecoderBlock, self).__init__()\n",
    "        self.num_conv_blocks = 2\n",
    "        self.num_feat_maps = init_features\n",
    "        # user nn.ModuleDict() to store ops\n",
    "        self.module_dict = nn.ModuleDict()\n",
    "\n",
    "        for depth in range(model_depth - 2, -1, -1):\n",
    "            # print(depth)\n",
    "            feat_map_channels = 2 ** (depth + 1) * self.num_feat_maps\n",
    "            # print(feat_map_channels * 4)\n",
    "            self.deconv = ConvTranspose(in_channels=feat_map_channels * 4, out_channels=feat_map_channels * 4)\n",
    "            self.module_dict[\"deconv_{}\".format(depth)] = self.deconv\n",
    "            for i in range(self.num_conv_blocks):\n",
    "                if i == 0:\n",
    "                    self.conv = ConvBlock(in_channels=feat_map_channels * 6, out_channels=feat_map_channels * 2, norm=norm, num_groups=num_groups)\n",
    "                    self.module_dict[\"conv_{}_{}\".format(depth, i)] = self.conv\n",
    "                else:\n",
    "                    self.conv = ConvBlock(in_channels=feat_map_channels * 2, out_channels=feat_map_channels * 2, norm=norm, num_groups=num_groups)\n",
    "                    self.module_dict[\"conv_{}_{}\".format(depth, i)] = self.conv\n",
    "            if depth == 0:\n",
    "                self.final_conv = ConvBlock(in_channels=feat_map_channels * 2, out_channels=out_channels, norm=norm, num_groups=num_groups)\n",
    "                self.module_dict[\"final_conv\"] = self.final_conv\n",
    "\n",
    "    def forward(self, x, down_sampling_features):\n",
    "        \"\"\"\n",
    "        :param x: inputs\n",
    "        :param down_sampling_features: feature maps from encoder path\n",
    "        :return: output\n",
    "        \"\"\"\n",
    "        for k, op in self.module_dict.items():\n",
    "            if k.startswith(\"deconv\"):\n",
    "                x = op(x)\n",
    "                #print(k, x.shape)\n",
    "                x = torch.cat((down_sampling_features[int(k[-1])], x), dim=1)\n",
    "            elif k.startswith(\"conv\"):\n",
    "                x = op(x)\n",
    "                #print(k, x.shape)\n",
    "            else:\n",
    "                x = op(x)\n",
    "                #print(k, x.shape)\n",
    "        return x\n"
   ]
  },
  {
   "cell_type": "code",
   "execution_count": 13,
   "metadata": {},
   "outputs": [],
   "source": [
    "class UnetModel(nn.Module):\n",
    "\n",
    "    def __init__(self, in_channels, out_channels, init_features, norm, num_groups=2, model_depth=4, final_activation=\"sigmoid\"):\n",
    "        super(UnetModel, self).__init__()\n",
    "        self.encoder = EncoderBlock(in_channels=in_channels,\n",
    "                                    init_features=init_features,\n",
    "                                    norm=norm, num_groups=num_groups,\n",
    "                                    model_depth=model_depth)\n",
    "        self.decoder = DecoderBlock(out_channels=out_channels,\n",
    "                                    init_features=init_features,\n",
    "                                    norm=norm, num_groups=num_groups,\n",
    "                                    model_depth=model_depth)\n",
    "        if final_activation == \"sigmoid\":\n",
    "            self.sigmoid = nn.Sigmoid()\n",
    "        else:\n",
    "            self.softmax = nn.Softmax(dim=1)\n",
    "\n",
    "    def forward(self, x):\n",
    "        x, downsampling_features = self.encoder(x)\n",
    "        x = self.decoder(x, downsampling_features)\n",
    "        x = self.sigmoid(x)\n",
    "        # print(\"Final output shape: \", x.shape)\n",
    "        return x\n",
    "\n"
   ]
  },
  {
   "cell_type": "code",
   "execution_count": 14,
   "metadata": {},
   "outputs": [],
   "source": [
    "\n",
    "class DiceLoss(nn.Module):\n",
    "    def __init__(self, epsilon=1e-5):\n",
    "        super(DiceLoss, self).__init__()\n",
    "        # smooth factor\n",
    "        self.epsilon = epsilon\n",
    "\n",
    "    def forward(self, logits, targets):\n",
    "        batch_size = targets.size(0)\n",
    "        # log_prob = torch.sigmoid(logits)\n",
    "        logits = logits.view(batch_size, -1).type(torch.FloatTensor)\n",
    "        targets = targets.view(batch_size, -1).type(torch.FloatTensor)\n",
    "        intersection = (logits * targets).sum(-1)\n",
    "        dice_score = 2. * intersection / ((logits + targets).sum(-1) + self.epsilon)\n",
    "        # dice_score = 1 - dice_score.sum() / batch_size\n",
    "        dice_score = torch.mean(1. - dice_score)\n",
    "        dice_score.requires_grad = True\n",
    "        return dice_score"
   ]
  },
  {
   "cell_type": "code",
   "execution_count": 15,
   "metadata": {},
   "outputs": [],
   "source": [
    "class EDiceLoss(nn.Module):\n",
    "    \"\"\"Dice loss tailored to Brats need.\n",
    "    \"\"\"\n",
    "\n",
    "    def __init__(self, do_sigmoid=True):\n",
    "        super(EDiceLoss, self).__init__()\n",
    "        self.do_sigmoid = do_sigmoid\n",
    "        self.labels = [\"ET\", \"TC\", \"WT\"]\n",
    "        self.device = \"cpu\"\n",
    "\n",
    "    def binary_dice(self, inputs, targets, label_index, metric_mode=False):\n",
    "        smooth = 1.\n",
    "        if self.do_sigmoid:\n",
    "            inputs = torch.sigmoid(inputs)\n",
    "\n",
    "        if metric_mode:\n",
    "            inputs = inputs > 0.5\n",
    "            if targets.sum() == 0:\n",
    "                print(f\"No {self.labels[label_index]} for this patient\")\n",
    "                if inputs.sum() == 0:\n",
    "                    return torch.tensor(1., device=device)\n",
    "                else:\n",
    "                    return torch.tensor(0., device=device)\n",
    "            # Threshold the pred\n",
    "        intersection = EDiceLoss.compute_intersection(inputs, targets)\n",
    "        if metric_mode:\n",
    "            dice = (2 * intersection) / ((inputs.sum() + targets.sum()) * 1.0)\n",
    "        else:\n",
    "            dice = (2 * intersection + smooth) / (inputs.pow(2).sum() + targets.pow(2).sum() + smooth)\n",
    "        if metric_mode:\n",
    "            return dice\n",
    "        return 1 - dice\n",
    "\n",
    "    @staticmethod\n",
    "    def compute_intersection(inputs, targets):\n",
    "        intersection = torch.sum(inputs * targets)\n",
    "        return intersection\n",
    "\n",
    "    def forward(self, inputs, target):\n",
    "        dice = 0\n",
    "        for i in range(target.size(1)):\n",
    "            dice = dice + self.binary_dice(inputs[:, i, ...], target[:, i, ...], i)\n",
    "        final_dice = dice / target.size(1)\n",
    "        final_dice.requires_grad = True\n",
    "        return final_dice\n",
    "\n",
    "    def metric(self, inputs, target):\n",
    "        dices = []\n",
    "        for j in range(target.size(0)):\n",
    "            dice = []\n",
    "            for i in range(target.size(1)):\n",
    "                dice.append(self.binary_dice(inputs[j, i], target[j, i], i, True))\n",
    "            dices.append(dice)\n",
    "        return dices"
   ]
  },
  {
   "cell_type": "code",
   "execution_count": 16,
   "metadata": {},
   "outputs": [],
   "source": [
    "def calculate_metrics(preds, targets, patient):\n",
    "    \"\"\"\n",
    "    Parameters\n",
    "    ----------\n",
    "    preds:\n",
    "        torch tensor of size 1*C*Z*Y*X, ours BS*Z*Y*X \n",
    "    targets:\n",
    "        torch tensor of same shape\n",
    "    patient :\n",
    "        The patient ID\n",
    "    \"\"\"\n",
    "\n",
    "    assert preds.shape == targets.shape, \"Preds and targets do not have the same size\"\n",
    "    pp = pprint.PrettyPrinter(indent=4)\n",
    "    \n",
    "    preds, targets = preds.detach().cpu().numpy(), targets.detach().cpu().numpy()\n",
    "\n",
    "    metrics_list = []\n",
    "\n",
    "    metrics = dict(\n",
    "        patient_id=patient,\n",
    "    )\n",
    "    # print(targets.shape, targets.dtype, targets)\n",
    "    \n",
    "    if np.sum(targets) == 0:\n",
    "        print(f\"{label} not present for {patient}\")\n",
    "    else:\n",
    "        tp = np.sum(l_and(preds, targets))\n",
    "        tn = np.sum(l_and(l_not(preds), l_not(targets)))\n",
    "        fp = np.sum(l_and(preds, l_not(targets)))\n",
    "        fn = np.sum(l_and(l_not(preds), targets))\n",
    "\n",
    "        sens = tp / (tp + fn)\n",
    "        spec = tn / (tn + fp)\n",
    "        acc = (tn + tp) / (tn + tp + fn + fp)\n",
    "        dice = 2 * tp / (2 * tp + fp + fn)\n",
    "\n",
    "    metrics[DICE] = dice\n",
    "    metrics[ACC] = acc\n",
    "    metrics[SENS] = sens\n",
    "    metrics[SPEC] = spec\n",
    "    # pp.pprint(metrics)\n",
    "    metrics_list.append(metrics)\n",
    "\n",
    "    return acc, dice, metrics_list\n",
    "\n",
    "\n",
    "DICE = \"dice\"\n",
    "ACC = \"acc\"\n",
    "SENS = \"sens\"\n",
    "SPEC = \"spec\"\n",
    "METRICS = [DICE, ACC, SENS, SPEC]\n"
   ]
  },
  {
   "cell_type": "code",
   "execution_count": 17,
   "metadata": {},
   "outputs": [],
   "source": [
    "def calc_dice(preds, targets):\n",
    "    return (2 * torch.sum(preds * targets)) / ((preds.sum() + preds.sum()) * 1.0)\n",
    "    "
   ]
  },
  {
   "cell_type": "code",
   "execution_count": 18,
   "metadata": {},
   "outputs": [],
   "source": [
    "\n",
    "\n",
    "def plot_metric(train, label, metric_name):\n",
    "    # Plot losses\n",
    "    plt.figure(figsize=(10,8))\n",
    "    plt.semilogy(train, label=label)\n",
    "    plt.xlabel('Epoch')\n",
    "    plt.ylabel(metric_name)\n",
    "    plt.legend()\n",
    "    plt.title(f'Model {metric_name} Plot')\n",
    "    plt.savefig(f'Model_{metric_name}_{label}_Plot.png')\n",
    "    plt.show()\n",
    "    plt.clf()\n",
    "\n",
    "def plot_result(kfolds, num_epochs, fold_train_history, fold_valid_history):\n",
    "    final_fold = {'train_loss':[],'valid_loss':[],'train_acc':[],'valid_acc':[]}\n",
    "\n",
    "    for epoch in range(num_epochs):                                      \n",
    "        final_fold['train_loss'].append(np.mean([fold_train_history[str(fold)]['train_loss'][epoch] for fold in range(kfolds)]))\n",
    "        final_fold['train_acc'].append(np.mean([fold_train_history[str(fold)]['train_acc'][epoch]for fold in range(kfolds)]))\n",
    "\n",
    "    plot_metric(final_fold['train_loss'], 'train', 'Loss')\n",
    "    plot_metric(final_fold['train_acc'], 'validation', 'Accuracy')\n",
    "\n",
    "    final_fold['valid_loss'].append([fold_valid_history[str(fold)]['valid_loss'] for fold in range(kfolds)])\n",
    "    final_fold['valid_acc'].append([fold_valid_history[str(fold)]['valid_acc'] for fold in range(kfolds)])\n",
    "\n",
    "    print(final_fold)"
   ]
  },
  {
   "cell_type": "code",
   "execution_count": 19,
   "metadata": {},
   "outputs": [],
   "source": [
    "def load_checkpoint(path, params):\n",
    "\n",
    "    test_model = UnetModel(params['pretrain_in_channels'],\n",
    "                           params['pretrain_out_channels'],\n",
    "                           params['init_features'], params['norm'],\n",
    "                           params['num_groups'],\n",
    "                           )\n",
    "\n",
    "    test_optimizer = torch.optim.AdamW(test_model.parameters(),\n",
    "                                       lr=params['learning_rate'],\n",
    "                                       )\n",
    "    \n",
    "    use_cuda = torch.cuda.is_available()\n",
    "    if use_cuda:\n",
    "        checkpoint = torch.load(path)\n",
    "    else:\n",
    "        checkpoint = torch.load(path, map_location=torch.device('cpu'))\n",
    "\n",
    "    test_model.load_state_dict(checkpoint['model_state_dict'])\n",
    "    test_optimizer.load_state_dict(checkpoint['optimizer_state_dict'])\n",
    "    epoch = checkpoint['epoch']\n",
    "    loss = checkpoint['loss']\n",
    "\n",
    "    return test_model, test_optimizer, epoch, loss"
   ]
  },
  {
   "cell_type": "code",
   "execution_count": 20,
   "metadata": {},
   "outputs": [],
   "source": [
    "def save_model_folds(model, optimizer, fold, epoch, loss):\n",
    "    # Saving the model\n",
    "    save_path = f'model-fold-{fold}.pth'\n",
    "\n",
    "    checkpoint = {'epoch': epoch,\n",
    "                  'model_state_dict': model.state_dict(),\n",
    "                  'optimizer_state_dict': optimizer.state_dict(),\n",
    "                  'loss': loss,\n",
    "                  }\n",
    "    torch.save(checkpoint, save_path)\n"
   ]
  },
  {
   "cell_type": "code",
   "execution_count": 21,
   "metadata": {},
   "outputs": [],
   "source": [
    "def save_model_nofolds(model, optimizer, epoch, loss, params):\n",
    "    now = datetime.now()\n",
    "    # dd/mm/YY H:M:S\n",
    "    dt_string = now.strftime(\"%d_%H_%M\")\n",
    "\n",
    "    # Saving the model\n",
    "    save_path = f\"model_{params['output_shape']}_{params['run_name']}_{dt_string}.pth\"\n",
    "\n",
    "    checkpoint = {'epoch': epoch,\n",
    "                  'model_state_dict': model.state_dict(),\n",
    "                  'optimizer_state_dict': optimizer.state_dict(),\n",
    "                  'loss': loss,\n",
    "                  'params': params,\n",
    "                  }\n",
    "    torch.save(checkpoint, save_path)"
   ]
  },
  {
   "cell_type": "code",
   "execution_count": 22,
   "metadata": {},
   "outputs": [],
   "source": [
    "def kFoldRunAll(criterion, dataset, params): \n",
    "                \n",
    "    k_folds, num_epochs, train_batch_size = params['k_folds'],\\\n",
    "                                            params['no_epochs'],\\\n",
    "                                            params['train_batch_size']\n",
    "    \n",
    "    use_cuda, loss_name, in_channels, out_channels = params['use_cuda'], \\\n",
    "                                                     params['loss_name'],\\\n",
    "                                                     params['in_channels'],\\\n",
    "                                                     params['out_channels'],\n",
    "\n",
    "    init_features, learning_rate, norm, num_groups = params['init_features'],\\\n",
    "                                                     params['learning_rate'],\\\n",
    "                                                     params['norm'], \\\n",
    "                                                     params['num_groups'],\n",
    "\n",
    "    loss_function = criterion\n",
    "\n",
    "    # Define the K-fold Cross Validator\n",
    "    kfold = KFold(n_splits=k_folds, shuffle=True)\n",
    "\n",
    "    fold_train_history = {}\n",
    "    fold_valid_history = {}\n",
    "    fold_train_and_valid_acc = {}\n",
    "    fold_train_and_valid_loss = {}\n",
    "\n",
    "    print('--------------------------------')\n",
    "    # K-fold Cross Validation model evaluation\n",
    "    for fold, (train_ids, test_ids) in enumerate(kfold.split(dataset)):\n",
    "        print(f'FOLD {fold}')\n",
    "        print('--------------------------------')\n",
    "        # Sample elements randomly from a given list of ids, no replacement.\n",
    "        train_subsampler = torch.utils.data.SubsetRandomSampler(train_ids)\n",
    "        valid_subsampler = torch.utils.data.SubsetRandomSampler(test_ids)\n",
    "\n",
    "        # Define data loaders for training and testing data in this fold\n",
    "        dataloader_train = DataLoader(dataset, batch_size=train_batch_size, sampler=train_subsampler, num_workers=0)\n",
    "        dataloader_valid = DataLoader(dataset, batch_size=train_batch_size, sampler=valid_subsampler, num_workers=0)\n",
    "\n",
    "        # Initialize optimizer and Model\n",
    "        model = UnetModel(in_channels=in_channels, out_channels=out_channels,\n",
    "                          init_features=init_features, norm=norm, num_groups=num_groups)\n",
    "        if use_cuda:\n",
    "            model = model.cuda()\n",
    "        #print(model)\n",
    "        optimizer = torch.optim.Adam(params=model.parameters(), lr=learning_rate)\n",
    "\n",
    "        # Run the training, testing and saving loop for defined number of epochs\n",
    "        start_time = time.time()\n",
    "\n",
    "        t_loss, t_acc, t_history, v_loss, v_acc, v_history = train_test_folds(model, loss_function, optimizer,\n",
    "                                                                               dataloader_train, dataloader_valid,\n",
    "                                                                               fold, num_epochs, use_cuda,\n",
    "                                                                               loss_name)\n",
    "\n",
    "        end_time = time.time()\n",
    "        print(f\"Epoch Time: {end_time - start_time}\")\n",
    "\n",
    "        #Saving loss results \n",
    "        fold_train_and_valid_loss[str(fold)] = [t_loss, v_loss]\n",
    "        fold_train_and_valid_acc[str(fold)] = [t_acc, v_acc]\n",
    "        fold_train_history[str(fold)] = t_history\n",
    "        fold_valid_history[str(fold)] = v_history\n",
    "\n",
    "        # Print accuracy\n",
    "        print(f'Accuracy for fold {fold}: {v_acc}')\n",
    "        print(f'Loss for fold {fold}: {v_loss}')\n",
    "        print('--------------------------------')  \n",
    "\n",
    "    return fold_train_history, fold_valid_history, fold_train_and_valid_loss, fold_train_and_valid_acc\n",
    "  \n"
   ]
  },
  {
   "cell_type": "code",
   "execution_count": 23,
   "metadata": {},
   "outputs": [],
   "source": [
    "def train_test_folds(model, loss_function, optimizer, dataloader_train, dataloader_valid, fold, num_epochs, use_cuda, loss_name):\n",
    "    train_history = {'train_loss': [], 'train_acc':[], 'train_dice':[]}\n",
    "    valid_history = {'valid_loss': [], 'valid_acc':[], 'valid_dice':[]}\n",
    "    best = math.inf\n",
    "\n",
    "    edice = EDiceLoss()\n",
    "    if use_cuda:\n",
    "        edice = edice.cuda()\n",
    "    metric = edice.metric\n",
    "        \n",
    "    for epoch in range(num_epochs):\n",
    "        print(f'Starting Train epoch: {epoch+1}')\n",
    "\n",
    "        train_loss = 0.0\n",
    "        train_acc, train_dice = 0, 0\n",
    "        model.train()\n",
    "\n",
    "        for i, data in enumerate(tqdm.tqdm(dataloader_train)):\n",
    "            (inputs, targets), ID = data\n",
    "            if use_cuda:\n",
    "                inputs, targets = inputs.cuda(), targets.cuda()\n",
    "\n",
    "            optimizer.zero_grad()\n",
    "            outputs = model(inputs)\n",
    "            #print(inputs.shape, outputs.shape, targets.squeeze(1).long().shape)\n",
    "\n",
    "            if loss_name == 'dice':\n",
    "                class_outputs = outputs.argmax(dim=1)\n",
    "                loss = loss_function(class_outputs, targets.squeeze(1).long())\n",
    "                # print(np.unique(class_outputs.detach().numpy()), class_outputs.shape, targets.squeeze(1).shape)\n",
    "            else:\n",
    "                loss = loss_function(outputs, targets.squeeze(1).long())\n",
    "\n",
    "            train_loss += loss.item() * outputs.size(0) #multiplying by batchsize\n",
    "            \n",
    "            rtrain_dice1 = calc_dice(outputs.argmax(dim=1), targets.squeeze(1))\n",
    "            rtrain_acc, rtrain_dice2, _ = calculate_metrics(outputs.argmax(dim=1), targets.squeeze(1), ID)\n",
    "            print(f'Train Dice 1: {rtrain_dice1}, 2: {rtrain_dice2} \\t Acc: {rtrain_acc}')\n",
    "            train_acc += rtrain_acc\n",
    "            train_dice += rtrain_dice1\n",
    "            \n",
    "            print(f'Train Loss :{loss.item()}')\n",
    "\n",
    "            loss.backward()\n",
    "            optimizer.step()\n",
    "           \n",
    "        train_history['train_loss'].append(train_loss / len(dataloader_train.sampler))\n",
    "        train_history['train_acc'].append(train_acc / len(dataloader_train.sampler))\n",
    "        train_history['train_dice'].append(train_dice / len(dataloader_train.sampler))\n",
    "\n",
    "        print(f\"Train Epoch loss: {train_history['train_loss'][-1]}, \\t ACC/DICE :{train_history['train_acc'][-1]}/{train_history['train_dice'][-1]} \")\n",
    "\n",
    "    valid_loss = 0.0\n",
    "    valid_acc, valid_dice = 0, 0\n",
    "           \n",
    "    model.eval()\n",
    "    #! maybe change later to validate after some epochs\n",
    "    with torch.no_grad():\n",
    "        # Iterate over the test data and generate predictions\n",
    "        for i, data in enumerate(tqdm.tqdm(dataloader_valid)):\n",
    "            (inputs, targets), ID = data\n",
    "            if use_cuda:\n",
    "                inputs, targets = inputs.cuda(), targets.cuda() \n",
    "            outputs = model(inputs)\n",
    "\n",
    "            if params['loss_name'] == 'dice':\n",
    "                class_outputs = outputs.argmax(dim=1)\n",
    "                loss = loss_function(class_outputs, targets.squeeze(1).long())\n",
    "                # print(np.unique(class_outputs.detach().numpy()), class_outputs.shape, targets.squeeze(1).shape)\n",
    "            else:\n",
    "                loss = loss_function(outputs, targets.squeeze(1).long())\n",
    "\n",
    "            # print('Valid Loss:', loss.item())\n",
    "            valid_loss += loss.item() * inputs.size(0)\n",
    "            \n",
    "            rvalid_dice1 = calc_dice(outputs.argmax(dim=1), targets.squeeze(1))\n",
    "\n",
    "            rvalid_acc, rvalid_dice2, _ = calculate_metrics(outputs.argmax(dim=1), targets.squeeze(1), ID)\n",
    "            # print(f'Val Dice 1: {rvalid_dice1}, 2: {rvalid_dice2}')\n",
    "            valid_acc += rvalid_acc\n",
    "            valid_dice += rvalid_dice1\n",
    "            \n",
    "        # Print accuracy\n",
    "        print(f'Val Dice : {valid_dice}, len {len(dataloader_valid.sampler)}')\n",
    "        valid_loss /= len(dataloader_valid.sampler) \n",
    "        valid_acc = valid_acc / len(dataloader_valid.sampler)\n",
    "        valid_dice = valid_dice / len(dataloader_valid.sampler)\n",
    "        #print(f\" Fold Accuracy: {valid_acc}\")\n",
    "\n",
    "    valid_history['valid_loss'].append(valid_loss)\n",
    "    valid_history['valid_acc'].append(valid_acc)\n",
    "    valid_history['valid_dice'].append(valid_dice)\n",
    "\n",
    "    print(f\"Val Epoch loss: {valid_history['valid_loss'][-1]} \\t acc/dice:/ {valid_history['valid_acc'][-1]}/ {valid_history['valid_dice'][-1]}\")\n",
    "\n",
    "    # saving best model for this fold\n",
    "    if valid_loss < best:\n",
    "        best = valid_loss\n",
    "        save_model_folds(model, optimizer, fold, epoch, loss)\n",
    "    \n",
    "    \n",
    "    return train_history['train_loss'][-1], train_history['train_acc'][-1], train_history, valid_history['valid_loss'][-1], valid_history['valid_acc'][-1], valid_history\n"
   ]
  },
  {
   "cell_type": "code",
   "execution_count": 24,
   "metadata": {},
   "outputs": [],
   "source": [
    "def train_test_nofolds(model, loss_function, optimizer, dataloader_train, dataloader_valid, params):\n",
    "    train_history = {'train_loss': [], 'train_acc':[], 'train_dice':[]}\n",
    "    valid_history = {'valid_loss': [], 'valid_acc':[], 'valid_dice':[]}\n",
    "    best = math.inf\n",
    "\n",
    "    edice = EDiceLoss()\n",
    "    if params['use_cuda']:\n",
    "        edice = edice.cuda()\n",
    "    metric = edice.metric\n",
    "\n",
    "    #Automatic mixed precision addition\n",
    "    #scaler = torch.cuda.amp.GradScaler()\n",
    "        \n",
    "    for epoch in range(params['no_epochs']):\n",
    "        print(f'Starting Train epoch: {epoch+1}')\n",
    "\n",
    "        train_loss = 0.0\n",
    "        train_acc, train_dice = 0, 0\n",
    "        model.train()\n",
    "\n",
    "        for i, data in enumerate(tqdm.tqdm(dataloader_train)):\n",
    "            (inputs, targets), ID = data\n",
    "            if params['use_cuda']:\n",
    "                inputs, targets = inputs.cuda(), targets.cuda()\n",
    "\n",
    "            optimizer.zero_grad()\n",
    "            #with torch.cuda.amp.autocast(enabled=params['autocast']):\n",
    "            outputs = model(inputs)\n",
    "            #print(inputs.shape, outputs.shape, targets.squeeze(1).long().shape)\n",
    "\n",
    "            if params['loss_name'] == 'dice':\n",
    "                class_outputs = outputs.argmax(dim=1)\n",
    "                loss = loss_function(class_outputs, targets.squeeze(1).long())\n",
    "                # print(np.unique(class_outputs.detach().numpy()), class_outputs.shape, targets.squeeze(1).shape)\n",
    "            else:\n",
    "                loss = loss_function(outputs, targets.squeeze(1).long())\n",
    "\n",
    "            train_loss += loss.item() * outputs.size(0) # multiplying by batchsize\n",
    "            \n",
    "            rtrain_dice1 = calc_dice(outputs.argmax(dim=1), targets.squeeze(1))\n",
    "            rtrain_acc, rtrain_dice2, _ = calculate_metrics(outputs.argmax(dim=1), targets.squeeze(1), ID)\n",
    "\n",
    "            if i % 10 == 0:\n",
    "                print(f'Train Dice 1: {rtrain_dice1}, 2: {rtrain_dice2} \\t Acc: {rtrain_acc}')\n",
    "\n",
    "            train_acc += rtrain_acc\n",
    "            train_dice += rtrain_dice1\n",
    "            if i % 10 == 0:\n",
    "                print(f'Train Loss :{loss.item()}')\n",
    "            \n",
    "            #scaler.scale(loss).backward()\n",
    "            #scaler.step(optimizer)\n",
    "            #scaler.update()\n",
    "            loss.backward()\n",
    "            optimizer.step()\n",
    "           \n",
    "        train_history['train_loss'].append(train_loss / len(dataloader_train.sampler))\n",
    "        train_history['train_acc'].append(train_acc / len(dataloader_train.sampler))\n",
    "        train_history['train_dice'].append(train_dice / len(dataloader_train.sampler))\n",
    "\n",
    "        print(f\"Train Epoch loss: {train_history['train_loss'][-1]}, \\t ACC/DICE :{train_history['train_acc'][-1]}/{train_history['train_dice'][-1]} \")\n",
    "          \n",
    "        if epoch % (.1 * params['no_epochs']) == 0:\n",
    "            valid_loss = 0.0\n",
    "            valid_acc, valid_dice = 0, 0\n",
    "            model.eval()\n",
    "\n",
    "            with torch.no_grad():\n",
    "                # Iterate over the test data and generate predictions\n",
    "                for i, data in enumerate(tqdm.tqdm(dataloader_valid)):\n",
    "                    (inputs, targets), ID = data\n",
    "                    if params['use_cuda']:\n",
    "                        inputs, targets = inputs.cuda(), targets.cuda() \n",
    "                      \n",
    "                    #with torch.cuda.amp.autocast(enabled=params['autocast']):\n",
    "                    outputs = model(inputs)\n",
    "\n",
    "                    if params['loss_name'] == 'dice':\n",
    "                        class_outputs = outputs.argmax(dim=1)\n",
    "                        loss = loss_function(class_outputs, targets.squeeze(1).long())\n",
    "                        # print(np.unique(class_outputs.detach().numpy()), class_outputs.shape, targets.squeeze(1).shape)\n",
    "                    else:\n",
    "                        loss = loss_function(outputs, targets.squeeze(1).long())\n",
    "\n",
    "                    # print('Valid Loss:', loss.item())\n",
    "                    valid_loss += loss.item() * inputs.size(0)\n",
    "                    \n",
    "                    rvalid_dice1 = calc_dice(outputs.argmax(dim=1), targets.squeeze(1))\n",
    "\n",
    "                    rvalid_acc, rvalid_dice2, _ = calculate_metrics(outputs.argmax(dim=1), targets.squeeze(1), ID)\n",
    "                    # print(f'Val Dice 1: {rvalid_dice1}, 2: {rvalid_dice2}')\n",
    "                    valid_acc += rvalid_acc\n",
    "                    valid_dice += rvalid_dice1\n",
    "                    \n",
    "                # Print accuracy\n",
    "                print(f'Val Dice : {valid_dice}, len {len(dataloader_valid.sampler)}')\n",
    "                valid_loss /= len(dataloader_valid.sampler) \n",
    "                valid_acc = valid_acc / len(dataloader_valid.sampler)\n",
    "                valid_dice = valid_dice / len(dataloader_valid.sampler)\n",
    "\n",
    "            valid_history['valid_loss'].append(valid_loss)\n",
    "            valid_history['valid_acc'].append(valid_acc)\n",
    "            valid_history['valid_dice'].append(valid_dice)\n",
    "\n",
    "            print(f\"Val Epoch loss: {valid_history['valid_loss'][-1]} \\t acc/dice:/ {valid_history['valid_acc'][-1]}/ {valid_history['valid_dice'][-1]}\")\n",
    "\n",
    "            # saving best model for this fold\n",
    "            if valid_loss < best:\n",
    "                best = valid_loss\n",
    "                save_model_nofolds(model, optimizer, epoch, loss, params)\n",
    "    \n",
    "    \n",
    "    return train_history['train_loss'][-1], train_history['train_acc'][-1], train_history, valid_history['valid_loss'][-1], valid_history['valid_acc'][-1], valid_history\n"
   ]
  },
  {
   "cell_type": "code",
   "execution_count": 25,
   "metadata": {},
   "outputs": [],
   "source": [
    "def kfolds(params):\n",
    "    \n",
    "    if params['loss_name'] == 'ce':\n",
    "        criterion = CrossEntropyLoss()\n",
    "    elif params['loss_name'] == 'wce':\n",
    "        wisdom_weights = [1, 355.36116969, 74.37872817, 254.58104099]\n",
    "        nick_weights = [ 1.        ,  8.9263424 ,  7.79622053, 31.17438108]\n",
    "        criterion = CrossEntropyLoss(weight=torch.Tensor(nick_weights))\n",
    "    else:\n",
    "        criterion = EDiceLoss().cuda()\n",
    "      \n",
    "    if params['use_cuda']:\n",
    "        criterion.cuda()\n",
    "    \n",
    "    train_df, valid_df, _ = read_dataframe(params)\n",
    "\n",
    "    train_valid_df = pd.concat([train_df, valid_df])\n",
    "\n",
    "    train_valid_dataset = retrieve_dataset(train_valid_df)\n",
    "\n",
    "    t_history, v_history, tv_loss, tv_acc = kFoldRunAll(criterion, \n",
    "                                                        train_valid_dataset,\n",
    "                                                        params)\n",
    "    \n",
    "    plot_result(k_folds, no_epochs, t_history, v_history)\n",
    "\n",
    "    return t_history, v_history, tv_loss, tv_acc"
   ]
  },
  {
   "cell_type": "code",
   "execution_count": 26,
   "metadata": {},
   "outputs": [],
   "source": [
    "def transfer(path, params):\n",
    "    \n",
    "    if params['loss_name'] == 'ce':\n",
    "        criterion = CrossEntropyLoss()\n",
    "    elif params['loss_name'] == 'wce':\n",
    "        criterion = CrossEntropyLoss(weight=torch.Tensor([1, 355.36116969, 74.37872817, 254.58104099]))\n",
    "    else:\n",
    "        criterion = EDiceLoss().cuda()\n",
    "    \n",
    "    model, optimizer, _, __ = load_checkpoint(path, params)\n",
    "\n",
    "    # Transfer by changing(replacing) only last layer and finetuning to outdim=4\n",
    "    model.decoder.final_conv = ConvBlock(in_channels=params['pretrain_in_final_conv'], \n",
    "                                          out_channels=params['out_channels'],\n",
    "                                          norm=params['norm'],\n",
    "                                          num_groups=params['num_groups'])\n",
    "\n",
    "    model.decoder.module_dict.final_conv = ConvBlock(in_channels=params['pretrain_in_final_conv'], \n",
    "                                          out_channels=params['out_channels'],\n",
    "                                          norm=params['norm'],\n",
    "                                          num_groups=params['num_groups'])\n",
    "\n",
    "    if params['use_cuda']:\n",
    "        model.cuda()\n",
    "        criterion.cuda()\n",
    "    \n",
    "    dataloader_train, dataloader_valid, _ = get_data(params)\n",
    "    \n",
    "    t_loss, t_acc, t_history, v_loss, v_acc, v_history = train_test_nofolds(\n",
    "                                                model, criterion, optimizer,\n",
    "                                                dataloader_train, dataloader_valid,\n",
    "                                                params\n",
    "                                                )\n",
    "\n",
    "    # plot_result(k_folds, params['no_epochs'], t_history, v_history)\n",
    "\n",
    "    return t_loss, t_acc, t_history, v_loss, v_acc, v_history"
   ]
  },
  {
   "cell_type": "code",
   "execution_count": 27,
   "metadata": {},
   "outputs": [],
   "source": [
    "def learn_from_scratch(params):\n",
    "    \n",
    "    if params['loss_name'] == 'ce':\n",
    "        criterion = CrossEntropyLoss()\n",
    "    elif params['loss_name'] == 'wce':\n",
    "        criterion = CrossEntropyLoss(weight=torch.Tensor([1, 355.36116969, 74.37872817, 254.58104099]))\n",
    "    else:\n",
    "        criterion = EDiceLoss()\n",
    "    \n",
    "\n",
    "\n",
    "    model = UnetModel(params['in_channels'],\n",
    "                      params['out_channels'],\n",
    "                      params['init_features'],\n",
    "                      params['norm'],\n",
    "                      params['num_groups'],\n",
    "                      )\n",
    "\n",
    "    optimizer = torch.optim.AdamW(model.parameters(),\n",
    "                                  lr=params['learning_rate'],\n",
    "                                  )\n",
    "\n",
    "    if params['use_cuda']:\n",
    "        model.cuda()\n",
    "        criterion.cuda()\n",
    "    \n",
    "    dataloader_train, dataloader_valid, _ = get_data(params)\n",
    "    \n",
    "    t_loss, t_acc, t_history, v_loss, v_acc, v_history = train_test_nofolds(\n",
    "                                                model, criterion, optimizer,\n",
    "                                                dataloader_train, dataloader_valid,\n",
    "                                                params\n",
    "                                                )\n",
    "\n",
    "    # plot_result(k_folds, params['no_epochs'], t_history, v_history)\n",
    "\n",
    "    return t_loss, t_acc, t_history, v_loss, v_acc, v_history"
   ]
  },
  {
   "cell_type": "code",
   "execution_count": 28,
   "metadata": {},
   "outputs": [],
   "source": [
    "def get_params():\n",
    "\n",
    "    if platform.system() == 'Windows':\n",
    "        image_dir = r\"C:\\Users\\wisdomik\\Documents\\project\\MICCAI_BraTS2020_TrainingData\"\n",
    "    else:\n",
    "        image_dir = '../../data/data/mri/MICCAI_BraTS2020_TrainingData/'\n",
    "    \n",
    "    use_cuda = torch.cuda.is_available()\n",
    "\n",
    "    params = {'run_name': 'run_1',\n",
    "              'in_channels': 4,\n",
    "              'out_channels': 4,\n",
    "              'no_epochs': 20,\n",
    "              'k_folds': 5,\n",
    "              'learning_rate': 5e-4, # 1e-4,\n",
    "              'loss_name': 'wce',\n",
    "              'output_shape': 'all',\n",
    "              'tr_va_te_split': [75, 25, 0],\n",
    "              'pretrain_in_channels': 4,\n",
    "              'pretrain_out_channels': 2,\n",
    "              'pretrain_in_final_conv': 16,\n",
    "              'init_features': 8,\n",
    "              'train_batch_size': 1,\n",
    "              'autocast': False, # not in use\n",
    "              'test_batch_size': 1,\n",
    "              'norm': 'g',\n",
    "              'num_groups': 4,\n",
    "              'channels': 4,\n",
    "              'resize_shape': (144, 144, 144), # 128\n",
    "              'image_dir': image_dir,\n",
    "              'use_cuda': use_cuda\n",
    "              }\n",
    "              \n",
    "    return params\n",
    "\n"
   ]
  },
  {
   "cell_type": "code",
   "execution_count": null,
   "metadata": {},
   "outputs": [],
   "source": []
  },
  {
   "cell_type": "code",
   "execution_count": 30,
   "metadata": {},
   "outputs": [
    {
     "data": {
      "text/plain": [
       "{'run_name': 'run_1',\n",
       " 'in_channels': 4,\n",
       " 'out_channels': 4,\n",
       " 'no_epochs': 20,\n",
       " 'k_folds': 5,\n",
       " 'learning_rate': 0.0005,\n",
       " 'loss_name': 'wce',\n",
       " 'output_shape': 'all',\n",
       " 'tr_va_te_split': [75, 25, 0],\n",
       " 'pretrain_in_channels': 4,\n",
       " 'pretrain_out_channels': 2,\n",
       " 'pretrain_in_final_conv': 16,\n",
       " 'init_features': 8,\n",
       " 'train_batch_size': 1,\n",
       " 'autocast': False,\n",
       " 'test_batch_size': 1,\n",
       " 'norm': 'g',\n",
       " 'num_groups': 4,\n",
       " 'channels': 4,\n",
       " 'resize_shape': (144, 144, 144),\n",
       " 'image_dir': '../../data/data/mri/MICCAI_BraTS2020_TrainingData/',\n",
       " 'use_cuda': True}"
      ]
     },
     "execution_count": 30,
     "metadata": {},
     "output_type": "execute_result"
    }
   ],
   "source": [
    "# set params then run this\n",
    "\n",
    "#load in trained model for evaluation\n",
    "# fold_to_check = 9\n",
    "# PATH = f'drive/MyDrive/Colab Notebooks/model-fold-{fold_to_check}.pth'\n",
    "\n",
    "params = get_params()\n",
    "params"
   ]
  },
  {
   "cell_type": "code",
   "execution_count": null,
   "metadata": {},
   "outputs": [],
   "source": []
  },
  {
   "cell_type": "code",
   "execution_count": 31,
   "metadata": {
    "scrolled": true
   },
   "outputs": [
    {
     "name": "stderr",
     "output_type": "stream",
     "text": [
      "\r",
      "  0%|          | 0/276 [00:00<?, ?it/s]"
     ]
    },
    {
     "name": "stdout",
     "output_type": "stream",
     "text": [
      "Data is split into train: 276, validation: 92 and test: 1\n",
      "Starting Train epoch: 1\n",
      "Train Dice 1: 0.025612566620111465, 2: 0.04134624607639819 \t Acc: 0.22347474065500686\n",
      "Train Loss :1.4356637001037598\n"
     ]
    },
    {
     "name": "stderr",
     "output_type": "stream",
     "text": [
      "  4%|▍         | 11/276 [00:49<19:16,  4.37s/it]"
     ]
    },
    {
     "name": "stdout",
     "output_type": "stream",
     "text": [
      "Train Dice 1: 0.04484144598245621, 2: 0.04583972751076452 \t Acc: 0.32659250685871055\n",
      "Train Loss :1.5656408071517944\n"
     ]
    },
    {
     "name": "stderr",
     "output_type": "stream",
     "text": [
      "  8%|▊         | 21/276 [01:35<21:54,  5.15s/it]"
     ]
    },
    {
     "name": "stdout",
     "output_type": "stream",
     "text": [
      "Train Dice 1: 0.2602895498275757, 2: 0.1457800531548134 \t Acc: 0.2697770651148834\n",
      "Train Loss :1.2823047637939453\n"
     ]
    },
    {
     "name": "stderr",
     "output_type": "stream",
     "text": [
      " 11%|█         | 31/276 [02:17<16:19,  4.00s/it]"
     ]
    },
    {
     "name": "stdout",
     "output_type": "stream",
     "text": [
      "Train Dice 1: 0.18175466358661652, 2: 0.12217224938362517 \t Acc: 0.3692276984739369\n",
      "Train Loss :1.2618675231933594\n"
     ]
    },
    {
     "name": "stderr",
     "output_type": "stream",
     "text": [
      " 15%|█▍        | 41/276 [03:00<16:33,  4.23s/it]"
     ]
    },
    {
     "name": "stdout",
     "output_type": "stream",
     "text": [
      "Train Dice 1: 0.24503342807292938, 2: 0.17270304096122435 \t Acc: 0.38746255840620714\n",
      "Train Loss :1.26203191280365\n"
     ]
    },
    {
     "name": "stderr",
     "output_type": "stream",
     "text": [
      " 18%|█▊        | 51/276 [03:42<15:21,  4.10s/it]"
     ]
    },
    {
     "name": "stdout",
     "output_type": "stream",
     "text": [
      "Train Dice 1: 0.025027401745319366, 2: 0.027662905549296242 \t Acc: 0.48958802190500683\n",
      "Train Loss :1.3376550674438477\n"
     ]
    },
    {
     "name": "stderr",
     "output_type": "stream",
     "text": [
      " 22%|██▏       | 61/276 [04:26<14:49,  4.14s/it]"
     ]
    },
    {
     "name": "stdout",
     "output_type": "stream",
     "text": [
      "Train Dice 1: 0.20477481186389923, 2: 0.1346265987266496 \t Acc: 0.39267792459705075\n",
      "Train Loss :1.198861002922058\n"
     ]
    },
    {
     "name": "stderr",
     "output_type": "stream",
     "text": [
      " 26%|██▌       | 71/276 [05:11<14:33,  4.26s/it]"
     ]
    },
    {
     "name": "stdout",
     "output_type": "stream",
     "text": [
      "Train Dice 1: 0.05887152627110481, 2: 0.0923110919297697 \t Acc: 0.2378941079389575\n",
      "Train Loss :1.4800654649734497\n"
     ]
    },
    {
     "name": "stderr",
     "output_type": "stream",
     "text": [
      " 29%|██▉       | 81/276 [05:52<12:50,  3.95s/it]"
     ]
    },
    {
     "name": "stdout",
     "output_type": "stream",
     "text": [
      "Train Dice 1: 0.2516501843929291, 2: 0.17371050757934553 \t Acc: 0.5588666918509945\n",
      "Train Loss :1.296236515045166\n"
     ]
    },
    {
     "name": "stderr",
     "output_type": "stream",
     "text": [
      " 33%|███▎      | 91/276 [06:39<15:09,  4.92s/it]"
     ]
    },
    {
     "name": "stdout",
     "output_type": "stream",
     "text": [
      "Train Dice 1: 0.10976696014404297, 2: 0.08725294563111914 \t Acc: 0.5709243586033951\n",
      "Train Loss :1.1908483505249023\n"
     ]
    },
    {
     "name": "stderr",
     "output_type": "stream",
     "text": [
      " 37%|███▋      | 101/276 [07:23<13:36,  4.67s/it]"
     ]
    },
    {
     "name": "stdout",
     "output_type": "stream",
     "text": [
      "Train Dice 1: 0.08324765413999557, 2: 0.08450888983787337 \t Acc: 0.5699471263074417\n",
      "Train Loss :1.2389973402023315\n"
     ]
    },
    {
     "name": "stderr",
     "output_type": "stream",
     "text": [
      " 40%|████      | 111/276 [08:05<11:03,  4.02s/it]"
     ]
    },
    {
     "name": "stdout",
     "output_type": "stream",
     "text": [
      "Train Dice 1: 0.03660077974200249, 2: 0.03002300921416027 \t Acc: 0.5348129795739026\n",
      "Train Loss :1.3444405794143677\n"
     ]
    },
    {
     "name": "stderr",
     "output_type": "stream",
     "text": [
      " 44%|████▍     | 121/276 [08:49<12:35,  4.87s/it]"
     ]
    },
    {
     "name": "stdout",
     "output_type": "stream",
     "text": [
      "Train Dice 1: 0.06960099190473557, 2: 0.1286918751426536 \t Acc: 0.5781136134687929\n",
      "Train Loss :1.3693088293075562\n"
     ]
    },
    {
     "name": "stderr",
     "output_type": "stream",
     "text": [
      " 47%|████▋     | 131/276 [09:35<11:01,  4.56s/it]"
     ]
    },
    {
     "name": "stdout",
     "output_type": "stream",
     "text": [
      "Train Dice 1: 0.04361986368894577, 2: 0.04236256569219014 \t Acc: 0.44802617830504116\n",
      "Train Loss :1.340135931968689\n"
     ]
    },
    {
     "name": "stderr",
     "output_type": "stream",
     "text": [
      " 51%|█████     | 141/276 [10:20<09:47,  4.35s/it]"
     ]
    },
    {
     "name": "stdout",
     "output_type": "stream",
     "text": [
      "Train Dice 1: 0.22386065125465393, 2: 0.176724858763672 \t Acc: 0.5993719323345336\n",
      "Train Loss :1.334633469581604\n"
     ]
    },
    {
     "name": "stderr",
     "output_type": "stream",
     "text": [
      " 55%|█████▍    | 151/276 [11:03<09:54,  4.76s/it]"
     ]
    },
    {
     "name": "stdout",
     "output_type": "stream",
     "text": [
      "Train Dice 1: 0.03826045244932175, 2: 0.04810582835226549 \t Acc: 0.5721078880529835\n",
      "Train Loss :1.3024797439575195\n"
     ]
    },
    {
     "name": "stderr",
     "output_type": "stream",
     "text": [
      " 58%|█████▊    | 161/276 [11:47<08:07,  4.24s/it]"
     ]
    },
    {
     "name": "stdout",
     "output_type": "stream",
     "text": [
      "Train Dice 1: 0.3015596866607666, 2: 0.22634078200147514 \t Acc: 0.6423939311128258\n",
      "Train Loss :1.1875072717666626\n"
     ]
    },
    {
     "name": "stderr",
     "output_type": "stream",
     "text": [
      " 62%|██████▏   | 171/276 [12:27<06:57,  3.98s/it]"
     ]
    },
    {
     "name": "stdout",
     "output_type": "stream",
     "text": [
      "Train Dice 1: 0.025298211723566055, 2: 0.024192793601452687 \t Acc: 0.55655991458762\n",
      "Train Loss :1.3353639841079712\n"
     ]
    },
    {
     "name": "stderr",
     "output_type": "stream",
     "text": [
      " 66%|██████▌   | 181/276 [13:11<06:56,  4.38s/it]"
     ]
    },
    {
     "name": "stdout",
     "output_type": "stream",
     "text": [
      "Train Dice 1: 0.07488054782152176, 2: 0.06712615454131972 \t Acc: 0.5796246731395748\n",
      "Train Loss :1.2962720394134521\n"
     ]
    },
    {
     "name": "stderr",
     "output_type": "stream",
     "text": [
      " 69%|██████▉   | 191/276 [13:54<06:04,  4.28s/it]"
     ]
    },
    {
     "name": "stdout",
     "output_type": "stream",
     "text": [
      "Train Dice 1: 0.05659623071551323, 2: 0.08512300218022008 \t Acc: 0.5716587898662552\n",
      "Train Loss :1.2953600883483887\n"
     ]
    },
    {
     "name": "stderr",
     "output_type": "stream",
     "text": [
      " 73%|███████▎  | 201/276 [14:40<06:06,  4.89s/it]"
     ]
    },
    {
     "name": "stdout",
     "output_type": "stream",
     "text": [
      "Train Dice 1: 0.14607951045036316, 2: 0.13795470144131777 \t Acc: 0.589463305898491\n",
      "Train Loss :1.3400055170059204\n"
     ]
    },
    {
     "name": "stderr",
     "output_type": "stream",
     "text": [
      " 76%|███████▋  | 211/276 [15:22<04:24,  4.07s/it]"
     ]
    },
    {
     "name": "stdout",
     "output_type": "stream",
     "text": [
      "Train Dice 1: 0.07948766648769379, 2: 0.11207326320983713 \t Acc: 0.590217831039952\n",
      "Train Loss :1.330883502960205\n"
     ]
    },
    {
     "name": "stderr",
     "output_type": "stream",
     "text": [
      " 80%|████████  | 221/276 [16:05<03:42,  4.05s/it]"
     ]
    },
    {
     "name": "stdout",
     "output_type": "stream",
     "text": [
      "Train Dice 1: 0.22275646030902863, 2: 0.2226019650206448 \t Acc: 0.6489763508444787\n",
      "Train Loss :1.198224663734436\n"
     ]
    },
    {
     "name": "stderr",
     "output_type": "stream",
     "text": [
      " 84%|████████▎ | 231/276 [16:48<03:18,  4.42s/it]"
     ]
    },
    {
     "name": "stdout",
     "output_type": "stream",
     "text": [
      "Train Dice 1: 0.05495570972561836, 2: 0.045874751642744 \t Acc: 0.5812140989368999\n",
      "Train Loss :1.194611668586731\n"
     ]
    },
    {
     "name": "stderr",
     "output_type": "stream",
     "text": [
      " 87%|████████▋ | 241/276 [17:28<02:28,  4.24s/it]"
     ]
    },
    {
     "name": "stdout",
     "output_type": "stream",
     "text": [
      "Train Dice 1: 0.008762557990849018, 2: 0.00938763014966136 \t Acc: 0.517757295417524\n",
      "Train Loss :1.3486034870147705\n"
     ]
    },
    {
     "name": "stderr",
     "output_type": "stream",
     "text": [
      " 91%|█████████ | 251/276 [18:09<01:50,  4.40s/it]"
     ]
    },
    {
     "name": "stdout",
     "output_type": "stream",
     "text": [
      "Train Dice 1: 0.060977786779403687, 2: 0.0686034479159522 \t Acc: 0.581607938957476\n",
      "Train Loss :1.280258059501648\n"
     ]
    },
    {
     "name": "stderr",
     "output_type": "stream",
     "text": [
      " 95%|█████████▍| 261/276 [18:49<00:59,  3.95s/it]"
     ]
    },
    {
     "name": "stdout",
     "output_type": "stream",
     "text": [
      "Train Dice 1: 0.10280238091945648, 2: 0.09020203181905309 \t Acc: 0.6026087212791496\n",
      "Train Loss :1.336519479751587\n"
     ]
    },
    {
     "name": "stderr",
     "output_type": "stream",
     "text": [
      " 98%|█████████▊| 271/276 [19:30<00:21,  4.20s/it]"
     ]
    },
    {
     "name": "stdout",
     "output_type": "stream",
     "text": [
      "Train Dice 1: 0.2011374831199646, 2: 0.17527629594615887 \t Acc: 0.6318801440329218\n",
      "Train Loss :1.151358723640442\n"
     ]
    },
    {
     "name": "stderr",
     "output_type": "stream",
     "text": [
      "100%|██████████| 276/276 [19:52<00:00,  4.32s/it]\n",
      "  0%|          | 0/92 [00:00<?, ?it/s]"
     ]
    },
    {
     "name": "stdout",
     "output_type": "stream",
     "text": [
      "Train Epoch loss: 1.2970670500527257, \t ACC/DICE :0.5110606354336732/0.11756820976734161 \n"
     ]
    },
    {
     "name": "stderr",
     "output_type": "stream",
     "text": [
      "100%|██████████| 92/92 [06:30<00:00,  4.24s/it]\n"
     ]
    },
    {
     "name": "stdout",
     "output_type": "stream",
     "text": [
      "Val Dice : 10.687841415405273, len 92\n",
      "Val Epoch loss: 1.2212159361528314 \t acc/dice:/ 0.5991750341654177/ 0.116172194480896\n"
     ]
    },
    {
     "name": "stderr",
     "output_type": "stream",
     "text": [
      "\r",
      "  0%|          | 0/276 [00:00<?, ?it/s]"
     ]
    },
    {
     "name": "stdout",
     "output_type": "stream",
     "text": [
      "Starting Train epoch: 2\n"
     ]
    },
    {
     "name": "stderr",
     "output_type": "stream",
     "text": [
      "\r",
      "  0%|          | 1/276 [00:03<15:42,  3.43s/it]"
     ]
    },
    {
     "name": "stdout",
     "output_type": "stream",
     "text": [
      "Train Dice 1: 0.12764644622802734, 2: 0.10902627672595641 \t Acc: 0.5875229070216049\n",
      "Train Loss :1.3156973123550415\n"
     ]
    },
    {
     "name": "stderr",
     "output_type": "stream",
     "text": [
      "  4%|▍         | 11/276 [00:38<15:43,  3.56s/it]"
     ]
    },
    {
     "name": "stdout",
     "output_type": "stream",
     "text": [
      "Train Dice 1: 0.08103632926940918, 2: 0.08936985489363504 \t Acc: 0.5966441883144719\n",
      "Train Loss :1.1962621212005615\n"
     ]
    },
    {
     "name": "stderr",
     "output_type": "stream",
     "text": [
      "  8%|▊         | 21/276 [01:15<15:39,  3.68s/it]"
     ]
    },
    {
     "name": "stdout",
     "output_type": "stream",
     "text": [
      "Train Dice 1: 0.12764474749565125, 2: 0.1312088920079816 \t Acc: 0.6111161345807613\n",
      "Train Loss :1.2037479877471924\n"
     ]
    },
    {
     "name": "stderr",
     "output_type": "stream",
     "text": [
      " 11%|█         | 31/276 [01:53<15:30,  3.80s/it]"
     ]
    },
    {
     "name": "stdout",
     "output_type": "stream",
     "text": [
      "Train Dice 1: 0.03200957924127579, 2: 0.036242230105894585 \t Acc: 0.6138867455418381\n",
      "Train Loss :1.325472116470337\n"
     ]
    },
    {
     "name": "stderr",
     "output_type": "stream",
     "text": [
      " 15%|█▍        | 41/276 [02:31<15:03,  3.85s/it]"
     ]
    },
    {
     "name": "stdout",
     "output_type": "stream",
     "text": [
      "Train Dice 1: 0.1765252947807312, 2: 0.13508241139940663 \t Acc: 0.6048843530306928\n",
      "Train Loss :1.1847271919250488\n"
     ]
    },
    {
     "name": "stderr",
     "output_type": "stream",
     "text": [
      " 18%|█▊        | 51/276 [03:09<14:23,  3.84s/it]"
     ]
    },
    {
     "name": "stdout",
     "output_type": "stream",
     "text": [
      "Train Dice 1: 0.10857203602790833, 2: 0.10405215754976098 \t Acc: 0.6211446544924554\n",
      "Train Loss :1.3132230043411255\n"
     ]
    },
    {
     "name": "stderr",
     "output_type": "stream",
     "text": [
      " 22%|██▏       | 61/276 [03:48<13:46,  3.85s/it]"
     ]
    },
    {
     "name": "stdout",
     "output_type": "stream",
     "text": [
      "Train Dice 1: 0.10438639670610428, 2: 0.12099078953775391 \t Acc: 0.6070357376328875\n",
      "Train Loss :1.1853020191192627\n"
     ]
    },
    {
     "name": "stderr",
     "output_type": "stream",
     "text": [
      " 26%|██▌       | 71/276 [04:26<13:07,  3.84s/it]"
     ]
    },
    {
     "name": "stdout",
     "output_type": "stream",
     "text": [
      "Train Dice 1: 0.15807104110717773, 2: 0.2559194116352432 \t Acc: 0.6739145286779835\n",
      "Train Loss :1.1372126340866089\n"
     ]
    },
    {
     "name": "stderr",
     "output_type": "stream",
     "text": [
      " 29%|██▉       | 81/276 [05:05<12:33,  3.86s/it]"
     ]
    },
    {
     "name": "stdout",
     "output_type": "stream",
     "text": [
      "Train Dice 1: 0.23200677335262299, 2: 0.19812771017939756 \t Acc: 0.6296597704475309\n",
      "Train Loss :1.305237054824829\n"
     ]
    },
    {
     "name": "stderr",
     "output_type": "stream",
     "text": [
      " 33%|███▎      | 91/276 [05:44<11:56,  3.87s/it]"
     ]
    },
    {
     "name": "stdout",
     "output_type": "stream",
     "text": [
      "Train Dice 1: 0.16071465611457825, 2: 0.1780377718178505 \t Acc: 0.6170552152992113\n",
      "Train Loss :1.2612611055374146\n"
     ]
    },
    {
     "name": "stderr",
     "output_type": "stream",
     "text": [
      " 37%|███▋      | 101/276 [06:22<11:15,  3.86s/it]"
     ]
    },
    {
     "name": "stdout",
     "output_type": "stream",
     "text": [
      "Train Dice 1: 0.05371512472629547, 2: 0.04803452435497558 \t Acc: 0.6096439230752744\n",
      "Train Loss :1.1879056692123413\n"
     ]
    },
    {
     "name": "stderr",
     "output_type": "stream",
     "text": [
      " 40%|████      | 111/276 [07:01<10:38,  3.87s/it]"
     ]
    },
    {
     "name": "stdout",
     "output_type": "stream",
     "text": [
      "Train Dice 1: 0.045875389128923416, 2: 0.036592739312321 \t Acc: 0.578435115526406\n",
      "Train Loss :1.325801134109497\n"
     ]
    },
    {
     "name": "stderr",
     "output_type": "stream",
     "text": [
      " 44%|████▍     | 121/276 [07:39<09:58,  3.86s/it]"
     ]
    },
    {
     "name": "stdout",
     "output_type": "stream",
     "text": [
      "Train Dice 1: 0.24962204694747925, 2: 0.19377168162561043 \t Acc: 0.6285073865097737\n",
      "Train Loss :1.1404602527618408\n"
     ]
    },
    {
     "name": "stderr",
     "output_type": "stream",
     "text": [
      " 47%|████▋     | 131/276 [08:18<09:22,  3.88s/it]"
     ]
    },
    {
     "name": "stdout",
     "output_type": "stream",
     "text": [
      "Train Dice 1: 0.12211979925632477, 2: 0.1183220794427104 \t Acc: 0.6408982767489712\n",
      "Train Loss :1.3038662672042847\n"
     ]
    },
    {
     "name": "stderr",
     "output_type": "stream",
     "text": [
      " 51%|█████     | 141/276 [08:57<08:42,  3.87s/it]"
     ]
    },
    {
     "name": "stdout",
     "output_type": "stream",
     "text": [
      "Train Dice 1: 0.02604909986257553, 2: 0.02385678484468652 \t Acc: 0.5960095566486625\n",
      "Train Loss :1.2795342206954956\n"
     ]
    },
    {
     "name": "stderr",
     "output_type": "stream",
     "text": [
      " 55%|█████▍    | 151/276 [09:35<08:03,  3.86s/it]"
     ]
    },
    {
     "name": "stdout",
     "output_type": "stream",
     "text": [
      "Train Dice 1: 0.019579054787755013, 2: 0.02007707231013126 \t Acc: 0.5781169624485597\n",
      "Train Loss :1.3551989793777466\n"
     ]
    },
    {
     "name": "stderr",
     "output_type": "stream",
     "text": [
      " 58%|█████▊    | 161/276 [10:14<07:25,  3.87s/it]"
     ]
    },
    {
     "name": "stdout",
     "output_type": "stream",
     "text": [
      "Train Dice 1: 0.16179072856903076, 2: 0.17550235934292713 \t Acc: 0.6493085696373457\n",
      "Train Loss :1.1518036127090454\n"
     ]
    },
    {
     "name": "stderr",
     "output_type": "stream",
     "text": [
      " 62%|██████▏   | 171/276 [10:52<06:44,  3.85s/it]"
     ]
    },
    {
     "name": "stdout",
     "output_type": "stream",
     "text": [
      "Train Dice 1: 0.13935935497283936, 2: 0.11614697567771047 \t Acc: 0.6375064300411523\n",
      "Train Loss :1.2370798587799072\n"
     ]
    },
    {
     "name": "stderr",
     "output_type": "stream",
     "text": [
      " 66%|██████▌   | 181/276 [11:31<06:07,  3.86s/it]"
     ]
    },
    {
     "name": "stdout",
     "output_type": "stream",
     "text": [
      "Train Dice 1: 0.009681533090770245, 2: 0.010952637028356783 \t Acc: 0.5873172796639232\n",
      "Train Loss :1.322075366973877\n"
     ]
    },
    {
     "name": "stderr",
     "output_type": "stream",
     "text": [
      " 69%|██████▉   | 191/276 [12:10<05:28,  3.86s/it]"
     ]
    },
    {
     "name": "stdout",
     "output_type": "stream",
     "text": [
      "Train Dice 1: 0.07612819969654083, 2: 0.07360801464100014 \t Acc: 0.6628203634044925\n",
      "Train Loss :1.3070441484451294\n"
     ]
    },
    {
     "name": "stderr",
     "output_type": "stream",
     "text": [
      " 73%|███████▎  | 201/276 [12:48<04:50,  3.87s/it]"
     ]
    },
    {
     "name": "stdout",
     "output_type": "stream",
     "text": [
      "Train Dice 1: 0.05731318145990372, 2: 0.06451498467476445 \t Acc: 0.6467469350137174\n",
      "Train Loss :1.253334641456604\n"
     ]
    },
    {
     "name": "stderr",
     "output_type": "stream",
     "text": [
      " 76%|███████▋  | 211/276 [13:27<04:12,  3.88s/it]"
     ]
    },
    {
     "name": "stdout",
     "output_type": "stream",
     "text": [
      "Train Dice 1: 0.10656635463237762, 2: 0.07337714365245653 \t Acc: 0.5875125251843278\n",
      "Train Loss :1.1839444637298584\n"
     ]
    },
    {
     "name": "stderr",
     "output_type": "stream",
     "text": [
      " 80%|████████  | 221/276 [14:06<03:32,  3.87s/it]"
     ]
    },
    {
     "name": "stdout",
     "output_type": "stream",
     "text": [
      "Train Dice 1: 0.18965715169906616, 2: 0.22170611199219226 \t Acc: 0.6581535600994513\n",
      "Train Loss :1.176035761833191\n"
     ]
    },
    {
     "name": "stderr",
     "output_type": "stream",
     "text": [
      " 84%|████████▎ | 231/276 [14:45<02:54,  3.89s/it]"
     ]
    },
    {
     "name": "stdout",
     "output_type": "stream",
     "text": [
      "Train Dice 1: 0.16157536208629608, 2: 0.12611992784768417 \t Acc: 0.6367311412251372\n",
      "Train Loss :1.1206719875335693\n"
     ]
    },
    {
     "name": "stderr",
     "output_type": "stream",
     "text": [
      " 87%|████████▋ | 241/276 [15:23<02:15,  3.86s/it]"
     ]
    },
    {
     "name": "stdout",
     "output_type": "stream",
     "text": [
      "Train Dice 1: 0.14219099283218384, 2: 0.1396718925117244 \t Acc: 0.6223499523105281\n",
      "Train Loss :1.3298652172088623\n"
     ]
    },
    {
     "name": "stderr",
     "output_type": "stream",
     "text": [
      " 91%|█████████ | 251/276 [16:02<01:36,  3.87s/it]"
     ]
    },
    {
     "name": "stdout",
     "output_type": "stream",
     "text": [
      "Train Dice 1: 0.07858806848526001, 2: 0.10541902610721278 \t Acc: 0.6018230506258574\n",
      "Train Loss :1.3801623582839966\n"
     ]
    },
    {
     "name": "stderr",
     "output_type": "stream",
     "text": [
      " 95%|█████████▍| 261/276 [16:41<00:57,  3.86s/it]"
     ]
    },
    {
     "name": "stdout",
     "output_type": "stream",
     "text": [
      "Train Dice 1: 0.14131391048431396, 2: 0.13009317798590905 \t Acc: 0.6366581334662208\n",
      "Train Loss :1.2586435079574585\n"
     ]
    },
    {
     "name": "stderr",
     "output_type": "stream",
     "text": [
      " 98%|█████████▊| 271/276 [17:19<00:19,  3.88s/it]"
     ]
    },
    {
     "name": "stdout",
     "output_type": "stream",
     "text": [
      "Train Dice 1: 0.2160724401473999, 2: 0.22593346808470446 \t Acc: 0.6569241496270576\n",
      "Train Loss :1.132326364517212\n"
     ]
    },
    {
     "name": "stderr",
     "output_type": "stream",
     "text": [
      "100%|██████████| 276/276 [17:39<00:00,  3.84s/it]\n",
      "  0%|          | 0/276 [00:00<?, ?it/s]"
     ]
    },
    {
     "name": "stdout",
     "output_type": "stream",
     "text": [
      "Train Epoch loss: 1.260661724684895, \t ACC/DICE :0.6235798796906689/0.13054293394088745 \n",
      "Starting Train epoch: 3\n"
     ]
    },
    {
     "name": "stderr",
     "output_type": "stream",
     "text": [
      "\r",
      "  0%|          | 1/276 [00:03<15:01,  3.28s/it]"
     ]
    },
    {
     "name": "stdout",
     "output_type": "stream",
     "text": [
      "Train Dice 1: 0.28551849722862244, 2: 0.23706981921992065 \t Acc: 0.6632999373070988\n",
      "Train Loss :1.1461542844772339\n"
     ]
    },
    {
     "name": "stderr",
     "output_type": "stream",
     "text": [
      "  4%|▍         | 11/276 [00:41<16:58,  3.85s/it]"
     ]
    },
    {
     "name": "stdout",
     "output_type": "stream",
     "text": [
      "Train Dice 1: 0.03422345593571663, 2: 0.04578372094416846 \t Acc: 0.5733754768947188\n",
      "Train Loss :1.2304340600967407\n"
     ]
    },
    {
     "name": "stderr",
     "output_type": "stream",
     "text": [
      "  8%|▊         | 21/276 [01:20<16:28,  3.88s/it]"
     ]
    },
    {
     "name": "stdout",
     "output_type": "stream",
     "text": [
      "Train Dice 1: 0.3699691891670227, 2: 0.25183550131022925 \t Acc: 0.6603705847050755\n",
      "Train Loss :1.2900198698043823\n"
     ]
    },
    {
     "name": "stderr",
     "output_type": "stream",
     "text": [
      " 11%|█         | 31/276 [01:58<15:46,  3.87s/it]"
     ]
    },
    {
     "name": "stdout",
     "output_type": "stream",
     "text": [
      "Train Dice 1: 0.1446310132741928, 2: 0.14837338670038244 \t Acc: 0.6106519659850823\n",
      "Train Loss :1.1792303323745728\n"
     ]
    },
    {
     "name": "stderr",
     "output_type": "stream",
     "text": [
      " 15%|█▍        | 41/276 [02:37<15:06,  3.86s/it]"
     ]
    },
    {
     "name": "stdout",
     "output_type": "stream",
     "text": [
      "Train Dice 1: 0.06100082769989967, 2: 0.062360737379011204 \t Acc: 0.6090689032493142\n",
      "Train Loss :1.3305118083953857\n"
     ]
    },
    {
     "name": "stderr",
     "output_type": "stream",
     "text": [
      " 18%|█▊        | 51/276 [03:16<14:32,  3.88s/it]"
     ]
    },
    {
     "name": "stdout",
     "output_type": "stream",
     "text": [
      "Train Dice 1: 0.23813626170158386, 2: 0.19264845975750294 \t Acc: 0.6372733410493827\n",
      "Train Loss :1.3225902318954468\n"
     ]
    },
    {
     "name": "stderr",
     "output_type": "stream",
     "text": [
      " 22%|██▏       | 61/276 [03:54<13:53,  3.88s/it]"
     ]
    },
    {
     "name": "stdout",
     "output_type": "stream",
     "text": [
      "Train Dice 1: 0.12175139039754868, 2: 0.11611608950794398 \t Acc: 0.6213777434842249\n",
      "Train Loss :1.3393275737762451\n"
     ]
    },
    {
     "name": "stderr",
     "output_type": "stream",
     "text": [
      " 26%|██▌       | 71/276 [04:33<13:12,  3.87s/it]"
     ]
    },
    {
     "name": "stdout",
     "output_type": "stream",
     "text": [
      "Train Dice 1: 0.19531121850013733, 2: 0.13590852105166884 \t Acc: 0.6756904926483196\n",
      "Train Loss :1.1292613744735718\n"
     ]
    },
    {
     "name": "stderr",
     "output_type": "stream",
     "text": [
      " 29%|██▉       | 81/276 [05:12<12:38,  3.89s/it]"
     ]
    },
    {
     "name": "stdout",
     "output_type": "stream",
     "text": [
      "Train Dice 1: 0.2640267312526703, 2: 0.19884437726222579 \t Acc: 0.6499746817129629\n",
      "Train Loss :1.329275131225586\n"
     ]
    },
    {
     "name": "stderr",
     "output_type": "stream",
     "text": [
      " 33%|███▎      | 91/276 [05:51<11:57,  3.88s/it]"
     ]
    },
    {
     "name": "stdout",
     "output_type": "stream",
     "text": [
      "Train Dice 1: 0.1431044638156891, 2: 0.17190688885071292 \t Acc: 0.6771362472136488\n",
      "Train Loss :1.35334050655365\n"
     ]
    },
    {
     "name": "stderr",
     "output_type": "stream",
     "text": [
      " 37%|███▋      | 101/276 [06:29<11:14,  3.86s/it]"
     ]
    },
    {
     "name": "stdout",
     "output_type": "stream",
     "text": [
      "Train Dice 1: 0.16481131315231323, 2: 0.14176394429649591 \t Acc: 0.6450232151277435\n",
      "Train Loss :1.237870216369629\n"
     ]
    },
    {
     "name": "stderr",
     "output_type": "stream",
     "text": [
      " 40%|████      | 111/276 [07:08<10:41,  3.89s/it]"
     ]
    },
    {
     "name": "stdout",
     "output_type": "stream",
     "text": [
      "Train Dice 1: 0.07078944891691208, 2: 0.07076928812169254 \t Acc: 0.6326979648919753\n",
      "Train Loss :1.2388259172439575\n"
     ]
    },
    {
     "name": "stderr",
     "output_type": "stream",
     "text": [
      " 44%|████▍     | 121/276 [07:47<09:59,  3.87s/it]"
     ]
    },
    {
     "name": "stdout",
     "output_type": "stream",
     "text": [
      "Train Dice 1: 0.0422416590154171, 2: 0.037289610464545084 \t Acc: 0.5865088359482168\n",
      "Train Loss :1.2222312688827515\n"
     ]
    },
    {
     "name": "stderr",
     "output_type": "stream",
     "text": [
      " 47%|████▋     | 131/276 [08:26<09:20,  3.86s/it]"
     ]
    },
    {
     "name": "stdout",
     "output_type": "stream",
     "text": [
      "Train Dice 1: 0.22610566020011902, 2: 0.20450945715941857 \t Acc: 0.6392127352323388\n",
      "Train Loss :1.310491919517517\n"
     ]
    },
    {
     "name": "stderr",
     "output_type": "stream",
     "text": [
      " 51%|█████     | 141/276 [09:04<08:44,  3.89s/it]"
     ]
    },
    {
     "name": "stdout",
     "output_type": "stream",
     "text": [
      "Train Dice 1: 0.32695063948631287, 2: 0.2658984926285559 \t Acc: 0.6507258578746571\n",
      "Train Loss :1.2864934206008911\n"
     ]
    },
    {
     "name": "stderr",
     "output_type": "stream",
     "text": [
      " 55%|█████▍    | 151/276 [09:43<08:06,  3.89s/it]"
     ]
    },
    {
     "name": "stdout",
     "output_type": "stream",
     "text": [
      "Train Dice 1: 0.24745990335941315, 2: 0.18063286998928837 \t Acc: 0.6459672925240055\n",
      "Train Loss :1.3480421304702759\n"
     ]
    },
    {
     "name": "stderr",
     "output_type": "stream",
     "text": [
      " 58%|█████▊    | 161/276 [10:22<07:26,  3.88s/it]"
     ]
    },
    {
     "name": "stdout",
     "output_type": "stream",
     "text": [
      "Train Dice 1: 0.15328574180603027, 2: 0.12861606156357414 \t Acc: 0.6381507737482853\n",
      "Train Loss :1.1181141138076782\n"
     ]
    },
    {
     "name": "stderr",
     "output_type": "stream",
     "text": [
      " 62%|██████▏   | 171/276 [11:01<06:47,  3.88s/it]"
     ]
    },
    {
     "name": "stdout",
     "output_type": "stream",
     "text": [
      "Train Dice 1: 0.08692029863595963, 2: 0.08018765124377066 \t Acc: 0.6183670106738683\n",
      "Train Loss :1.1670843362808228\n"
     ]
    },
    {
     "name": "stderr",
     "output_type": "stream",
     "text": [
      " 66%|██████▌   | 181/276 [11:40<06:09,  3.89s/it]"
     ]
    },
    {
     "name": "stdout",
     "output_type": "stream",
     "text": [
      "Train Dice 1: 0.15469259023666382, 2: 0.13007876744723995 \t Acc: 0.6334987059542181\n",
      "Train Loss :1.3364366292953491\n"
     ]
    },
    {
     "name": "stderr",
     "output_type": "stream",
     "text": [
      " 69%|██████▉   | 191/276 [12:19<05:30,  3.89s/it]"
     ]
    },
    {
     "name": "stdout",
     "output_type": "stream",
     "text": [
      "Train Dice 1: 0.09946002811193466, 2: 0.1090788049465023 \t Acc: 0.6262156796553497\n",
      "Train Loss :1.152700662612915\n"
     ]
    },
    {
     "name": "stderr",
     "output_type": "stream",
     "text": [
      " 73%|███████▎  | 201/276 [12:57<04:50,  3.87s/it]"
     ]
    },
    {
     "name": "stdout",
     "output_type": "stream",
     "text": [
      "Train Dice 1: 0.18762889504432678, 2: 0.2665027116023534 \t Acc: 0.6669874989283264\n",
      "Train Loss :1.2278339862823486\n"
     ]
    },
    {
     "name": "stderr",
     "output_type": "stream",
     "text": [
      " 76%|███████▋  | 211/276 [13:36<04:11,  3.87s/it]"
     ]
    },
    {
     "name": "stdout",
     "output_type": "stream",
     "text": [
      "Train Dice 1: 0.08106313645839691, 2: 0.07882018484946558 \t Acc: 0.6291966065457819\n",
      "Train Loss :1.2736802101135254\n"
     ]
    },
    {
     "name": "stderr",
     "output_type": "stream",
     "text": [
      " 80%|████████  | 221/276 [14:15<03:33,  3.89s/it]"
     ]
    },
    {
     "name": "stdout",
     "output_type": "stream",
     "text": [
      "Train Dice 1: 0.04751935601234436, 2: 0.04614780166566692 \t Acc: 0.6048545471107681\n",
      "Train Loss :1.2784249782562256\n"
     ]
    },
    {
     "name": "stderr",
     "output_type": "stream",
     "text": [
      " 84%|████████▎ | 231/276 [14:54<02:54,  3.89s/it]"
     ]
    },
    {
     "name": "stdout",
     "output_type": "stream",
     "text": [
      "Train Dice 1: 0.03497398644685745, 2: 0.03814971686199989 \t Acc: 0.6023223835090878\n",
      "Train Loss :1.2882729768753052\n"
     ]
    },
    {
     "name": "stderr",
     "output_type": "stream",
     "text": [
      " 87%|████████▋ | 241/276 [15:33<02:16,  3.89s/it]"
     ]
    },
    {
     "name": "stdout",
     "output_type": "stream",
     "text": [
      "Train Dice 1: 0.03681754320859909, 2: 0.0310271093791206 \t Acc: 0.6246955777391975\n",
      "Train Loss :1.2889667749404907\n"
     ]
    },
    {
     "name": "stderr",
     "output_type": "stream",
     "text": [
      " 91%|█████████ | 251/276 [16:12<01:37,  3.88s/it]"
     ]
    },
    {
     "name": "stdout",
     "output_type": "stream",
     "text": [
      "Train Dice 1: 0.1639164686203003, 2: 0.12587998871585834 \t Acc: 0.6305760513117284\n",
      "Train Loss :1.143691062927246\n"
     ]
    },
    {
     "name": "stderr",
     "output_type": "stream",
     "text": [
      " 95%|█████████▍| 261/276 [16:50<00:58,  3.89s/it]"
     ]
    },
    {
     "name": "stdout",
     "output_type": "stream",
     "text": [
      "Train Dice 1: 0.20893150568008423, 2: 0.14620025396288247 \t Acc: 0.641739875364369\n",
      "Train Loss :1.1364750862121582\n"
     ]
    },
    {
     "name": "stderr",
     "output_type": "stream",
     "text": [
      " 98%|█████████▊| 271/276 [17:29<00:19,  3.86s/it]"
     ]
    },
    {
     "name": "stdout",
     "output_type": "stream",
     "text": [
      "Train Dice 1: 0.13580353558063507, 2: 0.15616174832240848 \t Acc: 0.6509599515603567\n",
      "Train Loss :1.1915090084075928\n"
     ]
    },
    {
     "name": "stderr",
     "output_type": "stream",
     "text": [
      "100%|██████████| 276/276 [17:49<00:00,  3.87s/it]\n",
      "  0%|          | 0/92 [00:00<?, ?it/s]"
     ]
    },
    {
     "name": "stdout",
     "output_type": "stream",
     "text": [
      "Train Epoch loss: 1.263738748388014, \t ACC/DICE :0.6286282798257613/0.13062070310115814 \n"
     ]
    },
    {
     "name": "stderr",
     "output_type": "stream",
     "text": [
      "100%|██████████| 92/92 [05:09<00:00,  3.36s/it]\n"
     ]
    },
    {
     "name": "stdout",
     "output_type": "stream",
     "text": [
      "Val Dice : 11.47465991973877, len 92\n",
      "Val Epoch loss: 1.2110050825969032 \t acc/dice:/ 0.6425074360455525/ 0.12472456693649292\n"
     ]
    },
    {
     "name": "stderr",
     "output_type": "stream",
     "text": [
      "\r",
      "  0%|          | 0/276 [00:00<?, ?it/s]"
     ]
    },
    {
     "name": "stdout",
     "output_type": "stream",
     "text": [
      "Starting Train epoch: 4\n"
     ]
    },
    {
     "name": "stderr",
     "output_type": "stream",
     "text": [
      "\r",
      "  0%|          | 1/276 [00:03<15:15,  3.33s/it]"
     ]
    },
    {
     "name": "stdout",
     "output_type": "stream",
     "text": [
      "Train Dice 1: 0.046421341598033905, 2: 0.0608318223322356 \t Acc: 0.6365924934627915\n",
      "Train Loss :1.3444098234176636\n"
     ]
    },
    {
     "name": "stderr",
     "output_type": "stream",
     "text": [
      "  4%|▍         | 11/276 [00:38<15:45,  3.57s/it]"
     ]
    },
    {
     "name": "stdout",
     "output_type": "stream",
     "text": [
      "Train Dice 1: 0.17537479102611542, 2: 0.21876026682529137 \t Acc: 0.6384515121313443\n",
      "Train Loss :1.1861534118652344\n"
     ]
    },
    {
     "name": "stderr",
     "output_type": "stream",
     "text": [
      "  8%|▊         | 21/276 [01:16<16:02,  3.77s/it]"
     ]
    },
    {
     "name": "stdout",
     "output_type": "stream",
     "text": [
      "Train Dice 1: 0.05478128045797348, 2: 0.06879928018374257 \t Acc: 0.6707333327974966\n",
      "Train Loss :1.336034893989563\n"
     ]
    },
    {
     "name": "stderr",
     "output_type": "stream",
     "text": [
      " 11%|█         | 31/276 [01:54<15:38,  3.83s/it]"
     ]
    },
    {
     "name": "stdout",
     "output_type": "stream",
     "text": [
      "Train Dice 1: 0.14948683977127075, 2: 0.14390677999920187 \t Acc: 0.6407743644975995\n",
      "Train Loss :1.3242474794387817\n"
     ]
    },
    {
     "name": "stderr",
     "output_type": "stream",
     "text": [
      " 15%|█▍        | 41/276 [02:33<15:04,  3.85s/it]"
     ]
    },
    {
     "name": "stdout",
     "output_type": "stream",
     "text": [
      "Train Dice 1: 0.2812322974205017, 2: 0.2043862253285373 \t Acc: 0.6526615681798696\n",
      "Train Loss :1.2989312410354614\n"
     ]
    },
    {
     "name": "stderr",
     "output_type": "stream",
     "text": [
      " 18%|█▊        | 51/276 [03:11<14:30,  3.87s/it]"
     ]
    },
    {
     "name": "stdout",
     "output_type": "stream",
     "text": [
      "Train Dice 1: 0.14975519478321075, 2: 0.11487469356410787 \t Acc: 0.6788442268947188\n",
      "Train Loss :1.232873558998108\n"
     ]
    },
    {
     "name": "stderr",
     "output_type": "stream",
     "text": [
      " 22%|██▏       | 61/276 [03:50<13:51,  3.87s/it]"
     ]
    },
    {
     "name": "stdout",
     "output_type": "stream",
     "text": [
      "Train Dice 1: 0.10835190117359161, 2: 0.09215898662225717 \t Acc: 0.6067571025162894\n",
      "Train Loss :1.3888652324676514\n"
     ]
    },
    {
     "name": "stderr",
     "output_type": "stream",
     "text": [
      " 26%|██▌       | 71/276 [04:29<13:15,  3.88s/it]"
     ]
    },
    {
     "name": "stdout",
     "output_type": "stream",
     "text": [
      "Train Dice 1: 0.07865556329488754, 2: 0.09560733506833738 \t Acc: 0.6318905258701989\n",
      "Train Loss :1.3114343881607056\n"
     ]
    },
    {
     "name": "stderr",
     "output_type": "stream",
     "text": [
      " 29%|██▉       | 81/276 [05:07<12:36,  3.88s/it]"
     ]
    },
    {
     "name": "stdout",
     "output_type": "stream",
     "text": [
      "Train Dice 1: 0.2095523178577423, 2: 0.20778718681017172 \t Acc: 0.6596257716049383\n",
      "Train Loss :1.2896933555603027\n"
     ]
    },
    {
     "name": "stderr",
     "output_type": "stream",
     "text": [
      " 33%|███▎      | 91/276 [05:46<11:54,  3.86s/it]"
     ]
    },
    {
     "name": "stdout",
     "output_type": "stream",
     "text": [
      "Train Dice 1: 0.1249939352273941, 2: 0.11178683776327918 \t Acc: 0.6372679826817559\n",
      "Train Loss :1.2864577770233154\n"
     ]
    },
    {
     "name": "stderr",
     "output_type": "stream",
     "text": [
      " 37%|███▋      | 101/276 [06:25<11:17,  3.87s/it]"
     ]
    },
    {
     "name": "stdout",
     "output_type": "stream",
     "text": [
      "Train Dice 1: 0.10791809111833572, 2: 0.11119441412790378 \t Acc: 0.6323563689557613\n",
      "Train Loss :1.1817437410354614\n"
     ]
    },
    {
     "name": "stderr",
     "output_type": "stream",
     "text": [
      " 40%|████      | 111/276 [07:03<10:36,  3.86s/it]"
     ]
    },
    {
     "name": "stdout",
     "output_type": "stream",
     "text": [
      "Train Dice 1: 0.04048634693026543, 2: 0.055253663551328804 \t Acc: 0.5952834978352195\n",
      "Train Loss :1.219496250152588\n"
     ]
    },
    {
     "name": "stderr",
     "output_type": "stream",
     "text": [
      " 44%|████▍     | 121/276 [07:42<09:58,  3.86s/it]"
     ]
    },
    {
     "name": "stdout",
     "output_type": "stream",
     "text": [
      "Train Dice 1: 0.10573059320449829, 2: 0.07937288950936562 \t Acc: 0.6071161131472909\n",
      "Train Loss :1.2610207796096802\n"
     ]
    },
    {
     "name": "stderr",
     "output_type": "stream",
     "text": [
      " 47%|████▋     | 131/276 [08:20<09:17,  3.84s/it]"
     ]
    },
    {
     "name": "stdout",
     "output_type": "stream",
     "text": [
      "Train Dice 1: 0.025584641844034195, 2: 0.02388980580764253 \t Acc: 0.5852516289437586\n",
      "Train Loss :1.2394322156906128\n"
     ]
    },
    {
     "name": "stderr",
     "output_type": "stream",
     "text": [
      " 51%|█████     | 141/276 [08:59<08:41,  3.86s/it]"
     ]
    },
    {
     "name": "stdout",
     "output_type": "stream",
     "text": [
      "Train Dice 1: 0.019446559250354767, 2: 0.017615982170772572 \t Acc: 0.5896106610082305\n",
      "Train Loss :1.315147042274475\n"
     ]
    },
    {
     "name": "stderr",
     "output_type": "stream",
     "text": [
      " 55%|█████▍    | 151/276 [09:38<08:01,  3.85s/it]"
     ]
    },
    {
     "name": "stdout",
     "output_type": "stream",
     "text": [
      "Train Dice 1: 0.075992651283741, 2: 0.06557955400889878 \t Acc: 0.5955192660108025\n",
      "Train Loss :1.277786135673523\n"
     ]
    },
    {
     "name": "stderr",
     "output_type": "stream",
     "text": [
      " 58%|█████▊    | 161/276 [10:16<07:24,  3.86s/it]"
     ]
    },
    {
     "name": "stdout",
     "output_type": "stream",
     "text": [
      "Train Dice 1: 0.054054245352745056, 2: 0.0624567465714382 \t Acc: 0.6089155199759945\n",
      "Train Loss :1.2675987482070923\n"
     ]
    },
    {
     "name": "stderr",
     "output_type": "stream",
     "text": [
      " 62%|██████▏   | 171/276 [10:55<06:45,  3.86s/it]"
     ]
    },
    {
     "name": "stdout",
     "output_type": "stream",
     "text": [
      "Train Dice 1: 0.1706937551498413, 2: 0.14547138414739744 \t Acc: 0.6199216070816187\n",
      "Train Loss :1.3587675094604492\n"
     ]
    },
    {
     "name": "stderr",
     "output_type": "stream",
     "text": [
      " 66%|██████▌   | 181/276 [11:34<06:06,  3.86s/it]"
     ]
    },
    {
     "name": "stdout",
     "output_type": "stream",
     "text": [
      "Train Dice 1: 0.19444821774959564, 2: 0.1684441212477127 \t Acc: 0.6358041436256858\n",
      "Train Loss :1.350272297859192\n"
     ]
    },
    {
     "name": "stderr",
     "output_type": "stream",
     "text": [
      " 69%|██████▉   | 191/276 [12:12<05:27,  3.86s/it]"
     ]
    },
    {
     "name": "stdout",
     "output_type": "stream",
     "text": [
      "Train Dice 1: 0.05720390006899834, 2: 0.05321090665276019 \t Acc: 0.5914110725308642\n",
      "Train Loss :1.3473703861236572\n"
     ]
    },
    {
     "name": "stderr",
     "output_type": "stream",
     "text": [
      " 73%|███████▎  | 201/276 [12:51<04:48,  3.85s/it]"
     ]
    },
    {
     "name": "stdout",
     "output_type": "stream",
     "text": [
      "Train Dice 1: 0.17560385167598724, 2: 0.20055070411454645 \t Acc: 0.6426675427597737\n",
      "Train Loss :1.1590765714645386\n"
     ]
    },
    {
     "name": "stderr",
     "output_type": "stream",
     "text": [
      " 76%|███████▋  | 211/276 [13:29<04:11,  3.86s/it]"
     ]
    },
    {
     "name": "stdout",
     "output_type": "stream",
     "text": [
      "Train Dice 1: 0.06620083004236221, 2: 0.10413627898036289 \t Acc: 0.628521787122771\n",
      "Train Loss :1.3124834299087524\n"
     ]
    },
    {
     "name": "stderr",
     "output_type": "stream",
     "text": [
      " 80%|████████  | 221/276 [14:08<03:32,  3.86s/it]"
     ]
    },
    {
     "name": "stdout",
     "output_type": "stream",
     "text": [
      "Train Dice 1: 0.22498378157615662, 2: 0.2039561258315754 \t Acc: 0.6479137195644719\n",
      "Train Loss :1.293433666229248\n"
     ]
    },
    {
     "name": "stderr",
     "output_type": "stream",
     "text": [
      " 84%|████████▎ | 231/276 [14:46<02:52,  3.84s/it]"
     ]
    },
    {
     "name": "stdout",
     "output_type": "stream",
     "text": [
      "Train Dice 1: 0.16575652360916138, 2: 0.16255849554438193 \t Acc: 0.6394528570816187\n",
      "Train Loss :1.4062178134918213\n"
     ]
    },
    {
     "name": "stderr",
     "output_type": "stream",
     "text": [
      " 87%|████████▋ | 241/276 [15:25<02:15,  3.87s/it]"
     ]
    },
    {
     "name": "stdout",
     "output_type": "stream",
     "text": [
      "Train Dice 1: 0.23247534036636353, 2: 0.20887504045628583 \t Acc: 0.6529057088048696\n",
      "Train Loss :1.3431123495101929\n"
     ]
    },
    {
     "name": "stderr",
     "output_type": "stream",
     "text": [
      " 91%|█████████ | 251/276 [16:04<01:36,  3.86s/it]"
     ]
    },
    {
     "name": "stdout",
     "output_type": "stream",
     "text": [
      "Train Dice 1: 0.37888890504837036, 2: 0.2727679426462908 \t Acc: 0.6553936658736282\n",
      "Train Loss :1.0860941410064697\n"
     ]
    },
    {
     "name": "stderr",
     "output_type": "stream",
     "text": [
      " 95%|█████████▍| 261/276 [16:42<00:57,  3.86s/it]"
     ]
    },
    {
     "name": "stdout",
     "output_type": "stream",
     "text": [
      "Train Dice 1: 0.055810995399951935, 2: 0.04149119983931233 \t Acc: 0.5780898357124485\n",
      "Train Loss :1.2013593912124634\n"
     ]
    },
    {
     "name": "stderr",
     "output_type": "stream",
     "text": [
      " 98%|█████████▊| 271/276 [17:21<00:19,  3.84s/it]"
     ]
    },
    {
     "name": "stdout",
     "output_type": "stream",
     "text": [
      "Train Dice 1: 0.04486601799726486, 2: 0.04130606177055876 \t Acc: 0.6440824867112482\n",
      "Train Loss :1.197649359703064\n"
     ]
    },
    {
     "name": "stderr",
     "output_type": "stream",
     "text": [
      "100%|██████████| 276/276 [17:40<00:00,  3.84s/it]\n",
      "  0%|          | 0/276 [00:00<?, ?it/s]"
     ]
    },
    {
     "name": "stdout",
     "output_type": "stream",
     "text": [
      "Train Epoch loss: 1.2607310457506042, \t ACC/DICE :0.6307017654598223/0.13796791434288025 \n",
      "Starting Train epoch: 5\n"
     ]
    },
    {
     "name": "stderr",
     "output_type": "stream",
     "text": [
      "\r",
      "  0%|          | 1/276 [00:03<14:51,  3.24s/it]"
     ]
    },
    {
     "name": "stdout",
     "output_type": "stream",
     "text": [
      "Train Dice 1: 0.025595933198928833, 2: 0.05696518290439787 \t Acc: 0.6239772215792181\n",
      "Train Loss :1.1447083950042725\n"
     ]
    },
    {
     "name": "stderr",
     "output_type": "stream",
     "text": [
      "  4%|▍         | 11/276 [00:41<16:56,  3.84s/it]"
     ]
    },
    {
     "name": "stdout",
     "output_type": "stream",
     "text": [
      "Train Dice 1: 0.10092231631278992, 2: 0.12126609715569088 \t Acc: 0.6282609015989369\n",
      "Train Loss :1.1386692523956299\n"
     ]
    },
    {
     "name": "stderr",
     "output_type": "stream",
     "text": [
      "  8%|▊         | 21/276 [01:20<16:27,  3.87s/it]"
     ]
    },
    {
     "name": "stdout",
     "output_type": "stream",
     "text": [
      "Train Dice 1: 0.3682997226715088, 2: 0.2798058906092201 \t Acc: 0.6912002877443416\n",
      "Train Loss :1.3010849952697754\n"
     ]
    },
    {
     "name": "stderr",
     "output_type": "stream",
     "text": [
      " 11%|█         | 31/276 [01:58<15:44,  3.86s/it]"
     ]
    },
    {
     "name": "stdout",
     "output_type": "stream",
     "text": [
      "Train Dice 1: 0.12224533408880234, 2: 0.1029979297422075 \t Acc: 0.5963186674811386\n",
      "Train Loss :1.214083194732666\n"
     ]
    },
    {
     "name": "stderr",
     "output_type": "stream",
     "text": [
      " 15%|█▍        | 41/276 [02:37<15:10,  3.87s/it]"
     ]
    },
    {
     "name": "stdout",
     "output_type": "stream",
     "text": [
      "Train Dice 1: 0.12545496225357056, 2: 0.11000173211590329 \t Acc: 0.662727596664952\n",
      "Train Loss :1.1769837141036987\n"
     ]
    },
    {
     "name": "stderr",
     "output_type": "stream",
     "text": [
      " 18%|█▊        | 51/276 [03:15<14:24,  3.84s/it]"
     ]
    },
    {
     "name": "stdout",
     "output_type": "stream",
     "text": [
      "Train Dice 1: 0.0936395674943924, 2: 0.11267586878328172 \t Acc: 0.5983193479938271\n",
      "Train Loss :1.1530886888504028\n"
     ]
    },
    {
     "name": "stderr",
     "output_type": "stream",
     "text": [
      " 22%|██▏       | 61/276 [03:54<13:50,  3.86s/it]"
     ]
    },
    {
     "name": "stdout",
     "output_type": "stream",
     "text": [
      "Train Dice 1: 0.03156019002199173, 2: 0.0291365029152512 \t Acc: 0.5938049232681756\n",
      "Train Loss :1.221387505531311\n"
     ]
    },
    {
     "name": "stderr",
     "output_type": "stream",
     "text": [
      " 26%|██▌       | 71/276 [04:33<13:09,  3.85s/it]"
     ]
    },
    {
     "name": "stdout",
     "output_type": "stream",
     "text": [
      "Train Dice 1: 0.028903167694807053, 2: 0.02233374307139758 \t Acc: 0.5842057425625857\n",
      "Train Loss :1.27222740650177\n"
     ]
    },
    {
     "name": "stderr",
     "output_type": "stream",
     "text": [
      " 29%|██▉       | 81/276 [05:11<12:32,  3.86s/it]"
     ]
    },
    {
     "name": "stdout",
     "output_type": "stream",
     "text": [
      "Train Dice 1: 0.2671811878681183, 2: 0.19524896045911383 \t Acc: 0.6308811433684842\n",
      "Train Loss :1.3171507120132446\n"
     ]
    },
    {
     "name": "stderr",
     "output_type": "stream",
     "text": [
      " 33%|███▎      | 91/276 [05:50<11:55,  3.87s/it]"
     ]
    },
    {
     "name": "stdout",
     "output_type": "stream",
     "text": [
      "Train Dice 1: 0.011073645204305649, 2: 0.014849540660203926 \t Acc: 0.611098719885974\n",
      "Train Loss :1.2859827280044556\n"
     ]
    },
    {
     "name": "stderr",
     "output_type": "stream",
     "text": [
      " 37%|███▋      | 101/276 [06:28<11:12,  3.84s/it]"
     ]
    },
    {
     "name": "stdout",
     "output_type": "stream",
     "text": [
      "Train Dice 1: 0.23995967209339142, 2: 0.2197437341837292 \t Acc: 0.6674044469092936\n",
      "Train Loss :1.3878322839736938\n"
     ]
    },
    {
     "name": "stderr",
     "output_type": "stream",
     "text": [
      " 40%|████      | 111/276 [07:07<10:34,  3.85s/it]"
     ]
    },
    {
     "name": "stdout",
     "output_type": "stream",
     "text": [
      "Train Dice 1: 0.0762234702706337, 2: 0.06891961855421729 \t Acc: 0.6350201474622771\n",
      "Train Loss :1.2703857421875\n"
     ]
    },
    {
     "name": "stderr",
     "output_type": "stream",
     "text": [
      " 44%|████▍     | 121/276 [07:45<09:57,  3.86s/it]"
     ]
    },
    {
     "name": "stdout",
     "output_type": "stream",
     "text": [
      "Train Dice 1: 0.2486341893672943, 2: 0.23697869313931516 \t Acc: 0.6669409481095679\n",
      "Train Loss :1.264894962310791\n"
     ]
    },
    {
     "name": "stderr",
     "output_type": "stream",
     "text": [
      " 47%|████▋     | 131/276 [08:24<09:20,  3.86s/it]"
     ]
    },
    {
     "name": "stdout",
     "output_type": "stream",
     "text": [
      "Train Dice 1: 0.08559975028038025, 2: 0.09635436116353639 \t Acc: 0.6393741560570988\n",
      "Train Loss :1.351859211921692\n"
     ]
    },
    {
     "name": "stderr",
     "output_type": "stream",
     "text": [
      " 51%|█████     | 141/276 [09:03<08:41,  3.86s/it]"
     ]
    },
    {
     "name": "stdout",
     "output_type": "stream",
     "text": [
      "Train Dice 1: 0.054302047938108444, 2: 0.047955247857393316 \t Acc: 0.6090059424296982\n",
      "Train Loss :1.275628685951233\n"
     ]
    },
    {
     "name": "stderr",
     "output_type": "stream",
     "text": [
      " 55%|█████▍    | 151/276 [09:41<08:00,  3.84s/it]"
     ]
    },
    {
     "name": "stdout",
     "output_type": "stream",
     "text": [
      "Train Dice 1: 0.08109518140554428, 2: 0.10408531628007656 \t Acc: 0.6479264456875857\n",
      "Train Loss :1.1935312747955322\n"
     ]
    },
    {
     "name": "stderr",
     "output_type": "stream",
     "text": [
      " 58%|█████▊    | 161/276 [10:20<07:22,  3.85s/it]"
     ]
    },
    {
     "name": "stdout",
     "output_type": "stream",
     "text": [
      "Train Dice 1: 0.2733950614929199, 2: 0.21196395459388634 \t Acc: 0.6366413885673868\n",
      "Train Loss :1.1802961826324463\n"
     ]
    },
    {
     "name": "stderr",
     "output_type": "stream",
     "text": [
      " 62%|██████▏   | 171/276 [10:58<06:45,  3.86s/it]"
     ]
    },
    {
     "name": "stdout",
     "output_type": "stream",
     "text": [
      "Train Dice 1: 0.18079489469528198, 2: 0.16149141953657645 \t Acc: 0.620985912851509\n",
      "Train Loss :1.3869316577911377\n"
     ]
    },
    {
     "name": "stderr",
     "output_type": "stream",
     "text": [
      " 66%|██████▌   | 181/276 [11:37<06:06,  3.86s/it]"
     ]
    },
    {
     "name": "stdout",
     "output_type": "stream",
     "text": [
      "Train Dice 1: 0.09443741291761398, 2: 0.08213263394281953 \t Acc: 0.6282297560871056\n",
      "Train Loss :1.174088478088379\n"
     ]
    },
    {
     "name": "stderr",
     "output_type": "stream",
     "text": [
      " 69%|██████▉   | 191/276 [12:15<05:28,  3.87s/it]"
     ]
    },
    {
     "name": "stdout",
     "output_type": "stream",
     "text": [
      "Train Dice 1: 0.07499567419290543, 2: 0.08108526303573764 \t Acc: 0.6658696094821673\n",
      "Train Loss :1.3089600801467896\n"
     ]
    },
    {
     "name": "stderr",
     "output_type": "stream",
     "text": [
      " 73%|███████▎  | 201/276 [12:54<04:49,  3.85s/it]"
     ]
    },
    {
     "name": "stdout",
     "output_type": "stream",
     "text": [
      "Train Dice 1: 0.15504324436187744, 2: 0.17706818056724094 \t Acc: 0.6495024755658436\n",
      "Train Loss :1.1439123153686523\n"
     ]
    },
    {
     "name": "stderr",
     "output_type": "stream",
     "text": [
      " 76%|███████▋  | 211/276 [13:32<04:10,  3.86s/it]"
     ]
    },
    {
     "name": "stdout",
     "output_type": "stream",
     "text": [
      "Train Dice 1: 0.21836967766284943, 2: 0.1630719841955797 \t Acc: 0.659495161394033\n",
      "Train Loss :1.3005484342575073\n"
     ]
    },
    {
     "name": "stderr",
     "output_type": "stream",
     "text": [
      " 80%|████████  | 221/276 [14:11<03:32,  3.87s/it]"
     ]
    },
    {
     "name": "stdout",
     "output_type": "stream",
     "text": [
      "Train Dice 1: 0.03546314686536789, 2: 0.0564219020641276 \t Acc: 0.6422382035536695\n",
      "Train Loss :1.240114450454712\n"
     ]
    },
    {
     "name": "stderr",
     "output_type": "stream",
     "text": [
      " 84%|████████▎ | 231/276 [14:50<02:55,  3.89s/it]"
     ]
    },
    {
     "name": "stdout",
     "output_type": "stream",
     "text": [
      "Train Dice 1: 0.10421555489301682, 2: 0.08821507182022587 \t Acc: 0.6646931128900891\n",
      "Train Loss :1.310750961303711\n"
     ]
    },
    {
     "name": "stderr",
     "output_type": "stream",
     "text": [
      " 87%|████████▋ | 241/276 [15:29<02:15,  3.86s/it]"
     ]
    },
    {
     "name": "stdout",
     "output_type": "stream",
     "text": [
      "Train Dice 1: 0.4503784775733948, 2: 0.2740044495693502 \t Acc: 0.6864628209662208\n",
      "Train Loss :1.0770455598831177\n"
     ]
    },
    {
     "name": "stderr",
     "output_type": "stream",
     "text": [
      " 91%|█████████ | 251/276 [16:07<01:37,  3.89s/it]"
     ]
    },
    {
     "name": "stdout",
     "output_type": "stream",
     "text": [
      "Train Dice 1: 0.20831464231014252, 2: 0.19391807325525803 \t Acc: 0.6956597892018176\n",
      "Train Loss :1.1085790395736694\n"
     ]
    },
    {
     "name": "stderr",
     "output_type": "stream",
     "text": [
      " 95%|█████████▍| 261/276 [16:46<00:57,  3.86s/it]"
     ]
    },
    {
     "name": "stdout",
     "output_type": "stream",
     "text": [
      "Train Dice 1: 0.16407057642936707, 2: 0.17314392073798998 \t Acc: 0.6334200049296982\n",
      "Train Loss :1.135959267616272\n"
     ]
    },
    {
     "name": "stderr",
     "output_type": "stream",
     "text": [
      " 98%|█████████▊| 271/276 [17:25<00:19,  3.87s/it]"
     ]
    },
    {
     "name": "stdout",
     "output_type": "stream",
     "text": [
      "Train Dice 1: 0.10430224239826202, 2: 0.10376816733021664 \t Acc: 0.6106157970036008\n",
      "Train Loss :1.3697903156280518\n"
     ]
    },
    {
     "name": "stderr",
     "output_type": "stream",
     "text": [
      "100%|██████████| 276/276 [17:44<00:00,  3.86s/it]\n",
      "  0%|          | 0/92 [00:00<?, ?it/s]"
     ]
    },
    {
     "name": "stdout",
     "output_type": "stream",
     "text": [
      "Train Epoch loss: 1.2457722796910051, \t ACC/DICE :0.6349801162334775/0.14188547432422638 \n"
     ]
    },
    {
     "name": "stderr",
     "output_type": "stream",
     "text": [
      "100%|██████████| 92/92 [05:06<00:00,  3.34s/it]\n",
      "  0%|          | 0/276 [00:00<?, ?it/s]"
     ]
    },
    {
     "name": "stdout",
     "output_type": "stream",
     "text": [
      "Val Dice : 13.21890926361084, len 92\n",
      "Val Epoch loss: 1.2284980584745822 \t acc/dice:/ 0.6404417125214801/ 0.1436838060617447\n",
      "Starting Train epoch: 6\n"
     ]
    },
    {
     "name": "stderr",
     "output_type": "stream",
     "text": [
      "\r",
      "  0%|          | 1/276 [00:03<14:58,  3.27s/it]"
     ]
    },
    {
     "name": "stdout",
     "output_type": "stream",
     "text": [
      "Train Dice 1: 0.2635786235332489, 2: 0.21006220682206572 \t Acc: 0.6188706972307956\n",
      "Train Loss :1.257890224456787\n"
     ]
    },
    {
     "name": "stderr",
     "output_type": "stream",
     "text": [
      "  4%|▍         | 11/276 [00:38<15:43,  3.56s/it]"
     ]
    },
    {
     "name": "stdout",
     "output_type": "stream",
     "text": [
      "Train Dice 1: 0.25081419944763184, 2: 0.19915549930807716 \t Acc: 0.637190286351166\n",
      "Train Loss :1.3279151916503906\n"
     ]
    },
    {
     "name": "stderr",
     "output_type": "stream",
     "text": [
      "  8%|▊         | 21/276 [01:15<15:56,  3.75s/it]"
     ]
    },
    {
     "name": "stdout",
     "output_type": "stream",
     "text": [
      "Train Dice 1: 0.09027352184057236, 2: 0.07599923607890213 \t Acc: 0.6030256692601166\n",
      "Train Loss :1.2553670406341553\n"
     ]
    },
    {
     "name": "stderr",
     "output_type": "stream",
     "text": [
      " 11%|█         | 31/276 [01:53<15:36,  3.82s/it]"
     ]
    },
    {
     "name": "stdout",
     "output_type": "stream",
     "text": [
      "Train Dice 1: 0.05843677371740341, 2: 0.045677321033389805 \t Acc: 0.6057373381772977\n",
      "Train Loss :1.3011947870254517\n"
     ]
    },
    {
     "name": "stderr",
     "output_type": "stream",
     "text": [
      " 15%|█▍        | 41/276 [02:32<15:01,  3.84s/it]"
     ]
    },
    {
     "name": "stdout",
     "output_type": "stream",
     "text": [
      "Train Dice 1: 0.1579468846321106, 2: 0.1283969653475497 \t Acc: 0.6441032503858025\n",
      "Train Loss :1.0998798608779907\n"
     ]
    },
    {
     "name": "stderr",
     "output_type": "stream",
     "text": [
      " 18%|█▊        | 51/276 [03:10<14:24,  3.84s/it]"
     ]
    },
    {
     "name": "stdout",
     "output_type": "stream",
     "text": [
      "Train Dice 1: 0.03826466575264931, 2: 0.07838524143283054 \t Acc: 0.6229624807098766\n",
      "Train Loss :1.1261430978775024\n"
     ]
    },
    {
     "name": "stderr",
     "output_type": "stream",
     "text": [
      " 22%|██▏       | 61/276 [03:49<13:51,  3.87s/it]"
     ]
    },
    {
     "name": "stdout",
     "output_type": "stream",
     "text": [
      "Train Dice 1: 0.07661489397287369, 2: 0.06517586919613198 \t Acc: 0.592847784850823\n",
      "Train Loss :1.3502405881881714\n"
     ]
    },
    {
     "name": "stderr",
     "output_type": "stream",
     "text": [
      " 26%|██▌       | 71/276 [04:27<13:12,  3.87s/it]"
     ]
    },
    {
     "name": "stdout",
     "output_type": "stream",
     "text": [
      "Train Dice 1: 0.196807399392128, 2: 0.19994471019985915 \t Acc: 0.6617460106953018\n",
      "Train Loss :1.1134588718414307\n"
     ]
    },
    {
     "name": "stderr",
     "output_type": "stream",
     "text": [
      " 29%|██▉       | 81/276 [05:06<12:29,  3.84s/it]"
     ]
    },
    {
     "name": "stdout",
     "output_type": "stream",
     "text": [
      "Train Dice 1: 0.1328897476196289, 2: 0.10842303878706233 \t Acc: 0.6431538146219136\n",
      "Train Loss :1.3393163681030273\n"
     ]
    },
    {
     "name": "stderr",
     "output_type": "stream",
     "text": [
      " 33%|███▎      | 91/276 [05:44<11:52,  3.85s/it]"
     ]
    },
    {
     "name": "stdout",
     "output_type": "stream",
     "text": [
      "Train Dice 1: 0.046423714607954025, 2: 0.04501688582309406 \t Acc: 0.6439230752743484\n",
      "Train Loss :1.2646321058273315\n"
     ]
    },
    {
     "name": "stderr",
     "output_type": "stream",
     "text": [
      " 37%|███▋      | 101/276 [06:23<11:10,  3.83s/it]"
     ]
    },
    {
     "name": "stdout",
     "output_type": "stream",
     "text": [
      "Train Dice 1: 0.12007822096347809, 2: 0.11290368198901608 \t Acc: 0.6428654674639918\n",
      "Train Loss :1.1405562162399292\n"
     ]
    },
    {
     "name": "stderr",
     "output_type": "stream",
     "text": [
      " 40%|████      | 111/276 [07:01<10:33,  3.84s/it]"
     ]
    },
    {
     "name": "stdout",
     "output_type": "stream",
     "text": [
      "Train Dice 1: 0.16267400979995728, 2: 0.16593369599125538 \t Acc: 0.6606401775763031\n",
      "Train Loss :1.3347340822219849\n"
     ]
    },
    {
     "name": "stderr",
     "output_type": "stream",
     "text": [
      " 44%|████▍     | 121/276 [07:40<09:55,  3.84s/it]"
     ]
    },
    {
     "name": "stdout",
     "output_type": "stream",
     "text": [
      "Train Dice 1: 0.020583853125572205, 2: 0.01988980257856869 \t Acc: 0.5620823822230796\n",
      "Train Loss :1.258177399635315\n"
     ]
    },
    {
     "name": "stderr",
     "output_type": "stream",
     "text": [
      " 47%|████▋     | 131/276 [08:18<09:16,  3.84s/it]"
     ]
    },
    {
     "name": "stdout",
     "output_type": "stream",
     "text": [
      "Train Dice 1: 0.14574916660785675, 2: 0.1314880555851951 \t Acc: 0.6974220223551097\n",
      "Train Loss :1.3143835067749023\n"
     ]
    },
    {
     "name": "stderr",
     "output_type": "stream",
     "text": [
      " 51%|█████     | 141/276 [08:56<08:38,  3.84s/it]"
     ]
    },
    {
     "name": "stdout",
     "output_type": "stream",
     "text": [
      "Train Dice 1: 0.30499452352523804, 2: 0.22367237158233944 \t Acc: 0.7038205830975651\n",
      "Train Loss :1.3089032173156738\n"
     ]
    },
    {
     "name": "stderr",
     "output_type": "stream",
     "text": [
      " 55%|█████▍    | 151/276 [09:35<07:59,  3.84s/it]"
     ]
    },
    {
     "name": "stdout",
     "output_type": "stream",
     "text": [
      "Train Dice 1: 0.12744933366775513, 2: 0.14767792061303486 \t Acc: 0.6517911683384774\n",
      "Train Loss :1.150902271270752\n"
     ]
    },
    {
     "name": "stderr",
     "output_type": "stream",
     "text": [
      " 58%|█████▊    | 161/276 [10:13<07:20,  3.83s/it]"
     ]
    },
    {
     "name": "stdout",
     "output_type": "stream",
     "text": [
      "Train Dice 1: 0.023213885724544525, 2: 0.024925540968930182 \t Acc: 0.608252756880144\n",
      "Train Loss :1.3236881494522095\n"
     ]
    },
    {
     "name": "stderr",
     "output_type": "stream",
     "text": [
      " 62%|██████▏   | 171/276 [10:51<06:42,  3.83s/it]"
     ]
    },
    {
     "name": "stdout",
     "output_type": "stream",
     "text": [
      "Train Dice 1: 0.30877354741096497, 2: 0.24524989283102605 \t Acc: 0.6792360575274349\n",
      "Train Loss :1.196938395500183\n"
     ]
    },
    {
     "name": "stderr",
     "output_type": "stream",
     "text": [
      " 66%|██████▌   | 181/276 [11:30<06:04,  3.83s/it]"
     ]
    },
    {
     "name": "stdout",
     "output_type": "stream",
     "text": [
      "Train Dice 1: 0.2004072368144989, 2: 0.15825253257858113 \t Acc: 0.6416397408693416\n",
      "Train Loss :1.1395535469055176\n"
     ]
    },
    {
     "name": "stderr",
     "output_type": "stream",
     "text": [
      " 69%|██████▉   | 191/276 [12:08<05:26,  3.84s/it]"
     ]
    },
    {
     "name": "stdout",
     "output_type": "stream",
     "text": [
      "Train Dice 1: 0.16958630084991455, 2: 0.13275666760100724 \t Acc: 0.6238737381044238\n",
      "Train Loss :1.080942988395691\n"
     ]
    },
    {
     "name": "stderr",
     "output_type": "stream",
     "text": [
      " 73%|███████▎  | 201/276 [12:46<04:46,  3.82s/it]"
     ]
    },
    {
     "name": "stdout",
     "output_type": "stream",
     "text": [
      "Train Dice 1: 0.13351568579673767, 2: 0.14716732166703145 \t Acc: 0.6398239240397805\n",
      "Train Loss :1.1313567161560059\n"
     ]
    },
    {
     "name": "stderr",
     "output_type": "stream",
     "text": [
      " 76%|███████▋  | 211/276 [13:25<04:09,  3.84s/it]"
     ]
    },
    {
     "name": "stdout",
     "output_type": "stream",
     "text": [
      "Train Dice 1: 0.19313983619213104, 2: 0.19896854275255235 \t Acc: 0.6583558384773662\n",
      "Train Loss :1.1272870302200317\n"
     ]
    },
    {
     "name": "stderr",
     "output_type": "stream",
     "text": [
      " 80%|████████  | 221/276 [14:03<03:31,  3.84s/it]"
     ]
    },
    {
     "name": "stdout",
     "output_type": "stream",
     "text": [
      "Train Dice 1: 0.1006062850356102, 2: 0.10991333383537434 \t Acc: 0.627914951989026\n",
      "Train Loss :1.191239595413208\n"
     ]
    },
    {
     "name": "stderr",
     "output_type": "stream",
     "text": [
      " 84%|████████▎ | 231/276 [14:42<02:52,  3.84s/it]"
     ]
    },
    {
     "name": "stdout",
     "output_type": "stream",
     "text": [
      "Train Dice 1: 0.09074854105710983, 2: 0.0649988576650674 \t Acc: 0.6491340877914952\n",
      "Train Loss :1.2622311115264893\n"
     ]
    },
    {
     "name": "stderr",
     "output_type": "stream",
     "text": [
      " 87%|████████▋ | 241/276 [15:20<02:14,  3.84s/it]"
     ]
    },
    {
     "name": "stdout",
     "output_type": "stream",
     "text": [
      "Train Dice 1: 0.029757963493466377, 2: 0.024693993273717966 \t Acc: 0.5990889435442387\n",
      "Train Loss :1.192489504814148\n"
     ]
    },
    {
     "name": "stderr",
     "output_type": "stream",
     "text": [
      " 91%|█████████ | 251/276 [15:58<01:36,  3.84s/it]"
     ]
    },
    {
     "name": "stdout",
     "output_type": "stream",
     "text": [
      "Train Dice 1: 0.14448659121990204, 2: 0.1534576868526239 \t Acc: 0.6306061921296297\n",
      "Train Loss :1.1548254489898682\n"
     ]
    },
    {
     "name": "stderr",
     "output_type": "stream",
     "text": [
      " 95%|█████████▍| 261/276 [16:36<00:57,  3.81s/it]"
     ]
    },
    {
     "name": "stdout",
     "output_type": "stream",
     "text": [
      "Train Dice 1: 0.07063155621290207, 2: 0.06213481353341787 \t Acc: 0.6259732135202332\n",
      "Train Loss :1.2656899690628052\n"
     ]
    },
    {
     "name": "stderr",
     "output_type": "stream",
     "text": [
      " 98%|█████████▊| 271/276 [17:18<00:22,  4.53s/it]"
     ]
    },
    {
     "name": "stdout",
     "output_type": "stream",
     "text": [
      "Train Dice 1: 0.0282704196870327, 2: 0.03256214258647162 \t Acc: 0.587035630465535\n",
      "Train Loss :1.184103012084961\n"
     ]
    },
    {
     "name": "stderr",
     "output_type": "stream",
     "text": [
      "100%|██████████| 276/276 [17:37<00:00,  3.83s/it]\n",
      "  0%|          | 0/276 [00:00<?, ?it/s]"
     ]
    },
    {
     "name": "stdout",
     "output_type": "stream",
     "text": [
      "Train Epoch loss: 1.230161984761556, \t ACC/DICE :0.6378406606486761/0.14141763746738434 \n",
      "Starting Train epoch: 7\n"
     ]
    },
    {
     "name": "stderr",
     "output_type": "stream",
     "text": [
      "\r",
      "  0%|          | 1/276 [00:03<15:04,  3.29s/it]"
     ]
    },
    {
     "name": "stdout",
     "output_type": "stream",
     "text": [
      "Train Dice 1: 0.14450564980506897, 2: 0.10228086597622196 \t Acc: 0.6389947166495199\n",
      "Train Loss :1.1410614252090454\n"
     ]
    },
    {
     "name": "stderr",
     "output_type": "stream",
     "text": [
      "  4%|▍         | 11/276 [00:41<16:52,  3.82s/it]"
     ]
    },
    {
     "name": "stdout",
     "output_type": "stream",
     "text": [
      "Train Dice 1: 0.3155354857444763, 2: 0.2756993921491291 \t Acc: 0.6531401373885459\n",
      "Train Loss :1.1232962608337402\n"
     ]
    },
    {
     "name": "stderr",
     "output_type": "stream",
     "text": [
      "  8%|▊         | 21/276 [01:19<16:09,  3.80s/it]"
     ]
    },
    {
     "name": "stdout",
     "output_type": "stream",
     "text": [
      "Train Dice 1: 0.1962192803621292, 2: 0.12617309369323423 \t Acc: 0.6281761724108368\n",
      "Train Loss :1.0577166080474854\n"
     ]
    },
    {
     "name": "stderr",
     "output_type": "stream",
     "text": [
      " 11%|█         | 31/276 [01:58<15:41,  3.84s/it]"
     ]
    },
    {
     "name": "stdout",
     "output_type": "stream",
     "text": [
      "Train Dice 1: 0.05815281346440315, 2: 0.06718227145254876 \t Acc: 0.6448688271604939\n",
      "Train Loss :1.1412389278411865\n"
     ]
    },
    {
     "name": "stderr",
     "output_type": "stream",
     "text": [
      " 15%|█▍        | 41/276 [02:36<15:00,  3.83s/it]"
     ]
    },
    {
     "name": "stdout",
     "output_type": "stream",
     "text": [
      "Train Dice 1: 0.24424131214618683, 2: 0.243882208482428 \t Acc: 0.6733411833419067\n",
      "Train Loss :1.2480947971343994\n"
     ]
    },
    {
     "name": "stderr",
     "output_type": "stream",
     "text": [
      " 18%|█▊        | 51/276 [03:14<14:20,  3.82s/it]"
     ]
    },
    {
     "name": "stdout",
     "output_type": "stream",
     "text": [
      "Train Dice 1: 0.1878080666065216, 2: 0.12343657376523959 \t Acc: 0.6206644107938958\n",
      "Train Loss :1.073928713798523\n"
     ]
    },
    {
     "name": "stderr",
     "output_type": "stream",
     "text": [
      " 22%|██▏       | 61/276 [03:53<13:45,  3.84s/it]"
     ]
    },
    {
     "name": "stdout",
     "output_type": "stream",
     "text": [
      "Train Dice 1: 0.053395360708236694, 2: 0.04102131265798789 \t Acc: 0.6255810479895405\n",
      "Train Loss :1.227483868598938\n"
     ]
    },
    {
     "name": "stderr",
     "output_type": "stream",
     "text": [
      " 26%|██▌       | 71/276 [04:31<13:09,  3.85s/it]"
     ]
    },
    {
     "name": "stdout",
     "output_type": "stream",
     "text": [
      "Train Dice 1: 0.08716679364442825, 2: 0.07767777520366356 \t Acc: 0.6106790927211934\n",
      "Train Loss :1.3145592212677002\n"
     ]
    },
    {
     "name": "stderr",
     "output_type": "stream",
     "text": [
      " 29%|██▉       | 81/276 [05:10<12:31,  3.85s/it]"
     ]
    },
    {
     "name": "stdout",
     "output_type": "stream",
     "text": [
      "Train Dice 1: 0.14353619515895844, 2: 0.14549677013771642 \t Acc: 0.6249045540766461\n",
      "Train Loss :1.1371054649353027\n"
     ]
    },
    {
     "name": "stderr",
     "output_type": "stream",
     "text": [
      " 33%|███▎      | 91/276 [05:48<11:49,  3.84s/it]"
     ]
    },
    {
     "name": "stdout",
     "output_type": "stream",
     "text": [
      "Train Dice 1: 0.11270634084939957, 2: 0.1398219858975841 \t Acc: 0.6386440784679356\n",
      "Train Loss :1.1866075992584229\n"
     ]
    },
    {
     "name": "stderr",
     "output_type": "stream",
     "text": [
      " 37%|███▋      | 101/276 [06:34<11:34,  3.97s/it]"
     ]
    },
    {
     "name": "stdout",
     "output_type": "stream",
     "text": [
      "Train Dice 1: 0.10562176257371902, 2: 0.10411564692406457 \t Acc: 0.6013401277434842\n",
      "Train Loss :1.1701109409332275\n"
     ]
    },
    {
     "name": "stderr",
     "output_type": "stream",
     "text": [
      " 40%|████      | 111/276 [07:13<10:35,  3.85s/it]"
     ]
    },
    {
     "name": "stdout",
     "output_type": "stream",
     "text": [
      "Train Dice 1: 0.3636358380317688, 2: 0.2278472052913465 \t Acc: 0.6711971664951989\n",
      "Train Loss :1.0804314613342285\n"
     ]
    },
    {
     "name": "stderr",
     "output_type": "stream",
     "text": [
      " 44%|████▍     | 121/276 [07:51<09:55,  3.84s/it]"
     ]
    },
    {
     "name": "stdout",
     "output_type": "stream",
     "text": [
      "Train Dice 1: 0.08897452801465988, 2: 0.10840892700371041 \t Acc: 0.6799544136874143\n",
      "Train Loss :1.1625019311904907\n"
     ]
    },
    {
     "name": "stderr",
     "output_type": "stream",
     "text": [
      " 47%|████▋     | 131/276 [08:30<09:20,  3.86s/it]"
     ]
    },
    {
     "name": "stdout",
     "output_type": "stream",
     "text": [
      "Train Dice 1: 0.15974166989326477, 2: 0.158128380253051 \t Acc: 0.7032750342935528\n",
      "Train Loss :1.3121923208236694\n"
     ]
    },
    {
     "name": "stderr",
     "output_type": "stream",
     "text": [
      " 51%|█████     | 141/276 [09:08<08:39,  3.85s/it]"
     ]
    },
    {
     "name": "stdout",
     "output_type": "stream",
     "text": [
      "Train Dice 1: 0.12662385404109955, 2: 0.1546859840052566 \t Acc: 0.6501578709062071\n",
      "Train Loss :1.2497715950012207\n"
     ]
    },
    {
     "name": "stderr",
     "output_type": "stream",
     "text": [
      " 55%|█████▍    | 151/276 [09:47<07:59,  3.83s/it]"
     ]
    },
    {
     "name": "stdout",
     "output_type": "stream",
     "text": [
      "Train Dice 1: 0.09363190084695816, 2: 0.06625824920414726 \t Acc: 0.6100247020747599\n",
      "Train Loss :1.186111569404602\n"
     ]
    },
    {
     "name": "stderr",
     "output_type": "stream",
     "text": [
      " 58%|█████▊    | 161/276 [10:25<07:23,  3.85s/it]"
     ]
    },
    {
     "name": "stdout",
     "output_type": "stream",
     "text": [
      "Train Dice 1: 0.08069951832294464, 2: 0.08670674977801142 \t Acc: 0.6538229943629973\n",
      "Train Loss :1.3625661134719849\n"
     ]
    },
    {
     "name": "stderr",
     "output_type": "stream",
     "text": [
      " 62%|██████▏   | 171/276 [11:04<06:44,  3.85s/it]"
     ]
    },
    {
     "name": "stdout",
     "output_type": "stream",
     "text": [
      "Train Dice 1: 0.03404403105378151, 2: 0.02874456848661471 \t Acc: 0.6274343733924898\n",
      "Train Loss :1.2075010538101196\n"
     ]
    },
    {
     "name": "stderr",
     "output_type": "stream",
     "text": [
      " 66%|██████▌   | 181/276 [11:42<06:06,  3.86s/it]"
     ]
    },
    {
     "name": "stdout",
     "output_type": "stream",
     "text": [
      "Train Dice 1: 0.1953485757112503, 2: 0.17177327060020345 \t Acc: 0.6510001393175583\n",
      "Train Loss :1.3482753038406372\n"
     ]
    },
    {
     "name": "stderr",
     "output_type": "stream",
     "text": [
      " 69%|██████▉   | 191/276 [12:21<05:26,  3.84s/it]"
     ]
    },
    {
     "name": "stdout",
     "output_type": "stream",
     "text": [
      "Train Dice 1: 0.16530907154083252, 2: 0.10749837635825703 \t Acc: 0.685205279063786\n",
      "Train Loss :1.2749897241592407\n"
     ]
    },
    {
     "name": "stderr",
     "output_type": "stream",
     "text": [
      " 73%|███████▎  | 201/276 [12:59<04:49,  3.85s/it]"
     ]
    },
    {
     "name": "stdout",
     "output_type": "stream",
     "text": [
      "Train Dice 1: 0.04587210714817047, 2: 0.043024392545164346 \t Acc: 0.6331510818544238\n",
      "Train Loss :1.2835116386413574\n"
     ]
    },
    {
     "name": "stderr",
     "output_type": "stream",
     "text": [
      " 76%|███████▋  | 211/276 [13:38<04:10,  3.86s/it]"
     ]
    },
    {
     "name": "stdout",
     "output_type": "stream",
     "text": [
      "Train Dice 1: 0.18191039562225342, 2: 0.1669129825762635 \t Acc: 0.65283102655607\n",
      "Train Loss :1.302127480506897\n"
     ]
    },
    {
     "name": "stderr",
     "output_type": "stream",
     "text": [
      " 80%|████████  | 221/276 [14:16<03:31,  3.85s/it]"
     ]
    },
    {
     "name": "stdout",
     "output_type": "stream",
     "text": [
      "Train Dice 1: 0.059432558715343475, 2: 0.053570656457980634 \t Acc: 0.61881577396262\n",
      "Train Loss :1.3027812242507935\n"
     ]
    },
    {
     "name": "stderr",
     "output_type": "stream",
     "text": [
      " 84%|████████▎ | 231/276 [14:55<02:53,  3.85s/it]"
     ]
    },
    {
     "name": "stdout",
     "output_type": "stream",
     "text": [
      "Train Dice 1: 0.3435840606689453, 2: 0.27253062728361327 \t Acc: 0.6826111593364198\n",
      "Train Loss :1.3091095685958862\n"
     ]
    },
    {
     "name": "stderr",
     "output_type": "stream",
     "text": [
      " 87%|████████▋ | 241/276 [15:33<02:14,  3.85s/it]"
     ]
    },
    {
     "name": "stdout",
     "output_type": "stream",
     "text": [
      "Train Dice 1: 0.1476197987794876, 2: 0.12512723310663887 \t Acc: 0.6240669742369684\n",
      "Train Loss :1.2143510580062866\n"
     ]
    },
    {
     "name": "stderr",
     "output_type": "stream",
     "text": [
      " 91%|█████████ | 251/276 [16:12<01:36,  3.85s/it]"
     ]
    },
    {
     "name": "stdout",
     "output_type": "stream",
     "text": [
      "Train Dice 1: 0.1308058202266693, 2: 0.130899772781999 \t Acc: 0.6119935672796639\n",
      "Train Loss :1.24529230594635\n"
     ]
    },
    {
     "name": "stderr",
     "output_type": "stream",
     "text": [
      " 95%|█████████▍| 261/276 [16:50<00:57,  3.84s/it]"
     ]
    },
    {
     "name": "stdout",
     "output_type": "stream",
     "text": [
      "Train Dice 1: 0.09531157463788986, 2: 0.11347925520887323 \t Acc: 0.6333905339077504\n",
      "Train Loss :1.1283525228500366\n"
     ]
    },
    {
     "name": "stderr",
     "output_type": "stream",
     "text": [
      " 98%|█████████▊| 271/276 [17:29<00:19,  3.86s/it]"
     ]
    },
    {
     "name": "stdout",
     "output_type": "stream",
     "text": [
      "Train Dice 1: 0.031681399792432785, 2: 0.024229597362454697 \t Acc: 0.644564739797668\n",
      "Train Loss :1.1910929679870605\n"
     ]
    },
    {
     "name": "stderr",
     "output_type": "stream",
     "text": [
      "100%|██████████| 276/276 [17:48<00:00,  3.87s/it]\n",
      "  0%|          | 0/92 [00:00<?, ?it/s]"
     ]
    },
    {
     "name": "stdout",
     "output_type": "stream",
     "text": [
      "Train Epoch loss: 1.2219606590443763, \t ACC/DICE :0.6475130723785002/0.14617794752120972 \n"
     ]
    },
    {
     "name": "stderr",
     "output_type": "stream",
     "text": [
      "100%|██████████| 92/92 [05:11<00:00,  3.38s/it]\n",
      "  0%|          | 0/276 [00:00<?, ?it/s]"
     ]
    },
    {
     "name": "stdout",
     "output_type": "stream",
     "text": [
      "Val Dice : 13.275323867797852, len 92\n",
      "Val Epoch loss: 1.2141381670599398 \t acc/dice:/ 0.6736116425796393/ 0.14429700374603271\n",
      "Starting Train epoch: 8\n"
     ]
    },
    {
     "name": "stderr",
     "output_type": "stream",
     "text": [
      "\r",
      "  0%|          | 1/276 [00:03<15:04,  3.29s/it]"
     ]
    },
    {
     "name": "stdout",
     "output_type": "stream",
     "text": [
      "Train Dice 1: 0.12257032096385956, 2: 0.1348070537618693 \t Acc: 0.6827990371013375\n",
      "Train Loss :1.137686014175415\n"
     ]
    },
    {
     "name": "stderr",
     "output_type": "stream",
     "text": [
      "  4%|▍         | 11/276 [00:38<15:45,  3.57s/it]"
     ]
    },
    {
     "name": "stdout",
     "output_type": "stream",
     "text": [
      "Train Dice 1: 0.04789332300424576, 2: 0.04433692952211471 \t Acc: 0.6546920546124828\n",
      "Train Loss :1.2479336261749268\n"
     ]
    },
    {
     "name": "stderr",
     "output_type": "stream",
     "text": [
      "  8%|▊         | 21/276 [01:15<15:55,  3.75s/it]"
     ]
    },
    {
     "name": "stdout",
     "output_type": "stream",
     "text": [
      "Train Dice 1: 0.15686187148094177, 2: 0.12906227504959883 \t Acc: 0.6345151213134431\n",
      "Train Loss :1.2078617811203003\n"
     ]
    },
    {
     "name": "stderr",
     "output_type": "stream",
     "text": [
      " 11%|█         | 31/276 [01:53<15:36,  3.82s/it]"
     ]
    },
    {
     "name": "stdout",
     "output_type": "stream",
     "text": [
      "Train Dice 1: 0.22896462678909302, 2: 0.22612246485309273 \t Acc: 0.6667915836119684\n",
      "Train Loss :1.1232719421386719\n"
     ]
    },
    {
     "name": "stderr",
     "output_type": "stream",
     "text": [
      " 15%|█▍        | 41/276 [02:32<15:03,  3.84s/it]"
     ]
    },
    {
     "name": "stdout",
     "output_type": "stream",
     "text": [
      "Train Dice 1: 0.16305281221866608, 2: 0.17343316082988905 \t Acc: 0.63338048696845\n",
      "Train Loss :1.1228859424591064\n"
     ]
    },
    {
     "name": "stderr",
     "output_type": "stream",
     "text": [
      " 18%|█▊        | 51/276 [03:10<14:27,  3.85s/it]"
     ]
    },
    {
     "name": "stdout",
     "output_type": "stream",
     "text": [
      "Train Dice 1: 0.04258409142494202, 2: 0.05625130144995224 \t Acc: 0.625097455311214\n",
      "Train Loss :1.316375732421875\n"
     ]
    },
    {
     "name": "stderr",
     "output_type": "stream",
     "text": [
      " 22%|██▏       | 61/276 [03:49<13:53,  3.88s/it]"
     ]
    },
    {
     "name": "stdout",
     "output_type": "stream",
     "text": [
      "Train Dice 1: 0.020141640678048134, 2: 0.01860974831022571 \t Acc: 0.6119185501328875\n",
      "Train Loss :1.2893866300582886\n"
     ]
    },
    {
     "name": "stderr",
     "output_type": "stream",
     "text": [
      " 26%|██▌       | 71/276 [04:28<13:13,  3.87s/it]"
     ]
    },
    {
     "name": "stdout",
     "output_type": "stream",
     "text": [
      "Train Dice 1: 0.319424033164978, 2: 0.24332433219516414 \t Acc: 0.6806510014789094\n",
      "Train Loss :1.3032552003860474\n"
     ]
    },
    {
     "name": "stderr",
     "output_type": "stream",
     "text": [
      " 29%|██▉       | 81/276 [05:06<12:34,  3.87s/it]"
     ]
    },
    {
     "name": "stdout",
     "output_type": "stream",
     "text": [
      "Train Dice 1: 0.08922777324914932, 2: 0.0788971528762386 \t Acc: 0.6175157000171467\n",
      "Train Loss :1.3098739385604858\n"
     ]
    },
    {
     "name": "stderr",
     "output_type": "stream",
     "text": [
      " 33%|███▎      | 91/276 [05:45<11:53,  3.85s/it]"
     ]
    },
    {
     "name": "stdout",
     "output_type": "stream",
     "text": [
      "Train Dice 1: 0.2849602997303009, 2: 0.20591385296709422 \t Acc: 0.6469063464506173\n",
      "Train Loss :1.3157576322555542\n"
     ]
    },
    {
     "name": "stderr",
     "output_type": "stream",
     "text": [
      " 37%|███▋      | 101/276 [06:24<11:18,  3.87s/it]"
     ]
    },
    {
     "name": "stdout",
     "output_type": "stream",
     "text": [
      "Train Dice 1: 0.18133953213691711, 2: 0.17375487056515868 \t Acc: 0.656356832454561\n",
      "Train Loss :1.2316150665283203\n"
     ]
    },
    {
     "name": "stderr",
     "output_type": "stream",
     "text": [
      " 40%|████      | 111/276 [07:02<10:33,  3.84s/it]"
     ]
    },
    {
     "name": "stdout",
     "output_type": "stream",
     "text": [
      "Train Dice 1: 0.14498162269592285, 2: 0.13270558135204175 \t Acc: 0.6412603014617627\n",
      "Train Loss :1.249393105506897\n"
     ]
    },
    {
     "name": "stderr",
     "output_type": "stream",
     "text": [
      " 44%|████▍     | 121/276 [07:41<09:57,  3.86s/it]"
     ]
    },
    {
     "name": "stdout",
     "output_type": "stream",
     "text": [
      "Train Dice 1: 0.03160250186920166, 2: 0.022260151173964803 \t Acc: 0.6118957770704733\n",
      "Train Loss :1.1669560670852661\n"
     ]
    },
    {
     "name": "stderr",
     "output_type": "stream",
     "text": [
      " 47%|████▋     | 131/276 [08:19<09:18,  3.85s/it]"
     ]
    },
    {
     "name": "stdout",
     "output_type": "stream",
     "text": [
      "Train Dice 1: 0.26424798369407654, 2: 0.2902032237565624 \t Acc: 0.7153316963520233\n",
      "Train Loss :1.4149162769317627\n"
     ]
    },
    {
     "name": "stderr",
     "output_type": "stream",
     "text": [
      " 51%|█████     | 141/276 [08:58<08:40,  3.85s/it]"
     ]
    },
    {
     "name": "stdout",
     "output_type": "stream",
     "text": [
      "Train Dice 1: 0.018303144723176956, 2: 0.017025067817233407 \t Acc: 0.6615430625214335\n",
      "Train Loss :1.178905725479126\n"
     ]
    },
    {
     "name": "stderr",
     "output_type": "stream",
     "text": [
      " 55%|█████▍    | 151/276 [09:37<08:01,  3.85s/it]"
     ]
    },
    {
     "name": "stdout",
     "output_type": "stream",
     "text": [
      "Train Dice 1: 0.20596052706241608, 2: 0.1954543697908392 \t Acc: 0.6862592029963992\n",
      "Train Loss :1.3290958404541016\n"
     ]
    },
    {
     "name": "stderr",
     "output_type": "stream",
     "text": [
      " 58%|█████▊    | 161/276 [10:15<07:23,  3.85s/it]"
     ]
    },
    {
     "name": "stdout",
     "output_type": "stream",
     "text": [
      "Train Dice 1: 0.415544718503952, 2: 0.3429553047913042 \t Acc: 0.7696883171510631\n",
      "Train Loss :1.156942367553711\n"
     ]
    },
    {
     "name": "stderr",
     "output_type": "stream",
     "text": [
      " 62%|██████▏   | 171/276 [10:54<06:44,  3.86s/it]"
     ]
    },
    {
     "name": "stdout",
     "output_type": "stream",
     "text": [
      "Train Dice 1: 0.1785244643688202, 2: 0.16572169531352127 \t Acc: 0.6558913242669753\n",
      "Train Loss :1.3350542783737183\n"
     ]
    },
    {
     "name": "stderr",
     "output_type": "stream",
     "text": [
      " 66%|██████▌   | 181/276 [11:32<06:03,  3.83s/it]"
     ]
    },
    {
     "name": "stdout",
     "output_type": "stream",
     "text": [
      "Train Dice 1: 0.2106015682220459, 2: 0.21675281954887218 \t Acc: 0.6338265710733882\n",
      "Train Loss :1.152431607246399\n"
     ]
    },
    {
     "name": "stderr",
     "output_type": "stream",
     "text": [
      " 69%|██████▉   | 191/276 [12:11<05:26,  3.84s/it]"
     ]
    },
    {
     "name": "stdout",
     "output_type": "stream",
     "text": [
      "Train Dice 1: 0.3415991961956024, 2: 0.27265467412412997 \t Acc: 0.6757608212234225\n",
      "Train Loss :1.3005855083465576\n"
     ]
    },
    {
     "name": "stderr",
     "output_type": "stream",
     "text": [
      " 73%|███████▎  | 201/276 [12:49<04:50,  3.87s/it]"
     ]
    },
    {
     "name": "stdout",
     "output_type": "stream",
     "text": [
      "Train Dice 1: 0.2262399047613144, 2: 0.17342186074075042 \t Acc: 0.6608736014660493\n",
      "Train Loss :1.3545418977737427\n"
     ]
    },
    {
     "name": "stderr",
     "output_type": "stream",
     "text": [
      " 76%|███████▋  | 211/276 [13:28<04:10,  3.85s/it]"
     ]
    },
    {
     "name": "stdout",
     "output_type": "stream",
     "text": [
      "Train Dice 1: 0.23119837045669556, 2: 0.2172494297959376 \t Acc: 0.6883010759602195\n",
      "Train Loss :1.1816834211349487\n"
     ]
    },
    {
     "name": "stderr",
     "output_type": "stream",
     "text": [
      " 80%|████████  | 221/276 [14:06<03:32,  3.86s/it]"
     ]
    },
    {
     "name": "stdout",
     "output_type": "stream",
     "text": [
      "Train Dice 1: 0.40265247225761414, 2: 0.293842622715383 \t Acc: 0.7299439648705418\n",
      "Train Loss :1.3123493194580078\n"
     ]
    },
    {
     "name": "stderr",
     "output_type": "stream",
     "text": [
      " 84%|████████▎ | 231/276 [14:45<02:52,  3.84s/it]"
     ]
    },
    {
     "name": "stdout",
     "output_type": "stream",
     "text": [
      "Train Dice 1: 0.092294842004776, 2: 0.0791280679012523 \t Acc: 0.6781091258359053\n",
      "Train Loss :1.2813054323196411\n"
     ]
    },
    {
     "name": "stderr",
     "output_type": "stream",
     "text": [
      " 87%|████████▋ | 241/276 [15:23<02:15,  3.86s/it]"
     ]
    },
    {
     "name": "stdout",
     "output_type": "stream",
     "text": [
      "Train Dice 1: 0.11165893822908401, 2: 0.09981062603069629 \t Acc: 0.6426099403077846\n",
      "Train Loss :1.2865244150161743\n"
     ]
    },
    {
     "name": "stderr",
     "output_type": "stream",
     "text": [
      " 91%|█████████ | 251/276 [16:02<01:36,  3.87s/it]"
     ]
    },
    {
     "name": "stdout",
     "output_type": "stream",
     "text": [
      "Train Dice 1: 0.1030646413564682, 2: 0.08527026190328772 \t Acc: 0.6536598990483539\n",
      "Train Loss :1.3703231811523438\n"
     ]
    },
    {
     "name": "stderr",
     "output_type": "stream",
     "text": [
      " 95%|█████████▍| 261/276 [16:40<00:57,  3.86s/it]"
     ]
    },
    {
     "name": "stdout",
     "output_type": "stream",
     "text": [
      "Train Dice 1: 0.07488422840833664, 2: 0.0592627614923937 \t Acc: 0.6201808181155692\n",
      "Train Loss :1.3058549165725708\n"
     ]
    },
    {
     "name": "stderr",
     "output_type": "stream",
     "text": [
      " 98%|█████████▊| 271/276 [17:19<00:19,  3.86s/it]"
     ]
    },
    {
     "name": "stdout",
     "output_type": "stream",
     "text": [
      "Train Dice 1: 0.05400155857205391, 2: 0.046689927152183355 \t Acc: 0.6699476621442044\n",
      "Train Loss :1.2793947458267212\n"
     ]
    },
    {
     "name": "stderr",
     "output_type": "stream",
     "text": [
      "100%|██████████| 276/276 [17:38<00:00,  3.84s/it]\n",
      "  0%|          | 0/276 [00:00<?, ?it/s]"
     ]
    },
    {
     "name": "stdout",
     "output_type": "stream",
     "text": [
      "Train Epoch loss: 1.2269102179485818, \t ACC/DICE :0.655155115375362/0.1533873975276947 \n",
      "Starting Train epoch: 9\n"
     ]
    },
    {
     "name": "stderr",
     "output_type": "stream",
     "text": [
      "\r",
      "  0%|          | 1/276 [00:03<14:48,  3.23s/it]"
     ]
    },
    {
     "name": "stdout",
     "output_type": "stream",
     "text": [
      "Train Dice 1: 0.2814357876777649, 2: 0.27084315656923863 \t Acc: 0.6918553481867284\n",
      "Train Loss :1.2023639678955078\n"
     ]
    },
    {
     "name": "stderr",
     "output_type": "stream",
     "text": [
      "  4%|▍         | 11/276 [00:41<16:48,  3.81s/it]"
     ]
    },
    {
     "name": "stdout",
     "output_type": "stream",
     "text": [
      "Train Dice 1: 0.04756007343530655, 2: 0.04876629031160196 \t Acc: 0.5928286956661523\n",
      "Train Loss :1.1763646602630615\n"
     ]
    },
    {
     "name": "stderr",
     "output_type": "stream",
     "text": [
      "  8%|▊         | 21/276 [01:19<16:20,  3.85s/it]"
     ]
    },
    {
     "name": "stdout",
     "output_type": "stream",
     "text": [
      "Train Dice 1: 0.18704356253147125, 2: 0.19155964214566443 \t Acc: 0.6295184435013718\n",
      "Train Loss :1.123223066329956\n"
     ]
    },
    {
     "name": "stderr",
     "output_type": "stream",
     "text": [
      " 11%|█         | 31/276 [01:57<15:40,  3.84s/it]"
     ]
    },
    {
     "name": "stdout",
     "output_type": "stream",
     "text": [
      "Train Dice 1: 0.031693726778030396, 2: 0.025669443161090977 \t Acc: 0.633446461869856\n",
      "Train Loss :1.2507636547088623\n"
     ]
    },
    {
     "name": "stderr",
     "output_type": "stream",
     "text": [
      " 15%|█▍        | 41/276 [02:36<15:06,  3.86s/it]"
     ]
    },
    {
     "name": "stdout",
     "output_type": "stream",
     "text": [
      "Train Dice 1: 0.06958180665969849, 2: 0.07729843460185319 \t Acc: 0.6949565034507887\n",
      "Train Loss :1.152219533920288\n"
     ]
    },
    {
     "name": "stderr",
     "output_type": "stream",
     "text": [
      " 18%|█▊        | 51/276 [03:15<14:26,  3.85s/it]"
     ]
    },
    {
     "name": "stdout",
     "output_type": "stream",
     "text": [
      "Train Dice 1: 0.07704046368598938, 2: 0.08194431091079975 \t Acc: 0.6866105109739369\n",
      "Train Loss :1.198023796081543\n"
     ]
    },
    {
     "name": "stderr",
     "output_type": "stream",
     "text": [
      " 22%|██▏       | 61/276 [03:53<13:44,  3.84s/it]"
     ]
    },
    {
     "name": "stdout",
     "output_type": "stream",
     "text": [
      "Train Dice 1: 0.16587670147418976, 2: 0.1460577059966612 \t Acc: 0.6846182029106653\n",
      "Train Loss :1.3460134267807007\n"
     ]
    },
    {
     "name": "stderr",
     "output_type": "stream",
     "text": [
      " 26%|██▌       | 71/276 [04:32<13:11,  3.86s/it]"
     ]
    },
    {
     "name": "stdout",
     "output_type": "stream",
     "text": [
      "Train Dice 1: 0.11768878251314163, 2: 0.10139343204404153 \t Acc: 0.6618967147848079\n",
      "Train Loss :1.283740520477295\n"
     ]
    },
    {
     "name": "stderr",
     "output_type": "stream",
     "text": [
      " 29%|██▉       | 81/276 [05:10<12:29,  3.85s/it]"
     ]
    },
    {
     "name": "stdout",
     "output_type": "stream",
     "text": [
      "Train Dice 1: 0.210063636302948, 2: 0.21075941949723617 \t Acc: 0.6752286683384774\n",
      "Train Loss :1.123578429222107\n"
     ]
    },
    {
     "name": "stderr",
     "output_type": "stream",
     "text": [
      " 33%|███▎      | 91/276 [05:49<11:54,  3.86s/it]"
     ]
    },
    {
     "name": "stdout",
     "output_type": "stream",
     "text": [
      "Train Dice 1: 0.08476277440786362, 2: 0.11527357432891656 \t Acc: 0.6429582342035323\n",
      "Train Loss :1.2379251718521118\n"
     ]
    },
    {
     "name": "stderr",
     "output_type": "stream",
     "text": [
      " 37%|███▋      | 101/276 [06:27<11:14,  3.85s/it]"
     ]
    },
    {
     "name": "stdout",
     "output_type": "stream",
     "text": [
      "Train Dice 1: 0.07897258549928665, 2: 0.06856623756031184 \t Acc: 0.6724158602323388\n",
      "Train Loss :1.1609097719192505\n"
     ]
    },
    {
     "name": "stderr",
     "output_type": "stream",
     "text": [
      " 40%|████      | 111/276 [07:06<10:37,  3.87s/it]"
     ]
    },
    {
     "name": "stdout",
     "output_type": "stream",
     "text": [
      "Train Dice 1: 0.1961485743522644, 2: 0.17488618513633813 \t Acc: 0.7060443056627229\n",
      "Train Loss :1.2858786582946777\n"
     ]
    },
    {
     "name": "stderr",
     "output_type": "stream",
     "text": [
      " 44%|████▍     | 121/276 [07:44<09:57,  3.86s/it]"
     ]
    },
    {
     "name": "stdout",
     "output_type": "stream",
     "text": [
      "Train Dice 1: 0.11914245784282684, 2: 0.07860763743528738 \t Acc: 0.6277706109610768\n",
      "Train Loss :1.2643232345581055\n"
     ]
    },
    {
     "name": "stderr",
     "output_type": "stream",
     "text": [
      " 47%|████▋     | 131/276 [08:23<09:17,  3.84s/it]"
     ]
    },
    {
     "name": "stdout",
     "output_type": "stream",
     "text": [
      "Train Dice 1: 0.16539059579372406, 2: 0.20531879451109813 \t Acc: 0.6604981808341907\n",
      "Train Loss :1.4131314754486084\n"
     ]
    },
    {
     "name": "stderr",
     "output_type": "stream",
     "text": [
      " 51%|█████     | 141/276 [09:02<08:41,  3.86s/it]"
     ]
    },
    {
     "name": "stdout",
     "output_type": "stream",
     "text": [
      "Train Dice 1: 0.038291607052087784, 2: 0.02790299162979348 \t Acc: 0.6230753413280178\n",
      "Train Loss :1.2548587322235107\n"
     ]
    },
    {
     "name": "stderr",
     "output_type": "stream",
     "text": [
      " 55%|█████▍    | 151/276 [09:40<08:01,  3.85s/it]"
     ]
    },
    {
     "name": "stdout",
     "output_type": "stream",
     "text": [
      "Train Dice 1: 0.11410986632108688, 2: 0.09644441262516637 \t Acc: 0.6280562789351852\n",
      "Train Loss :1.317789077758789\n"
     ]
    },
    {
     "name": "stderr",
     "output_type": "stream",
     "text": [
      " 58%|█████▊    | 161/276 [10:19<07:23,  3.85s/it]"
     ]
    },
    {
     "name": "stdout",
     "output_type": "stream",
     "text": [
      "Train Dice 1: 0.2895243465900421, 2: 0.24328988093927623 \t Acc: 0.6661874276620371\n",
      "Train Loss :1.090685248374939\n"
     ]
    },
    {
     "name": "stderr",
     "output_type": "stream",
     "text": [
      " 62%|██████▏   | 171/276 [10:57<06:43,  3.84s/it]"
     ]
    },
    {
     "name": "stdout",
     "output_type": "stream",
     "text": [
      "Train Dice 1: 0.31909528374671936, 2: 0.29112476602273857 \t Acc: 0.7066444428369342\n",
      "Train Loss :1.0699833631515503\n"
     ]
    },
    {
     "name": "stderr",
     "output_type": "stream",
     "text": [
      " 66%|██████▌   | 181/276 [11:36<06:04,  3.84s/it]"
     ]
    },
    {
     "name": "stdout",
     "output_type": "stream",
     "text": [
      "Train Dice 1: 0.043916236609220505, 2: 0.055101500860081365 \t Acc: 0.6065052592378258\n",
      "Train Loss :1.1501814126968384\n"
     ]
    },
    {
     "name": "stderr",
     "output_type": "stream",
     "text": [
      " 69%|██████▉   | 191/276 [12:14<05:27,  3.85s/it]"
     ]
    },
    {
     "name": "stdout",
     "output_type": "stream",
     "text": [
      "Train Dice 1: 0.08759123831987381, 2: 0.0681562107687308 \t Acc: 0.6216550390089163\n",
      "Train Loss :1.1969809532165527\n"
     ]
    },
    {
     "name": "stderr",
     "output_type": "stream",
     "text": [
      " 73%|███████▎  | 201/276 [12:53<04:48,  3.84s/it]"
     ]
    },
    {
     "name": "stdout",
     "output_type": "stream",
     "text": [
      "Train Dice 1: 0.28136181831359863, 2: 0.27880899999819525 \t Acc: 0.7323468578532236\n",
      "Train Loss :1.120893955230713\n"
     ]
    },
    {
     "name": "stderr",
     "output_type": "stream",
     "text": [
      " 76%|███████▋  | 211/276 [13:31<04:10,  3.85s/it]"
     ]
    },
    {
     "name": "stdout",
     "output_type": "stream",
     "text": [
      "Train Dice 1: 0.1516369879245758, 2: 0.2051892545935344 \t Acc: 0.6726586612654321\n",
      "Train Loss :1.233267903327942\n"
     ]
    },
    {
     "name": "stderr",
     "output_type": "stream",
     "text": [
      " 80%|████████  | 221/276 [14:10<03:31,  3.85s/it]"
     ]
    },
    {
     "name": "stdout",
     "output_type": "stream",
     "text": [
      "Train Dice 1: 0.14391523599624634, 2: 0.12183440090065564 \t Acc: 0.6651053722993827\n",
      "Train Loss :1.0588010549545288\n"
     ]
    },
    {
     "name": "stderr",
     "output_type": "stream",
     "text": [
      " 84%|████████▎ | 231/276 [14:48<02:53,  3.85s/it]"
     ]
    },
    {
     "name": "stdout",
     "output_type": "stream",
     "text": [
      "Train Dice 1: 0.25118201971054077, 2: 0.1896515288622534 \t Acc: 0.6994980549125515\n",
      "Train Loss :1.3104342222213745\n"
     ]
    },
    {
     "name": "stderr",
     "output_type": "stream",
     "text": [
      " 87%|████████▋ | 241/276 [15:27<02:14,  3.85s/it]"
     ]
    },
    {
     "name": "stdout",
     "output_type": "stream",
     "text": [
      "Train Dice 1: 0.26087185740470886, 2: 0.17188737106216895 \t Acc: 0.676691837598594\n",
      "Train Loss :1.05204176902771\n"
     ]
    },
    {
     "name": "stderr",
     "output_type": "stream",
     "text": [
      " 91%|█████████ | 251/276 [16:05<01:36,  3.86s/it]"
     ]
    },
    {
     "name": "stdout",
     "output_type": "stream",
     "text": [
      "Train Dice 1: 0.13608303666114807, 2: 0.155054546440292 \t Acc: 0.6659640507115913\n",
      "Train Loss :1.1811777353286743\n"
     ]
    },
    {
     "name": "stderr",
     "output_type": "stream",
     "text": [
      " 95%|█████████▍| 261/276 [16:44<00:57,  3.84s/it]"
     ]
    },
    {
     "name": "stdout",
     "output_type": "stream",
     "text": [
      "Train Dice 1: 0.11989539861679077, 2: 0.12777429990401068 \t Acc: 0.650041661308299\n",
      "Train Loss :1.1814619302749634\n"
     ]
    },
    {
     "name": "stderr",
     "output_type": "stream",
     "text": [
      " 98%|█████████▊| 271/276 [17:22<00:19,  3.85s/it]"
     ]
    },
    {
     "name": "stdout",
     "output_type": "stream",
     "text": [
      "Train Dice 1: 0.25343772768974304, 2: 0.1995587503893632 \t Acc: 0.6884658457647462\n",
      "Train Loss :1.316597819328308\n"
     ]
    },
    {
     "name": "stderr",
     "output_type": "stream",
     "text": [
      "100%|██████████| 276/276 [17:41<00:00,  3.85s/it]\n",
      "  0%|          | 0/92 [00:00<?, ?it/s]"
     ]
    },
    {
     "name": "stdout",
     "output_type": "stream",
     "text": [
      "Train Epoch loss: 1.2103078883627187, \t ACC/DICE :0.6619289450748681/0.1520802229642868 \n"
     ]
    },
    {
     "name": "stderr",
     "output_type": "stream",
     "text": [
      "100%|██████████| 92/92 [05:05<00:00,  3.32s/it]\n"
     ]
    },
    {
     "name": "stdout",
     "output_type": "stream",
     "text": [
      "Val Dice : 13.955554008483887, len 92\n",
      "Val Epoch loss: 1.2011946271295133 \t acc/dice:/ 0.6802814015194931/ 0.15169081091880798\n"
     ]
    },
    {
     "name": "stderr",
     "output_type": "stream",
     "text": [
      "\r",
      "  0%|          | 0/276 [00:00<?, ?it/s]"
     ]
    },
    {
     "name": "stdout",
     "output_type": "stream",
     "text": [
      "Starting Train epoch: 10\n"
     ]
    },
    {
     "name": "stderr",
     "output_type": "stream",
     "text": [
      "\r",
      "  0%|          | 1/276 [00:03<14:59,  3.27s/it]"
     ]
    },
    {
     "name": "stdout",
     "output_type": "stream",
     "text": [
      "Train Dice 1: 0.047638557851314545, 2: 0.03276756977991653 \t Acc: 0.6343547051826132\n",
      "Train Loss :1.1788016557693481\n"
     ]
    },
    {
     "name": "stderr",
     "output_type": "stream",
     "text": [
      "  4%|▍         | 11/276 [00:38<15:40,  3.55s/it]"
     ]
    },
    {
     "name": "stdout",
     "output_type": "stream",
     "text": [
      "Train Dice 1: 0.14402559399604797, 2: 0.11921040241907693 \t Acc: 0.6961333349408436\n",
      "Train Loss :1.2901158332824707\n"
     ]
    },
    {
     "name": "stderr",
     "output_type": "stream",
     "text": [
      "  8%|▊         | 21/276 [01:15<15:47,  3.71s/it]"
     ]
    },
    {
     "name": "stdout",
     "output_type": "stream",
     "text": [
      "Train Dice 1: 0.035079557448625565, 2: 0.05274233394743714 \t Acc: 0.6464860494898834\n",
      "Train Loss :1.18839693069458\n"
     ]
    },
    {
     "name": "stderr",
     "output_type": "stream",
     "text": [
      " 11%|█         | 31/276 [01:53<15:30,  3.80s/it]"
     ]
    },
    {
     "name": "stdout",
     "output_type": "stream",
     "text": [
      "Train Dice 1: 0.04657984897494316, 2: 0.04984140407993701 \t Acc: 0.6997428653335048\n",
      "Train Loss :1.241989254951477\n"
     ]
    },
    {
     "name": "stderr",
     "output_type": "stream",
     "text": [
      " 15%|█▍        | 41/276 [02:31<14:56,  3.81s/it]"
     ]
    },
    {
     "name": "stdout",
     "output_type": "stream",
     "text": [
      "Train Dice 1: 0.10552918165922165, 2: 0.0816695677208321 \t Acc: 0.6752494320130316\n",
      "Train Loss :1.3017055988311768\n"
     ]
    },
    {
     "name": "stderr",
     "output_type": "stream",
     "text": [
      " 18%|█▊        | 51/276 [03:10<14:25,  3.85s/it]"
     ]
    },
    {
     "name": "stdout",
     "output_type": "stream",
     "text": [
      "Train Dice 1: 0.26095712184906006, 2: 0.20073693346986027 \t Acc: 0.7597639505101166\n",
      "Train Loss :1.3152581453323364\n"
     ]
    },
    {
     "name": "stderr",
     "output_type": "stream",
     "text": [
      " 22%|██▏       | 61/276 [03:48<13:46,  3.85s/it]"
     ]
    },
    {
     "name": "stdout",
     "output_type": "stream",
     "text": [
      "Train Dice 1: 0.027398547157645226, 2: 0.02583150043707526 \t Acc: 0.629769616983882\n",
      "Train Loss :1.2892299890518188\n"
     ]
    },
    {
     "name": "stderr",
     "output_type": "stream",
     "text": [
      " 26%|██▌       | 71/276 [04:27<13:12,  3.86s/it]"
     ]
    },
    {
     "name": "stdout",
     "output_type": "stream",
     "text": [
      "Train Dice 1: 0.2569558918476105, 2: 0.2570436721652231 \t Acc: 0.6973922164351852\n",
      "Train Loss :1.0753967761993408\n"
     ]
    },
    {
     "name": "stderr",
     "output_type": "stream",
     "text": [
      " 29%|██▉       | 81/276 [05:05<12:36,  3.88s/it]"
     ]
    },
    {
     "name": "stdout",
     "output_type": "stream",
     "text": [
      "Train Dice 1: 0.10632938146591187, 2: 0.08267075488053192 \t Acc: 0.638499067644033\n",
      "Train Loss :1.0905838012695312\n"
     ]
    },
    {
     "name": "stderr",
     "output_type": "stream",
     "text": [
      " 33%|███▎      | 91/276 [05:44<11:50,  3.84s/it]"
     ]
    },
    {
     "name": "stdout",
     "output_type": "stream",
     "text": [
      "Train Dice 1: 0.13959528505802155, 2: 0.12915444354202424 \t Acc: 0.5974610044795954\n",
      "Train Loss :1.0491055250167847\n"
     ]
    },
    {
     "name": "stderr",
     "output_type": "stream",
     "text": [
      " 37%|███▋      | 101/276 [06:23<11:16,  3.87s/it]"
     ]
    },
    {
     "name": "stdout",
     "output_type": "stream",
     "text": [
      "Train Dice 1: 0.0747561827301979, 2: 0.0764375290382907 \t Acc: 0.6817886499056928\n",
      "Train Loss :1.372349739074707\n"
     ]
    },
    {
     "name": "stderr",
     "output_type": "stream",
     "text": [
      " 40%|████      | 111/276 [07:01<10:36,  3.86s/it]"
     ]
    },
    {
     "name": "stdout",
     "output_type": "stream",
     "text": [
      "Train Dice 1: 0.38470715284347534, 2: 0.26181488122022206 \t Acc: 0.6796978818372771\n",
      "Train Loss :1.0236598253250122\n"
     ]
    },
    {
     "name": "stderr",
     "output_type": "stream",
     "text": [
      " 44%|████▍     | 121/276 [07:40<09:58,  3.86s/it]"
     ]
    },
    {
     "name": "stdout",
     "output_type": "stream",
     "text": [
      "Train Dice 1: 0.16759192943572998, 2: 0.14297869168087438 \t Acc: 0.6458031925154321\n",
      "Train Loss :1.277992844581604\n"
     ]
    },
    {
     "name": "stderr",
     "output_type": "stream",
     "text": [
      " 47%|████▋     | 131/276 [08:18<09:20,  3.87s/it]"
     ]
    },
    {
     "name": "stdout",
     "output_type": "stream",
     "text": [
      "Train Dice 1: 0.1054893434047699, 2: 0.11032574221901952 \t Acc: 0.6063763235168038\n",
      "Train Loss :1.3286786079406738\n"
     ]
    },
    {
     "name": "stderr",
     "output_type": "stream",
     "text": [
      " 51%|█████     | 141/276 [08:57<08:42,  3.87s/it]"
     ]
    },
    {
     "name": "stdout",
     "output_type": "stream",
     "text": [
      "Train Dice 1: 0.1498299092054367, 2: 0.13070366629454397 \t Acc: 0.6221309290337792\n",
      "Train Loss :1.3290703296661377\n"
     ]
    },
    {
     "name": "stderr",
     "output_type": "stream",
     "text": [
      " 55%|█████▍    | 151/276 [09:36<08:01,  3.85s/it]"
     ]
    },
    {
     "name": "stdout",
     "output_type": "stream",
     "text": [
      "Train Dice 1: 0.3209196925163269, 2: 0.2965114910595769 \t Acc: 0.669692469885974\n",
      "Train Loss :1.3352925777435303\n"
     ]
    },
    {
     "name": "stderr",
     "output_type": "stream",
     "text": [
      " 58%|█████▊    | 161/276 [10:14<07:25,  3.87s/it]"
     ]
    },
    {
     "name": "stdout",
     "output_type": "stream",
     "text": [
      "Train Dice 1: 0.03100312128663063, 2: 0.025461753962787183 \t Acc: 0.6119453419710219\n",
      "Train Loss :1.1706140041351318\n"
     ]
    },
    {
     "name": "stderr",
     "output_type": "stream",
     "text": [
      " 62%|██████▏   | 171/276 [10:53<06:45,  3.86s/it]"
     ]
    },
    {
     "name": "stdout",
     "output_type": "stream",
     "text": [
      "Train Dice 1: 0.19021151959896088, 2: 0.18559611106949797 \t Acc: 0.6759296098036695\n",
      "Train Loss :1.3220561742782593\n"
     ]
    },
    {
     "name": "stderr",
     "output_type": "stream",
     "text": [
      " 66%|██████▌   | 181/276 [11:32<06:07,  3.87s/it]"
     ]
    },
    {
     "name": "stdout",
     "output_type": "stream",
     "text": [
      "Train Dice 1: 0.2293463796377182, 2: 0.19680446010559777 \t Acc: 0.6492375712662894\n",
      "Train Loss :1.2756726741790771\n"
     ]
    },
    {
     "name": "stderr",
     "output_type": "stream",
     "text": [
      " 69%|██████▉   | 191/276 [12:10<05:26,  3.84s/it]"
     ]
    },
    {
     "name": "stdout",
     "output_type": "stream",
     "text": [
      "Train Dice 1: 0.18802574276924133, 2: 0.18003401094444194 \t Acc: 0.6665430893132716\n",
      "Train Loss :1.0210940837860107\n"
     ]
    },
    {
     "name": "stderr",
     "output_type": "stream",
     "text": [
      " 73%|███████▎  | 201/276 [12:49<04:51,  3.89s/it]"
     ]
    },
    {
     "name": "stdout",
     "output_type": "stream",
     "text": [
      "Train Dice 1: 0.18341310322284698, 2: 0.1873818036249189 \t Acc: 0.684560935356653\n",
      "Train Loss :1.1277445554733276\n"
     ]
    },
    {
     "name": "stderr",
     "output_type": "stream",
     "text": [
      " 76%|███████▋  | 211/276 [13:28<04:11,  3.87s/it]"
     ]
    },
    {
     "name": "stdout",
     "output_type": "stream",
     "text": [
      "Train Dice 1: 0.18885262310504913, 2: 0.17600754033908467 \t Acc: 0.6170495220336076\n",
      "Train Loss :1.3050397634506226\n"
     ]
    },
    {
     "name": "stderr",
     "output_type": "stream",
     "text": [
      " 80%|████████  | 221/276 [14:07<03:33,  3.88s/it]"
     ]
    },
    {
     "name": "stdout",
     "output_type": "stream",
     "text": [
      "Train Dice 1: 0.2557755410671234, 2: 0.19488459313065967 \t Acc: 0.6518946518132716\n",
      "Train Loss :1.32041335105896\n"
     ]
    },
    {
     "name": "stderr",
     "output_type": "stream",
     "text": [
      " 84%|████████▎ | 231/276 [14:45<02:53,  3.87s/it]"
     ]
    },
    {
     "name": "stdout",
     "output_type": "stream",
     "text": [
      "Train Dice 1: 0.12307503819465637, 2: 0.11713501498725709 \t Acc: 0.644302849579904\n",
      "Train Loss :1.1953647136688232\n"
     ]
    },
    {
     "name": "stderr",
     "output_type": "stream",
     "text": [
      " 87%|████████▋ | 241/276 [15:24<02:15,  3.88s/it]"
     ]
    },
    {
     "name": "stdout",
     "output_type": "stream",
     "text": [
      "Train Dice 1: 0.08346685022115707, 2: 0.08867681550976783 \t Acc: 0.6710478019975995\n",
      "Train Loss :1.3679479360580444\n"
     ]
    },
    {
     "name": "stderr",
     "output_type": "stream",
     "text": [
      " 91%|█████████ | 251/276 [16:03<01:37,  3.88s/it]"
     ]
    },
    {
     "name": "stdout",
     "output_type": "stream",
     "text": [
      "Train Dice 1: 0.1704072207212448, 2: 0.15670458832446726 \t Acc: 0.6736050829475309\n",
      "Train Loss :1.3463643789291382\n"
     ]
    },
    {
     "name": "stderr",
     "output_type": "stream",
     "text": [
      " 95%|█████████▍| 261/276 [16:42<00:58,  3.88s/it]"
     ]
    },
    {
     "name": "stdout",
     "output_type": "stream",
     "text": [
      "Train Dice 1: 0.06827259063720703, 2: 0.06284600417802845 \t Acc: 0.6496431327160493\n",
      "Train Loss :1.3292746543884277\n"
     ]
    },
    {
     "name": "stderr",
     "output_type": "stream",
     "text": [
      " 98%|█████████▊| 271/276 [17:20<00:19,  3.87s/it]"
     ]
    },
    {
     "name": "stdout",
     "output_type": "stream",
     "text": [
      "Train Dice 1: 0.05161314830183983, 2: 0.043327243488059164 \t Acc: 0.6485640914351852\n",
      "Train Loss :1.2673982381820679\n"
     ]
    },
    {
     "name": "stderr",
     "output_type": "stream",
     "text": [
      "100%|██████████| 276/276 [17:40<00:00,  3.84s/it]\n",
      "  0%|          | 0/276 [00:00<?, ?it/s]"
     ]
    },
    {
     "name": "stdout",
     "output_type": "stream",
     "text": [
      "Train Epoch loss: 1.223417273466138, \t ACC/DICE :0.654598928706996/0.1504654586315155 \n",
      "Starting Train epoch: 11\n"
     ]
    },
    {
     "name": "stderr",
     "output_type": "stream",
     "text": [
      "\r",
      "  0%|          | 1/276 [00:03<15:16,  3.33s/it]"
     ]
    },
    {
     "name": "stdout",
     "output_type": "stream",
     "text": [
      "Train Dice 1: 0.13348892331123352, 2: 0.117844454535741 \t Acc: 0.6460865162037037\n",
      "Train Loss :1.0893211364746094\n"
     ]
    },
    {
     "name": "stderr",
     "output_type": "stream",
     "text": [
      "  4%|▍         | 11/276 [00:41<16:57,  3.84s/it]"
     ]
    },
    {
     "name": "stdout",
     "output_type": "stream",
     "text": [
      "Train Dice 1: 0.03919973596930504, 2: 0.04097031678722873 \t Acc: 0.6600738650977366\n",
      "Train Loss :1.244928002357483\n"
     ]
    },
    {
     "name": "stderr",
     "output_type": "stream",
     "text": [
      "  8%|▊         | 21/276 [01:20<16:26,  3.87s/it]"
     ]
    },
    {
     "name": "stdout",
     "output_type": "stream",
     "text": [
      "Train Dice 1: 0.18533937633037567, 2: 0.16007973539507275 \t Acc: 0.6757280012217078\n",
      "Train Loss :1.2909053564071655\n"
     ]
    },
    {
     "name": "stderr",
     "output_type": "stream",
     "text": [
      " 11%|█         | 31/276 [01:59<15:54,  3.89s/it]"
     ]
    },
    {
     "name": "stdout",
     "output_type": "stream",
     "text": [
      "Train Dice 1: 0.18843808770179749, 2: 0.18306195802920583 \t Acc: 0.6579298482510288\n",
      "Train Loss :1.1134870052337646\n"
     ]
    },
    {
     "name": "stderr",
     "output_type": "stream",
     "text": [
      " 15%|█▍        | 41/276 [02:37<15:12,  3.88s/it]"
     ]
    },
    {
     "name": "stdout",
     "output_type": "stream",
     "text": [
      "Train Dice 1: 0.37660112977027893, 2: 0.23046418788769116 \t Acc: 0.669662998864026\n",
      "Train Loss :1.1385236978530884\n"
     ]
    },
    {
     "name": "stderr",
     "output_type": "stream",
     "text": [
      " 18%|█▊        | 51/276 [03:16<14:33,  3.88s/it]"
     ]
    },
    {
     "name": "stdout",
     "output_type": "stream",
     "text": [
      "Train Dice 1: 0.039226680994033813, 2: 0.030581249678227593 \t Acc: 0.6405570157107339\n",
      "Train Loss :1.241046667098999\n"
     ]
    },
    {
     "name": "stderr",
     "output_type": "stream",
     "text": [
      " 22%|██▏       | 61/276 [03:55<13:57,  3.89s/it]"
     ]
    },
    {
     "name": "stdout",
     "output_type": "stream",
     "text": [
      "Train Dice 1: 0.1663435846567154, 2: 0.12000334038525777 \t Acc: 0.6612118484224966\n",
      "Train Loss :1.2427572011947632\n"
     ]
    },
    {
     "name": "stderr",
     "output_type": "stream",
     "text": [
      " 26%|██▌       | 71/276 [04:34<13:12,  3.87s/it]"
     ]
    },
    {
     "name": "stdout",
     "output_type": "stream",
     "text": [
      "Train Dice 1: 0.1551337093114853, 2: 0.2267728787757883 \t Acc: 0.6625065640003429\n",
      "Train Loss :1.1928112506866455\n"
     ]
    },
    {
     "name": "stderr",
     "output_type": "stream",
     "text": [
      " 29%|██▉       | 81/276 [05:13<12:38,  3.89s/it]"
     ]
    },
    {
     "name": "stdout",
     "output_type": "stream",
     "text": [
      "Train Dice 1: 0.1177377849817276, 2: 0.09184810308550817 \t Acc: 0.6276423450360082\n",
      "Train Loss :1.3420886993408203\n"
     ]
    },
    {
     "name": "stderr",
     "output_type": "stream",
     "text": [
      " 33%|███▎      | 91/276 [05:51<11:59,  3.89s/it]"
     ]
    },
    {
     "name": "stdout",
     "output_type": "stream",
     "text": [
      "Train Dice 1: 0.11022273451089859, 2: 0.11739418409011894 \t Acc: 0.6505704652134774\n",
      "Train Loss :1.149613618850708\n"
     ]
    },
    {
     "name": "stderr",
     "output_type": "stream",
     "text": [
      " 37%|███▋      | 101/276 [06:30<11:16,  3.87s/it]"
     ]
    },
    {
     "name": "stdout",
     "output_type": "stream",
     "text": [
      "Train Dice 1: 0.017222439870238304, 2: 0.02833187443429742 \t Acc: 0.6066857692472565\n",
      "Train Loss :1.1902737617492676\n"
     ]
    },
    {
     "name": "stderr",
     "output_type": "stream",
     "text": [
      " 40%|████      | 111/276 [07:09<10:45,  3.91s/it]"
     ]
    },
    {
     "name": "stdout",
     "output_type": "stream",
     "text": [
      "Train Dice 1: 0.2083199918270111, 2: 0.18573986193709027 \t Acc: 0.679987233689129\n",
      "Train Loss :1.3109139204025269\n"
     ]
    },
    {
     "name": "stderr",
     "output_type": "stream",
     "text": [
      " 44%|████▍     | 121/276 [07:48<10:05,  3.91s/it]"
     ]
    },
    {
     "name": "stdout",
     "output_type": "stream",
     "text": [
      "Train Dice 1: 0.03562259301543236, 2: 0.026401033045682736 \t Acc: 0.629076043274177\n",
      "Train Loss :1.3207327127456665\n"
     ]
    },
    {
     "name": "stderr",
     "output_type": "stream",
     "text": [
      " 47%|████▋     | 131/276 [08:27<09:23,  3.89s/it]"
     ]
    },
    {
     "name": "stdout",
     "output_type": "stream",
     "text": [
      "Train Dice 1: 0.12624523043632507, 2: 0.1735226865632035 \t Acc: 0.6870897499785665\n",
      "Train Loss :1.3104355335235596\n"
     ]
    },
    {
     "name": "stderr",
     "output_type": "stream",
     "text": [
      " 51%|█████     | 141/276 [09:06<08:44,  3.89s/it]"
     ]
    },
    {
     "name": "stdout",
     "output_type": "stream",
     "text": [
      "Train Dice 1: 0.22353605926036835, 2: 0.16491766678307127 \t Acc: 0.6660461007158779\n",
      "Train Loss :1.2906911373138428\n"
     ]
    },
    {
     "name": "stderr",
     "output_type": "stream",
     "text": [
      " 55%|█████▍    | 151/276 [09:45<08:07,  3.90s/it]"
     ]
    },
    {
     "name": "stdout",
     "output_type": "stream",
     "text": [
      "Train Dice 1: 0.1349407285451889, 2: 0.09761964656310924 \t Acc: 0.6540135513117284\n",
      "Train Loss :1.2906012535095215\n"
     ]
    },
    {
     "name": "stderr",
     "output_type": "stream",
     "text": [
      " 58%|█████▊    | 161/276 [10:24<07:27,  3.89s/it]"
     ]
    },
    {
     "name": "stdout",
     "output_type": "stream",
     "text": [
      "Train Dice 1: 0.2811416983604431, 2: 0.24881060413031228 \t Acc: 0.6870147328317902\n",
      "Train Loss :1.3128581047058105\n"
     ]
    },
    {
     "name": "stderr",
     "output_type": "stream",
     "text": [
      " 62%|██████▏   | 171/276 [11:03<06:48,  3.89s/it]"
     ]
    },
    {
     "name": "stdout",
     "output_type": "stream",
     "text": [
      "Train Dice 1: 0.14399394392967224, 2: 0.1323105093117939 \t Acc: 0.6314993650334362\n",
      "Train Loss :1.3467222452163696\n"
     ]
    },
    {
     "name": "stderr",
     "output_type": "stream",
     "text": [
      " 66%|██████▌   | 181/276 [11:42<06:10,  3.90s/it]"
     ]
    },
    {
     "name": "stdout",
     "output_type": "stream",
     "text": [
      "Train Dice 1: 0.08991590887308121, 2: 0.0828078894923738 \t Acc: 0.7216408393347051\n",
      "Train Loss :1.2915173768997192\n"
     ]
    },
    {
     "name": "stderr",
     "output_type": "stream",
     "text": [
      " 69%|██████▉   | 191/276 [12:21<05:30,  3.89s/it]"
     ]
    },
    {
     "name": "stdout",
     "output_type": "stream",
     "text": [
      "Train Dice 1: 0.12934307754039764, 2: 0.09349165480378752 \t Acc: 0.6756288714206105\n",
      "Train Loss :1.238574743270874\n"
     ]
    },
    {
     "name": "stderr",
     "output_type": "stream",
     "text": [
      " 73%|███████▎  | 201/276 [12:59<04:51,  3.89s/it]"
     ]
    },
    {
     "name": "stdout",
     "output_type": "stream",
     "text": [
      "Train Dice 1: 0.10956678539514542, 2: 0.10349150318712154 \t Acc: 0.6553554875042867\n",
      "Train Loss :1.246588945388794\n"
     ]
    },
    {
     "name": "stderr",
     "output_type": "stream",
     "text": [
      " 76%|███████▋  | 211/276 [13:38<04:12,  3.89s/it]"
     ]
    },
    {
     "name": "stdout",
     "output_type": "stream",
     "text": [
      "Train Dice 1: 0.10142713785171509, 2: 0.10735449803759554 \t Acc: 0.6295184435013718\n",
      "Train Loss :1.3825596570968628\n"
     ]
    },
    {
     "name": "stderr",
     "output_type": "stream",
     "text": [
      " 80%|████████  | 221/276 [14:17<03:33,  3.88s/it]"
     ]
    },
    {
     "name": "stdout",
     "output_type": "stream",
     "text": [
      "Train Dice 1: 0.2168489545583725, 2: 0.1827318434851024 \t Acc: 0.6952602559156379\n",
      "Train Loss :1.3190300464630127\n"
     ]
    },
    {
     "name": "stderr",
     "output_type": "stream",
     "text": [
      " 84%|████████▎ | 231/276 [14:56<02:55,  3.89s/it]"
     ]
    },
    {
     "name": "stdout",
     "output_type": "stream",
     "text": [
      "Train Dice 1: 0.11943545937538147, 2: 0.11536881557541878 \t Acc: 0.6559924634559328\n",
      "Train Loss :1.3622452020645142\n"
     ]
    },
    {
     "name": "stderr",
     "output_type": "stream",
     "text": [
      " 87%|████████▋ | 241/276 [15:35<02:15,  3.86s/it]"
     ]
    },
    {
     "name": "stdout",
     "output_type": "stream",
     "text": [
      "Train Dice 1: 0.13323751091957092, 2: 0.11694075205408047 \t Acc: 0.6919310351294582\n",
      "Train Loss :1.2865070104599\n"
     ]
    },
    {
     "name": "stderr",
     "output_type": "stream",
     "text": [
      " 91%|█████████ | 251/276 [16:14<01:37,  3.89s/it]"
     ]
    },
    {
     "name": "stdout",
     "output_type": "stream",
     "text": [
      "Train Dice 1: 0.08182770758867264, 2: 0.07000691978639528 \t Acc: 0.6435285654578189\n",
      "Train Loss :1.1100001335144043\n"
     ]
    },
    {
     "name": "stderr",
     "output_type": "stream",
     "text": [
      " 95%|█████████▍| 261/276 [16:52<00:58,  3.87s/it]"
     ]
    },
    {
     "name": "stdout",
     "output_type": "stream",
     "text": [
      "Train Dice 1: 0.10110007226467133, 2: 0.08600997765509766 \t Acc: 0.6408232596021948\n",
      "Train Loss :1.1274632215499878\n"
     ]
    },
    {
     "name": "stderr",
     "output_type": "stream",
     "text": [
      " 98%|█████████▊| 271/276 [17:31<00:19,  3.89s/it]"
     ]
    },
    {
     "name": "stdout",
     "output_type": "stream",
     "text": [
      "Train Dice 1: 0.2228522002696991, 2: 0.18796826985412593 \t Acc: 0.6837089549039781\n",
      "Train Loss :1.0379921197891235\n"
     ]
    },
    {
     "name": "stderr",
     "output_type": "stream",
     "text": [
      "100%|██████████| 276/276 [17:51<00:00,  3.88s/it]\n",
      "  0%|          | 0/92 [00:00<?, ?it/s]"
     ]
    },
    {
     "name": "stdout",
     "output_type": "stream",
     "text": [
      "Train Epoch loss: 1.2150134366491567, \t ACC/DICE :0.6672471079569745/0.15347573161125183 \n"
     ]
    },
    {
     "name": "stderr",
     "output_type": "stream",
     "text": [
      "100%|██████████| 92/92 [05:09<00:00,  3.36s/it]\n",
      "  0%|          | 0/276 [00:00<?, ?it/s]"
     ]
    },
    {
     "name": "stdout",
     "output_type": "stream",
     "text": [
      "Val Dice : 12.8685302734375, len 92\n",
      "Val Epoch loss: 1.2248570206372633 \t acc/dice:/ 0.6479532302453296/ 0.13987533748149872\n",
      "Starting Train epoch: 12\n"
     ]
    },
    {
     "name": "stderr",
     "output_type": "stream",
     "text": [
      "\r",
      "  0%|          | 1/276 [00:03<14:46,  3.22s/it]"
     ]
    },
    {
     "name": "stdout",
     "output_type": "stream",
     "text": [
      "Train Dice 1: 0.305108904838562, 2: 0.2543614515874398 \t Acc: 0.6931443704989712\n",
      "Train Loss :1.0506601333618164\n"
     ]
    },
    {
     "name": "stderr",
     "output_type": "stream",
     "text": [
      "  4%|▍         | 11/276 [00:38<15:44,  3.57s/it]"
     ]
    },
    {
     "name": "stdout",
     "output_type": "stream",
     "text": [
      "Train Dice 1: 0.09910941869020462, 2: 0.08016767943294807 \t Acc: 0.6196392880872771\n",
      "Train Loss :1.3692067861557007\n"
     ]
    },
    {
     "name": "stderr",
     "output_type": "stream",
     "text": [
      "  8%|▊         | 21/276 [01:15<15:59,  3.76s/it]"
     ]
    },
    {
     "name": "stdout",
     "output_type": "stream",
     "text": [
      "Train Dice 1: 0.13222064077854156, 2: 0.10923830689968683 \t Acc: 0.6456384227109053\n",
      "Train Loss :1.267438530921936\n"
     ]
    },
    {
     "name": "stderr",
     "output_type": "stream",
     "text": [
      " 11%|█         | 31/276 [01:54<15:43,  3.85s/it]"
     ]
    },
    {
     "name": "stdout",
     "output_type": "stream",
     "text": [
      "Train Dice 1: 0.25783872604370117, 2: 0.2120158810827655 \t Acc: 0.6765022853437929\n",
      "Train Loss :1.2665530443191528\n"
     ]
    },
    {
     "name": "stderr",
     "output_type": "stream",
     "text": [
      " 15%|█▍        | 41/276 [02:32<15:08,  3.87s/it]"
     ]
    },
    {
     "name": "stdout",
     "output_type": "stream",
     "text": [
      "Train Dice 1: 0.05765625089406967, 2: 0.06758194016036753 \t Acc: 0.6470925497256516\n",
      "Train Loss :1.2011370658874512\n"
     ]
    },
    {
     "name": "stderr",
     "output_type": "stream",
     "text": [
      " 18%|█▊        | 51/276 [03:11<14:27,  3.86s/it]"
     ]
    },
    {
     "name": "stdout",
     "output_type": "stream",
     "text": [
      "Train Dice 1: 0.4569152593612671, 2: 0.2875372756245268 \t Acc: 0.7065928685485254\n",
      "Train Loss :1.0896780490875244\n"
     ]
    },
    {
     "name": "stderr",
     "output_type": "stream",
     "text": [
      " 22%|██▏       | 61/276 [03:50<13:49,  3.86s/it]"
     ]
    },
    {
     "name": "stdout",
     "output_type": "stream",
     "text": [
      "Train Dice 1: 0.11236985772848129, 2: 0.10067840420347889 \t Acc: 0.6446139698002401\n",
      "Train Loss :1.1137797832489014\n"
     ]
    },
    {
     "name": "stderr",
     "output_type": "stream",
     "text": [
      " 26%|██▌       | 71/276 [04:29<13:17,  3.89s/it]"
     ]
    },
    {
     "name": "stdout",
     "output_type": "stream",
     "text": [
      "Train Dice 1: 0.20051372051239014, 2: 0.191181220132557 \t Acc: 0.6703937462491426\n",
      "Train Loss :1.0414232015609741\n"
     ]
    },
    {
     "name": "stderr",
     "output_type": "stream",
     "text": [
      " 29%|██▉       | 81/276 [05:07<12:34,  3.87s/it]"
     ]
    },
    {
     "name": "stdout",
     "output_type": "stream",
     "text": [
      "Train Dice 1: 0.24156159162521362, 2: 0.21755311481337242 \t Acc: 0.6709751291366598\n",
      "Train Loss :1.0722378492355347\n"
     ]
    },
    {
     "name": "stderr",
     "output_type": "stream",
     "text": [
      " 33%|███▎      | 91/276 [05:46<11:58,  3.88s/it]"
     ]
    },
    {
     "name": "stdout",
     "output_type": "stream",
     "text": [
      "Train Dice 1: 0.07291051000356674, 2: 0.05876517058739684 \t Acc: 0.6660682039823388\n",
      "Train Loss :1.3239034414291382\n"
     ]
    },
    {
     "name": "stderr",
     "output_type": "stream",
     "text": [
      " 37%|███▋      | 101/276 [06:25<11:18,  3.88s/it]"
     ]
    },
    {
     "name": "stdout",
     "output_type": "stream",
     "text": [
      "Train Dice 1: 0.0732734277844429, 2: 0.08633441816167921 \t Acc: 0.6334183304398148\n",
      "Train Loss :1.230768084526062\n"
     ]
    },
    {
     "name": "stderr",
     "output_type": "stream",
     "text": [
      " 40%|████      | 111/276 [07:04<10:37,  3.86s/it]"
     ]
    },
    {
     "name": "stdout",
     "output_type": "stream",
     "text": [
      "Train Dice 1: 0.19523178040981293, 2: 0.1632596051544774 \t Acc: 0.6749848626114541\n",
      "Train Loss :1.310652732849121\n"
     ]
    },
    {
     "name": "stderr",
     "output_type": "stream",
     "text": [
      " 44%|████▍     | 121/276 [07:42<10:00,  3.87s/it]"
     ]
    },
    {
     "name": "stdout",
     "output_type": "stream",
     "text": [
      "Train Dice 1: 0.17121192812919617, 2: 0.12841684968423067 \t Acc: 0.6581636070387518\n",
      "Train Loss :1.0624589920043945\n"
     ]
    },
    {
     "name": "stderr",
     "output_type": "stream",
     "text": [
      " 47%|████▋     | 131/276 [08:21<09:18,  3.85s/it]"
     ]
    },
    {
     "name": "stdout",
     "output_type": "stream",
     "text": [
      "Train Dice 1: 0.10296214371919632, 2: 0.0986898681793407 \t Acc: 0.7009481631515775\n",
      "Train Loss :1.3760523796081543\n"
     ]
    },
    {
     "name": "stderr",
     "output_type": "stream",
     "text": [
      " 51%|█████     | 141/276 [09:00<08:41,  3.86s/it]"
     ]
    },
    {
     "name": "stdout",
     "output_type": "stream",
     "text": [
      "Train Dice 1: 0.02503659576177597, 2: 0.023237631107111145 \t Acc: 0.6732450676225995\n",
      "Train Loss :1.257869839668274\n"
     ]
    },
    {
     "name": "stderr",
     "output_type": "stream",
     "text": [
      " 55%|█████▍    | 151/276 [09:38<08:03,  3.87s/it]"
     ]
    },
    {
     "name": "stdout",
     "output_type": "stream",
     "text": [
      "Train Dice 1: 0.23156064748764038, 2: 0.21153342349167686 \t Acc: 0.7016527884945131\n",
      "Train Loss :1.0775258541107178\n"
     ]
    },
    {
     "name": "stderr",
     "output_type": "stream",
     "text": [
      " 58%|█████▊    | 161/276 [10:17<07:23,  3.86s/it]"
     ]
    },
    {
     "name": "stdout",
     "output_type": "stream",
     "text": [
      "Train Dice 1: 0.0693959891796112, 2: 0.06602754448041263 \t Acc: 0.6635547946673526\n",
      "Train Loss :1.2441288232803345\n"
     ]
    },
    {
     "name": "stderr",
     "output_type": "stream",
     "text": [
      " 62%|██████▏   | 171/276 [10:56<06:46,  3.87s/it]"
     ]
    },
    {
     "name": "stdout",
     "output_type": "stream",
     "text": [
      "Train Dice 1: 0.018366556614637375, 2: 0.017033306859666017 \t Acc: 0.6178385416666666\n",
      "Train Loss :1.292580008506775\n"
     ]
    },
    {
     "name": "stderr",
     "output_type": "stream",
     "text": [
      " 66%|██████▌   | 181/276 [11:35<06:07,  3.87s/it]"
     ]
    },
    {
     "name": "stdout",
     "output_type": "stream",
     "text": [
      "Train Dice 1: 0.024167010560631752, 2: 0.020336786965354164 \t Acc: 0.6455001098465364\n",
      "Train Loss :1.1796756982803345\n"
     ]
    },
    {
     "name": "stderr",
     "output_type": "stream",
     "text": [
      " 69%|██████▉   | 191/276 [12:13<05:27,  3.86s/it]"
     ]
    },
    {
     "name": "stdout",
     "output_type": "stream",
     "text": [
      "Train Dice 1: 0.19922706484794617, 2: 0.16985238484545348 \t Acc: 0.7262513797796639\n",
      "Train Loss :1.3546655178070068\n"
     ]
    },
    {
     "name": "stderr",
     "output_type": "stream",
     "text": [
      " 73%|███████▎  | 201/276 [12:52<04:50,  3.88s/it]"
     ]
    },
    {
     "name": "stdout",
     "output_type": "stream",
     "text": [
      "Train Dice 1: 0.029517726972699165, 2: 0.034848544657884256 \t Acc: 0.6397140775034293\n",
      "Train Loss :1.1822532415390015\n"
     ]
    },
    {
     "name": "stderr",
     "output_type": "stream",
     "text": [
      " 76%|███████▋  | 211/276 [13:30<04:11,  3.86s/it]"
     ]
    },
    {
     "name": "stdout",
     "output_type": "stream",
     "text": [
      "Train Dice 1: 0.2977527678012848, 2: 0.2634842567461392 \t Acc: 0.70019430780607\n",
      "Train Loss :1.1051424741744995\n"
     ]
    },
    {
     "name": "stderr",
     "output_type": "stream",
     "text": [
      " 80%|████████  | 221/276 [14:09<03:31,  3.85s/it]"
     ]
    },
    {
     "name": "stdout",
     "output_type": "stream",
     "text": [
      "Train Dice 1: 0.21604253351688385, 2: 0.18932131624758852 \t Acc: 0.708829317236797\n",
      "Train Loss :1.3450326919555664\n"
     ]
    },
    {
     "name": "stderr",
     "output_type": "stream",
     "text": [
      " 84%|████████▎ | 231/276 [14:48<02:52,  3.84s/it]"
     ]
    },
    {
     "name": "stdout",
     "output_type": "stream",
     "text": [
      "Train Dice 1: 0.15456251800060272, 2: 0.14937707902105382 \t Acc: 0.66446705675583\n",
      "Train Loss :1.0857505798339844\n"
     ]
    },
    {
     "name": "stderr",
     "output_type": "stream",
     "text": [
      " 87%|████████▋ | 241/276 [15:26<02:15,  3.86s/it]"
     ]
    },
    {
     "name": "stdout",
     "output_type": "stream",
     "text": [
      "Train Dice 1: 0.2887907922267914, 2: 0.2600628981864442 \t Acc: 0.7099552442343965\n",
      "Train Loss :1.267968773841858\n"
     ]
    },
    {
     "name": "stderr",
     "output_type": "stream",
     "text": [
      " 91%|█████████ | 251/276 [16:05<01:36,  3.87s/it]"
     ]
    },
    {
     "name": "stdout",
     "output_type": "stream",
     "text": [
      "Train Dice 1: 0.3941652178764343, 2: 0.42900367752626684 \t Acc: 0.7236284588263031\n",
      "Train Loss :1.2079828977584839\n"
     ]
    },
    {
     "name": "stderr",
     "output_type": "stream",
     "text": [
      " 95%|█████████▍| 261/276 [16:43<00:57,  3.85s/it]"
     ]
    },
    {
     "name": "stdout",
     "output_type": "stream",
     "text": [
      "Train Dice 1: 0.15022367238998413, 2: 0.14023241365027497 \t Acc: 0.6871808422282236\n",
      "Train Loss :1.2272089719772339\n"
     ]
    },
    {
     "name": "stderr",
     "output_type": "stream",
     "text": [
      " 98%|█████████▊| 271/276 [17:22<00:19,  3.86s/it]"
     ]
    },
    {
     "name": "stdout",
     "output_type": "stream",
     "text": [
      "Train Dice 1: 0.3358544707298279, 2: 0.2514463430032187 \t Acc: 0.7093319990997943\n",
      "Train Loss :1.2621146440505981\n"
     ]
    },
    {
     "name": "stderr",
     "output_type": "stream",
     "text": [
      "100%|██████████| 276/276 [17:41<00:00,  3.85s/it]\n",
      "  0%|          | 0/276 [00:00<?, ?it/s]"
     ]
    },
    {
     "name": "stdout",
     "output_type": "stream",
     "text": [
      "Train Epoch loss: 1.215494809375293, \t ACC/DICE :0.6677728565248147/0.1576858013868332 \n",
      "Starting Train epoch: 13\n"
     ]
    },
    {
     "name": "stderr",
     "output_type": "stream",
     "text": [
      "\r",
      "  0%|          | 1/276 [00:03<14:55,  3.26s/it]"
     ]
    },
    {
     "name": "stdout",
     "output_type": "stream",
     "text": [
      "Train Dice 1: 0.10282309353351593, 2: 0.08686531938999714 \t Acc: 0.6620698570387518\n",
      "Train Loss :1.255658745765686\n"
     ]
    },
    {
     "name": "stderr",
     "output_type": "stream",
     "text": [
      "  4%|▍         | 11/276 [00:41<16:57,  3.84s/it]"
     ]
    },
    {
     "name": "stdout",
     "output_type": "stream",
     "text": [
      "Train Dice 1: 0.1714043915271759, 2: 0.1433930320461254 \t Acc: 0.6590731899434157\n",
      "Train Loss :1.2894607782363892\n"
     ]
    },
    {
     "name": "stderr",
     "output_type": "stream",
     "text": [
      "  8%|▊         | 21/276 [01:19<16:18,  3.84s/it]"
     ]
    },
    {
     "name": "stdout",
     "output_type": "stream",
     "text": [
      "Train Dice 1: 0.042044371366500854, 2: 0.050300002020215624 \t Acc: 0.6221560463820301\n",
      "Train Loss :1.2374812364578247\n"
     ]
    },
    {
     "name": "stderr",
     "output_type": "stream",
     "text": [
      " 11%|█         | 31/276 [01:58<15:44,  3.85s/it]"
     ]
    },
    {
     "name": "stdout",
     "output_type": "stream",
     "text": [
      "Train Dice 1: 0.22799769043922424, 2: 0.19198633306297383 \t Acc: 0.6923908500514403\n",
      "Train Loss :1.058518648147583\n"
     ]
    },
    {
     "name": "stderr",
     "output_type": "stream",
     "text": [
      " 15%|█▍        | 41/276 [02:36<14:59,  3.83s/it]"
     ]
    },
    {
     "name": "stdout",
     "output_type": "stream",
     "text": [
      "Train Dice 1: 0.23174016177654266, 2: 0.23999471458773786 \t Acc: 0.7110640914351852\n",
      "Train Loss :1.3090107440948486\n"
     ]
    },
    {
     "name": "stderr",
     "output_type": "stream",
     "text": [
      " 18%|█▊        | 51/276 [03:15<14:26,  3.85s/it]"
     ]
    },
    {
     "name": "stdout",
     "output_type": "stream",
     "text": [
      "Train Dice 1: 0.1739664226770401, 2: 0.19061993088370124 \t Acc: 0.6925315072016461\n",
      "Train Loss :1.111472725868225\n"
     ]
    },
    {
     "name": "stderr",
     "output_type": "stream",
     "text": [
      " 22%|██▏       | 61/276 [03:53<13:47,  3.85s/it]"
     ]
    },
    {
     "name": "stdout",
     "output_type": "stream",
     "text": [
      "Train Dice 1: 0.13907642662525177, 2: 0.12812001892521324 \t Acc: 0.6821694289051783\n",
      "Train Loss :1.1032763719558716\n"
     ]
    },
    {
     "name": "stderr",
     "output_type": "stream",
     "text": [
      " 26%|██▌       | 71/276 [04:32<13:09,  3.85s/it]"
     ]
    },
    {
     "name": "stdout",
     "output_type": "stream",
     "text": [
      "Train Dice 1: 0.037926752120256424, 2: 0.0302267471175189 \t Acc: 0.6508856042095336\n",
      "Train Loss :1.280303716659546\n"
     ]
    },
    {
     "name": "stderr",
     "output_type": "stream",
     "text": [
      " 29%|██▉       | 81/276 [05:10<12:31,  3.86s/it]"
     ]
    },
    {
     "name": "stdout",
     "output_type": "stream",
     "text": [
      "Train Dice 1: 0.11197681725025177, 2: 0.09320201912440973 \t Acc: 0.6754878793724279\n",
      "Train Loss :1.3314330577850342\n"
     ]
    },
    {
     "name": "stderr",
     "output_type": "stream",
     "text": [
      " 33%|███▎      | 91/276 [05:49<11:54,  3.86s/it]"
     ]
    },
    {
     "name": "stdout",
     "output_type": "stream",
     "text": [
      "Train Dice 1: 0.026734817773103714, 2: 0.05675286303390636 \t Acc: 0.6336065431027091\n",
      "Train Loss :1.1418862342834473\n"
     ]
    },
    {
     "name": "stderr",
     "output_type": "stream",
     "text": [
      " 37%|███▋      | 101/276 [06:27<11:15,  3.86s/it]"
     ]
    },
    {
     "name": "stdout",
     "output_type": "stream",
     "text": [
      "Train Dice 1: 0.0135496212169528, 2: 0.018415540651015177 \t Acc: 0.6179946041237997\n",
      "Train Loss :1.234784483909607\n"
     ]
    },
    {
     "name": "stderr",
     "output_type": "stream",
     "text": [
      " 40%|████      | 111/276 [07:06<10:36,  3.86s/it]"
     ]
    },
    {
     "name": "stdout",
     "output_type": "stream",
     "text": [
      "Train Dice 1: 0.10172714293003082, 2: 0.08803089207500266 \t Acc: 0.6500945751886146\n",
      "Train Loss :1.1128475666046143\n"
     ]
    },
    {
     "name": "stderr",
     "output_type": "stream",
     "text": [
      " 44%|████▍     | 121/276 [07:45<09:59,  3.87s/it]"
     ]
    },
    {
     "name": "stdout",
     "output_type": "stream",
     "text": [
      "Train Dice 1: 0.08226421475410461, 2: 0.06349553112879242 \t Acc: 0.6726720571844993\n",
      "Train Loss :1.089416265487671\n"
     ]
    },
    {
     "name": "stderr",
     "output_type": "stream",
     "text": [
      " 47%|████▋     | 131/276 [08:23<09:18,  3.85s/it]"
     ]
    },
    {
     "name": "stdout",
     "output_type": "stream",
     "text": [
      "Train Dice 1: 0.05451339855790138, 2: 0.09957038829669981 \t Acc: 0.681259176204561\n",
      "Train Loss :1.25238037109375\n"
     ]
    },
    {
     "name": "stderr",
     "output_type": "stream",
     "text": [
      " 51%|█████     | 141/276 [09:02<08:41,  3.86s/it]"
     ]
    },
    {
     "name": "stdout",
     "output_type": "stream",
     "text": [
      "Train Dice 1: 0.14972949028015137, 2: 0.14505881792637043 \t Acc: 0.6994089720507545\n",
      "Train Loss :1.1839600801467896\n"
     ]
    },
    {
     "name": "stderr",
     "output_type": "stream",
     "text": [
      " 55%|█████▍    | 151/276 [09:41<08:02,  3.86s/it]"
     ]
    },
    {
     "name": "stdout",
     "output_type": "stream",
     "text": [
      "Train Dice 1: 0.14187799394130707, 2: 0.12381600151489973 \t Acc: 0.6962823645404664\n",
      "Train Loss :1.2277472019195557\n"
     ]
    },
    {
     "name": "stderr",
     "output_type": "stream",
     "text": [
      " 58%|█████▊    | 161/276 [10:19<07:24,  3.87s/it]"
     ]
    },
    {
     "name": "stdout",
     "output_type": "stream",
     "text": [
      "Train Dice 1: 0.046847011893987656, 2: 0.06226988169261245 \t Acc: 0.6735792958033264\n",
      "Train Loss :1.3552993535995483\n"
     ]
    },
    {
     "name": "stderr",
     "output_type": "stream",
     "text": [
      " 62%|██████▏   | 171/276 [10:58<06:45,  3.86s/it]"
     ]
    },
    {
     "name": "stdout",
     "output_type": "stream",
     "text": [
      "Train Dice 1: 0.38385939598083496, 2: 0.3139786798287281 \t Acc: 0.743896484375\n",
      "Train Loss :1.2303909063339233\n"
     ]
    },
    {
     "name": "stderr",
     "output_type": "stream",
     "text": [
      " 66%|██████▌   | 181/276 [11:37<06:06,  3.86s/it]"
     ]
    },
    {
     "name": "stdout",
     "output_type": "stream",
     "text": [
      "Train Dice 1: 0.10812755674123764, 2: 0.0881487631568278 \t Acc: 0.6535246002657751\n",
      "Train Loss :1.0820523500442505\n"
     ]
    },
    {
     "name": "stderr",
     "output_type": "stream",
     "text": [
      " 69%|██████▉   | 191/276 [12:16<05:28,  3.86s/it]"
     ]
    },
    {
     "name": "stdout",
     "output_type": "stream",
     "text": [
      "Train Dice 1: 0.02680974081158638, 2: 0.025061075303571337 \t Acc: 0.6201707711762688\n",
      "Train Loss :1.190730094909668\n"
     ]
    },
    {
     "name": "stderr",
     "output_type": "stream",
     "text": [
      " 73%|███████▎  | 201/276 [12:54<04:49,  3.86s/it]"
     ]
    },
    {
     "name": "stdout",
     "output_type": "stream",
     "text": [
      "Train Dice 1: 0.2442309558391571, 2: 0.2076914688938708 \t Acc: 0.7128638331618655\n",
      "Train Loss :1.329670786857605\n"
     ]
    },
    {
     "name": "stderr",
     "output_type": "stream",
     "text": [
      " 76%|███████▋  | 211/276 [13:33<04:11,  3.88s/it]"
     ]
    },
    {
     "name": "stdout",
     "output_type": "stream",
     "text": [
      "Train Dice 1: 0.27049747109413147, 2: 0.23611383857131038 \t Acc: 0.6938613870670439\n",
      "Train Loss :1.2960717678070068\n"
     ]
    },
    {
     "name": "stderr",
     "output_type": "stream",
     "text": [
      " 80%|████████  | 221/276 [14:12<03:32,  3.87s/it]"
     ]
    },
    {
     "name": "stdout",
     "output_type": "stream",
     "text": [
      "Train Dice 1: 0.08509181439876556, 2: 0.07368384673655265 \t Acc: 0.6678766530564129\n",
      "Train Loss :1.2770391702651978\n"
     ]
    },
    {
     "name": "stderr",
     "output_type": "stream",
     "text": [
      " 84%|████████▎ | 231/276 [14:50<02:54,  3.88s/it]"
     ]
    },
    {
     "name": "stdout",
     "output_type": "stream",
     "text": [
      "Train Dice 1: 0.17173603177070618, 2: 0.19089466026550916 \t Acc: 0.6643994073645405\n",
      "Train Loss :1.2516943216323853\n"
     ]
    },
    {
     "name": "stderr",
     "output_type": "stream",
     "text": [
      " 87%|████████▋ | 241/276 [15:29<02:15,  3.87s/it]"
     ]
    },
    {
     "name": "stdout",
     "output_type": "stream",
     "text": [
      "Train Dice 1: 0.01998649537563324, 2: 0.029162151376679536 \t Acc: 0.6276647832004458\n",
      "Train Loss :1.2746496200561523\n"
     ]
    },
    {
     "name": "stderr",
     "output_type": "stream",
     "text": [
      " 91%|█████████ | 251/276 [16:08<01:37,  3.89s/it]"
     ]
    },
    {
     "name": "stdout",
     "output_type": "stream",
     "text": [
      "Train Dice 1: 0.2704618573188782, 2: 0.2056821138788352 \t Acc: 0.7188682189857681\n",
      "Train Loss :1.0734593868255615\n"
     ]
    },
    {
     "name": "stderr",
     "output_type": "stream",
     "text": [
      " 95%|█████████▍| 261/276 [16:47<00:57,  3.86s/it]"
     ]
    },
    {
     "name": "stdout",
     "output_type": "stream",
     "text": [
      "Train Dice 1: 0.35223880410194397, 2: 0.3075222831059617 \t Acc: 0.7744194208676269\n",
      "Train Loss :1.0990804433822632\n"
     ]
    },
    {
     "name": "stderr",
     "output_type": "stream",
     "text": [
      " 98%|█████████▊| 271/276 [17:25<00:19,  3.88s/it]"
     ]
    },
    {
     "name": "stdout",
     "output_type": "stream",
     "text": [
      "Train Dice 1: 0.311267614364624, 2: 0.2644102884088845 \t Acc: 0.6967900698731139\n",
      "Train Loss :1.3240233659744263\n"
     ]
    },
    {
     "name": "stderr",
     "output_type": "stream",
     "text": [
      "100%|██████████| 276/276 [17:45<00:00,  3.86s/it]\n",
      "  0%|          | 0/92 [00:00<?, ?it/s]"
     ]
    },
    {
     "name": "stdout",
     "output_type": "stream",
     "text": [
      "Train Epoch loss: 1.2196970106898875, \t ACC/DICE :0.6808411944080996/0.1603565365076065 \n"
     ]
    },
    {
     "name": "stderr",
     "output_type": "stream",
     "text": [
      "100%|██████████| 92/92 [05:09<00:00,  3.36s/it]\n"
     ]
    },
    {
     "name": "stdout",
     "output_type": "stream",
     "text": [
      "Val Dice : 12.773240089416504, len 92\n",
      "Val Epoch loss: 1.2004521890826847 \t acc/dice:/ 0.6593061260469785/ 0.13883957266807556\n"
     ]
    },
    {
     "name": "stderr",
     "output_type": "stream",
     "text": [
      "\r",
      "  0%|          | 0/276 [00:00<?, ?it/s]"
     ]
    },
    {
     "name": "stdout",
     "output_type": "stream",
     "text": [
      "Starting Train epoch: 14\n"
     ]
    },
    {
     "name": "stderr",
     "output_type": "stream",
     "text": [
      "\r",
      "  0%|          | 1/276 [00:03<15:02,  3.28s/it]"
     ]
    },
    {
     "name": "stdout",
     "output_type": "stream",
     "text": [
      "Train Dice 1: 0.2117832750082016, 2: 0.15825419082584144 \t Acc: 0.682959788130144\n",
      "Train Loss :1.2560348510742188\n"
     ]
    },
    {
     "name": "stderr",
     "output_type": "stream",
     "text": [
      "  4%|▍         | 11/276 [00:38<15:45,  3.57s/it]"
     ]
    },
    {
     "name": "stdout",
     "output_type": "stream",
     "text": [
      "Train Dice 1: 0.2812788784503937, 2: 0.26089308509966 \t Acc: 0.7062405558770576\n",
      "Train Loss :1.0972429513931274\n"
     ]
    },
    {
     "name": "stderr",
     "output_type": "stream",
     "text": [
      "  8%|▊         | 21/276 [01:16<16:04,  3.78s/it]"
     ]
    },
    {
     "name": "stdout",
     "output_type": "stream",
     "text": [
      "Train Dice 1: 0.031619228422641754, 2: 0.03498902781465404 \t Acc: 0.6555296344521605\n",
      "Train Loss :1.3004348278045654\n"
     ]
    },
    {
     "name": "stderr",
     "output_type": "stream",
     "text": [
      " 11%|█         | 31/276 [01:54<15:43,  3.85s/it]"
     ]
    },
    {
     "name": "stdout",
     "output_type": "stream",
     "text": [
      "Train Dice 1: 0.22779889404773712, 2: 0.2000152151035261 \t Acc: 0.7041792588305898\n",
      "Train Loss :1.0797888040542603\n"
     ]
    },
    {
     "name": "stderr",
     "output_type": "stream",
     "text": [
      " 15%|█▍        | 41/276 [02:33<15:11,  3.88s/it]"
     ]
    },
    {
     "name": "stdout",
     "output_type": "stream",
     "text": [
      "Train Dice 1: 0.21820981800556183, 2: 0.2192052505110641 \t Acc: 0.708358785579561\n",
      "Train Loss :1.3256189823150635\n"
     ]
    },
    {
     "name": "stderr",
     "output_type": "stream",
     "text": [
      " 18%|█▊        | 51/276 [03:12<14:31,  3.87s/it]"
     ]
    },
    {
     "name": "stdout",
     "output_type": "stream",
     "text": [
      "Train Dice 1: 0.22371390461921692, 2: 0.1692092402795276 \t Acc: 0.6808881092463992\n",
      "Train Loss :1.2549632787704468\n"
     ]
    },
    {
     "name": "stderr",
     "output_type": "stream",
     "text": [
      " 22%|██▏       | 61/276 [03:51<13:55,  3.89s/it]"
     ]
    },
    {
     "name": "stdout",
     "output_type": "stream",
     "text": [
      "Train Dice 1: 0.311928927898407, 2: 0.26762426992251775 \t Acc: 0.6772758996699245\n",
      "Train Loss :1.2025188207626343\n"
     ]
    },
    {
     "name": "stderr",
     "output_type": "stream",
     "text": [
      " 26%|██▌       | 71/276 [04:29<13:17,  3.89s/it]"
     ]
    },
    {
     "name": "stdout",
     "output_type": "stream",
     "text": [
      "Train Dice 1: 0.05385948717594147, 2: 0.05225904059929952 \t Acc: 0.7102807650677297\n",
      "Train Loss :1.3238407373428345\n"
     ]
    },
    {
     "name": "stderr",
     "output_type": "stream",
     "text": [
      " 29%|██▉       | 81/276 [05:08<12:39,  3.90s/it]"
     ]
    },
    {
     "name": "stdout",
     "output_type": "stream",
     "text": [
      "Train Dice 1: 0.19684365391731262, 2: 0.15003597973817315 \t Acc: 0.6981788917824074\n",
      "Train Loss :1.0377715826034546\n"
     ]
    },
    {
     "name": "stderr",
     "output_type": "stream",
     "text": [
      " 33%|███▎      | 91/276 [05:47<11:58,  3.88s/it]"
     ]
    },
    {
     "name": "stdout",
     "output_type": "stream",
     "text": [
      "Train Dice 1: 0.2342236340045929, 2: 0.1721018492332114 \t Acc: 0.6960854445301783\n",
      "Train Loss :1.3522140979766846\n"
     ]
    },
    {
     "name": "stderr",
     "output_type": "stream",
     "text": [
      " 37%|███▋      | 101/276 [06:26<11:20,  3.89s/it]"
     ]
    },
    {
     "name": "stdout",
     "output_type": "stream",
     "text": [
      "Train Dice 1: 0.09587845206260681, 2: 0.07508749721450815 \t Acc: 0.6691750525120027\n",
      "Train Loss :1.3223756551742554\n"
     ]
    },
    {
     "name": "stderr",
     "output_type": "stream",
     "text": [
      " 40%|████      | 111/276 [07:05<10:37,  3.86s/it]"
     ]
    },
    {
     "name": "stdout",
     "output_type": "stream",
     "text": [
      "Train Dice 1: 0.302809476852417, 2: 0.22918130385774135 \t Acc: 0.7130430035793895\n",
      "Train Loss :1.2960368394851685\n"
     ]
    },
    {
     "name": "stderr",
     "output_type": "stream",
     "text": [
      " 44%|████▍     | 121/276 [07:44<10:02,  3.88s/it]"
     ]
    },
    {
     "name": "stdout",
     "output_type": "stream",
     "text": [
      "Train Dice 1: 0.02839476615190506, 2: 0.03289487369727563 \t Acc: 0.6263261959876543\n",
      "Train Loss :1.3127771615982056\n"
     ]
    },
    {
     "name": "stderr",
     "output_type": "stream",
     "text": [
      " 47%|████▋     | 131/276 [08:22<09:19,  3.86s/it]"
     ]
    },
    {
     "name": "stdout",
     "output_type": "stream",
     "text": [
      "Train Dice 1: 0.1928490847349167, 2: 0.2059506024656253 \t Acc: 0.7310357322745199\n",
      "Train Loss :1.0171946287155151\n"
     ]
    },
    {
     "name": "stderr",
     "output_type": "stream",
     "text": [
      " 51%|█████     | 141/276 [09:01<08:40,  3.85s/it]"
     ]
    },
    {
     "name": "stdout",
     "output_type": "stream",
     "text": [
      "Train Dice 1: 0.2746489942073822, 2: 0.19356723336797485 \t Acc: 0.7032241298010974\n",
      "Train Loss :1.2923955917358398\n"
     ]
    },
    {
     "name": "stderr",
     "output_type": "stream",
     "text": [
      " 55%|█████▍    | 151/276 [09:40<08:04,  3.88s/it]"
     ]
    },
    {
     "name": "stdout",
     "output_type": "stream",
     "text": [
      "Train Dice 1: 0.31823158264160156, 2: 0.26900867599579403 \t Acc: 0.7357510957861797\n",
      "Train Loss :1.334921956062317\n"
     ]
    },
    {
     "name": "stderr",
     "output_type": "stream",
     "text": [
      " 58%|█████▊    | 161/276 [10:19<07:26,  3.89s/it]"
     ]
    },
    {
     "name": "stdout",
     "output_type": "stream",
     "text": [
      "Train Dice 1: 0.10558820515871048, 2: 0.10055214988905775 \t Acc: 0.7001132624957133\n",
      "Train Loss :1.2671507596969604\n"
     ]
    },
    {
     "name": "stderr",
     "output_type": "stream",
     "text": [
      " 62%|██████▏   | 171/276 [10:57<06:45,  3.86s/it]"
     ]
    },
    {
     "name": "stdout",
     "output_type": "stream",
     "text": [
      "Train Dice 1: 0.09624210745096207, 2: 0.08371603510603295 \t Acc: 0.7136799795310357\n",
      "Train Loss :1.1247881650924683\n"
     ]
    },
    {
     "name": "stderr",
     "output_type": "stream",
     "text": [
      " 66%|██████▌   | 181/276 [11:36<06:08,  3.88s/it]"
     ]
    },
    {
     "name": "stdout",
     "output_type": "stream",
     "text": [
      "Train Dice 1: 0.07395032793283463, 2: 0.06297096530354845 \t Acc: 0.7069066679526749\n",
      "Train Loss :1.100098729133606\n"
     ]
    },
    {
     "name": "stderr",
     "output_type": "stream",
     "text": [
      " 69%|██████▉   | 191/276 [12:15<05:30,  3.88s/it]"
     ]
    },
    {
     "name": "stdout",
     "output_type": "stream",
     "text": [
      "Train Dice 1: 0.1528870016336441, 2: 0.1324121861711423 \t Acc: 0.7506034861539781\n",
      "Train Loss :1.2137724161148071\n"
     ]
    },
    {
     "name": "stderr",
     "output_type": "stream",
     "text": [
      " 73%|███████▎  | 201/276 [12:54<04:48,  3.85s/it]"
     ]
    },
    {
     "name": "stdout",
     "output_type": "stream",
     "text": [
      "Train Dice 1: 0.04691149294376373, 2: 0.10947978240226136 \t Acc: 0.675887077760631\n",
      "Train Loss :0.9868301153182983\n"
     ]
    },
    {
     "name": "stderr",
     "output_type": "stream",
     "text": [
      " 76%|███████▋  | 211/276 [13:32<04:11,  3.87s/it]"
     ]
    },
    {
     "name": "stdout",
     "output_type": "stream",
     "text": [
      "Train Dice 1: 0.0569947212934494, 2: 0.04759088141680218 \t Acc: 0.6689017757630316\n",
      "Train Loss :1.3042089939117432\n"
     ]
    },
    {
     "name": "stderr",
     "output_type": "stream",
     "text": [
      " 80%|████████  | 221/276 [14:11<03:33,  3.88s/it]"
     ]
    },
    {
     "name": "stdout",
     "output_type": "stream",
     "text": [
      "Train Dice 1: 0.10042618960142136, 2: 0.0872891355823778 \t Acc: 0.6526260689943416\n",
      "Train Loss :1.1531224250793457\n"
     ]
    },
    {
     "name": "stderr",
     "output_type": "stream",
     "text": [
      " 84%|████████▎ | 231/276 [14:50<02:53,  3.86s/it]"
     ]
    },
    {
     "name": "stdout",
     "output_type": "stream",
     "text": [
      "Train Dice 1: 0.3139818012714386, 2: 0.2505523511993017 \t Acc: 0.7596222886659808\n",
      "Train Loss :1.0407729148864746\n"
     ]
    },
    {
     "name": "stderr",
     "output_type": "stream",
     "text": [
      " 87%|████████▋ | 241/276 [15:28<02:14,  3.85s/it]"
     ]
    },
    {
     "name": "stdout",
     "output_type": "stream",
     "text": [
      "Train Dice 1: 0.33689945936203003, 2: 0.3576715700888408 \t Acc: 0.7474534357853223\n",
      "Train Loss :1.1572824716567993\n"
     ]
    },
    {
     "name": "stderr",
     "output_type": "stream",
     "text": [
      " 91%|█████████ | 251/276 [16:07<01:36,  3.86s/it]"
     ]
    },
    {
     "name": "stdout",
     "output_type": "stream",
     "text": [
      "Train Dice 1: 0.19845826923847198, 2: 0.12364455569461827 \t Acc: 0.706877196930727\n",
      "Train Loss :1.0559405088424683\n"
     ]
    },
    {
     "name": "stderr",
     "output_type": "stream",
     "text": [
      " 95%|█████████▍| 261/276 [16:46<00:57,  3.85s/it]"
     ]
    },
    {
     "name": "stdout",
     "output_type": "stream",
     "text": [
      "Train Dice 1: 0.04078272730112076, 2: 0.04382248470064621 \t Acc: 0.6782471038022977\n",
      "Train Loss :1.375740647315979\n"
     ]
    },
    {
     "name": "stderr",
     "output_type": "stream",
     "text": [
      " 98%|█████████▊| 271/276 [17:24<00:19,  3.85s/it]"
     ]
    },
    {
     "name": "stdout",
     "output_type": "stream",
     "text": [
      "Train Dice 1: 0.12695837020874023, 2: 0.12845292981833945 \t Acc: 0.6444629308127572\n",
      "Train Loss :1.295986294746399\n"
     ]
    },
    {
     "name": "stderr",
     "output_type": "stream",
     "text": [
      "100%|██████████| 276/276 [17:44<00:00,  3.86s/it]\n",
      "  0%|          | 0/276 [00:00<?, ?it/s]"
     ]
    },
    {
     "name": "stdout",
     "output_type": "stream",
     "text": [
      "Train Epoch loss: 1.194277461456216, \t ACC/DICE :0.6963687621514576/0.16705036163330078 \n",
      "Starting Train epoch: 15\n"
     ]
    },
    {
     "name": "stderr",
     "output_type": "stream",
     "text": [
      "\r",
      "  0%|          | 1/276 [00:03<14:33,  3.18s/it]"
     ]
    },
    {
     "name": "stdout",
     "output_type": "stream",
     "text": [
      "Train Dice 1: 0.19596551358699799, 2: 0.16231435344202022 \t Acc: 0.6810535488468793\n",
      "Train Loss :1.1230546236038208\n"
     ]
    },
    {
     "name": "stderr",
     "output_type": "stream",
     "text": [
      "  4%|▍         | 11/276 [00:41<17:06,  3.87s/it]"
     ]
    },
    {
     "name": "stdout",
     "output_type": "stream",
     "text": [
      "Train Dice 1: 0.21253910660743713, 2: 0.20200459447679658 \t Acc: 0.6737993237740055\n",
      "Train Loss :1.0886528491973877\n"
     ]
    },
    {
     "name": "stderr",
     "output_type": "stream",
     "text": [
      "  8%|▊         | 21/276 [01:20<16:23,  3.86s/it]"
     ]
    },
    {
     "name": "stdout",
     "output_type": "stream",
     "text": [
      "Train Dice 1: 0.26600879430770874, 2: 0.18918634480036836 \t Acc: 0.7110245734739369\n",
      "Train Loss :1.0703612565994263\n"
     ]
    },
    {
     "name": "stderr",
     "output_type": "stream",
     "text": [
      " 11%|█         | 31/276 [01:59<15:51,  3.88s/it]"
     ]
    },
    {
     "name": "stdout",
     "output_type": "stream",
     "text": [
      "Train Dice 1: 0.01889137178659439, 2: 0.02874954626706207 \t Acc: 0.6200562360682441\n",
      "Train Loss :1.2948987483978271\n"
     ]
    },
    {
     "name": "stderr",
     "output_type": "stream",
     "text": [
      " 15%|█▍        | 41/276 [02:37<15:15,  3.90s/it]"
     ]
    },
    {
     "name": "stdout",
     "output_type": "stream",
     "text": [
      "Train Dice 1: 0.1640087366104126, 2: 0.17813099095821347 \t Acc: 0.7246294688786008\n",
      "Train Loss :1.0623230934143066\n"
     ]
    },
    {
     "name": "stderr",
     "output_type": "stream",
     "text": [
      " 18%|█▊        | 51/276 [03:16<14:29,  3.87s/it]"
     ]
    },
    {
     "name": "stdout",
     "output_type": "stream",
     "text": [
      "Train Dice 1: 0.16030466556549072, 2: 0.13562901047026912 \t Acc: 0.706633056305727\n",
      "Train Loss :1.3919408321380615\n"
     ]
    },
    {
     "name": "stderr",
     "output_type": "stream",
     "text": [
      " 22%|██▏       | 61/276 [03:55<13:55,  3.89s/it]"
     ]
    },
    {
     "name": "stdout",
     "output_type": "stream",
     "text": [
      "Train Dice 1: 0.42924243211746216, 2: 0.27748597981916406 \t Acc: 0.7646360462748628\n",
      "Train Loss :1.2856420278549194\n"
     ]
    },
    {
     "name": "stderr",
     "output_type": "stream",
     "text": [
      " 26%|██▌       | 71/276 [04:34<13:15,  3.88s/it]"
     ]
    },
    {
     "name": "stdout",
     "output_type": "stream",
     "text": [
      "Train Dice 1: 0.09016117453575134, 2: 0.07460322808909256 \t Acc: 0.668897087191358\n",
      "Train Loss :1.3190089464187622\n"
     ]
    },
    {
     "name": "stderr",
     "output_type": "stream",
     "text": [
      " 29%|██▉       | 81/276 [05:13<12:39,  3.90s/it]"
     ]
    },
    {
     "name": "stdout",
     "output_type": "stream",
     "text": [
      "Train Dice 1: 0.12958255410194397, 2: 0.1124976155950271 \t Acc: 0.6790190436385459\n",
      "Train Loss :1.3823792934417725\n"
     ]
    },
    {
     "name": "stderr",
     "output_type": "stream",
     "text": [
      " 33%|███▎      | 91/276 [05:51<12:00,  3.90s/it]"
     ]
    },
    {
     "name": "stdout",
     "output_type": "stream",
     "text": [
      "Train Dice 1: 0.016240201890468597, 2: 0.01631054137691011 \t Acc: 0.6464592576517489\n",
      "Train Loss :1.2095879316329956\n"
     ]
    },
    {
     "name": "stderr",
     "output_type": "stream",
     "text": [
      " 37%|███▋      | 101/276 [06:30<11:20,  3.89s/it]"
     ]
    },
    {
     "name": "stdout",
     "output_type": "stream",
     "text": [
      "Train Dice 1: 0.04139474779367447, 2: 0.040652297254762014 \t Acc: 0.6794932591735254\n",
      "Train Loss :1.3025619983673096\n"
     ]
    },
    {
     "name": "stderr",
     "output_type": "stream",
     "text": [
      " 40%|████      | 111/276 [07:09<10:42,  3.89s/it]"
     ]
    },
    {
     "name": "stdout",
     "output_type": "stream",
     "text": [
      "Train Dice 1: 0.10539109259843826, 2: 0.09158246298761362 \t Acc: 0.6704349387002744\n",
      "Train Loss :1.0946468114852905\n"
     ]
    },
    {
     "name": "stderr",
     "output_type": "stream",
     "text": [
      " 44%|████▍     | 121/276 [07:48<10:03,  3.89s/it]"
     ]
    },
    {
     "name": "stdout",
     "output_type": "stream",
     "text": [
      "Train Dice 1: 0.442413330078125, 2: 0.30363863301819505 \t Acc: 0.7541145565414952\n",
      "Train Loss :1.2465463876724243\n"
     ]
    },
    {
     "name": "stderr",
     "output_type": "stream",
     "text": [
      " 47%|████▋     | 131/276 [08:27<09:26,  3.91s/it]"
     ]
    },
    {
     "name": "stdout",
     "output_type": "stream",
     "text": [
      "Train Dice 1: 0.12327678501605988, 2: 0.1190539209870083 \t Acc: 0.7090764719435871\n",
      "Train Loss :1.3313148021697998\n"
     ]
    },
    {
     "name": "stderr",
     "output_type": "stream",
     "text": [
      " 51%|█████     | 141/276 [09:06<08:45,  3.89s/it]"
     ]
    },
    {
     "name": "stdout",
     "output_type": "stream",
     "text": [
      "Train Dice 1: 0.0429050549864769, 2: 0.06860870589319637 \t Acc: 0.6954200022505144\n",
      "Train Loss :1.250895380973816\n"
     ]
    },
    {
     "name": "stderr",
     "output_type": "stream",
     "text": [
      " 55%|█████▍    | 151/276 [09:45<08:07,  3.90s/it]"
     ]
    },
    {
     "name": "stdout",
     "output_type": "stream",
     "text": [
      "Train Dice 1: 0.09458146244287491, 2: 0.08286747707096309 \t Acc: 0.7241867337534293\n",
      "Train Loss :1.2499072551727295\n"
     ]
    },
    {
     "name": "stderr",
     "output_type": "stream",
     "text": [
      " 58%|█████▊    | 161/276 [10:24<07:27,  3.89s/it]"
     ]
    },
    {
     "name": "stdout",
     "output_type": "stream",
     "text": [
      "Train Dice 1: 0.21627356112003326, 2: 0.22094149710178718 \t Acc: 0.7403743623542524\n",
      "Train Loss :1.3147188425064087\n"
     ]
    },
    {
     "name": "stderr",
     "output_type": "stream",
     "text": [
      " 62%|██████▏   | 171/276 [11:03<06:47,  3.88s/it]"
     ]
    },
    {
     "name": "stdout",
     "output_type": "stream",
     "text": [
      "Train Dice 1: 0.0789928212761879, 2: 0.07392654088893606 \t Acc: 0.6669225287208504\n",
      "Train Loss :1.2731040716171265\n"
     ]
    },
    {
     "name": "stderr",
     "output_type": "stream",
     "text": [
      " 66%|██████▌   | 181/276 [11:42<06:08,  3.88s/it]"
     ]
    },
    {
     "name": "stdout",
     "output_type": "stream",
     "text": [
      "Train Dice 1: 0.35152798891067505, 2: 0.29376016933831506 \t Acc: 0.7488137913665981\n",
      "Train Loss :1.096846342086792\n"
     ]
    },
    {
     "name": "stderr",
     "output_type": "stream",
     "text": [
      " 69%|██████▉   | 191/276 [12:20<05:30,  3.89s/it]"
     ]
    },
    {
     "name": "stdout",
     "output_type": "stream",
     "text": [
      "Train Dice 1: 0.24843472242355347, 2: 0.20351711385335294 \t Acc: 0.6889923053840878\n",
      "Train Loss :1.2665704488754272\n"
     ]
    },
    {
     "name": "stderr",
     "output_type": "stream",
     "text": [
      " 73%|███████▎  | 201/276 [12:59<04:50,  3.87s/it]"
     ]
    },
    {
     "name": "stdout",
     "output_type": "stream",
     "text": [
      "Train Dice 1: 0.045566149055957794, 2: 0.044704001437776836 \t Acc: 0.6582171907150206\n",
      "Train Loss :1.2356940507888794\n"
     ]
    },
    {
     "name": "stderr",
     "output_type": "stream",
     "text": [
      " 76%|███████▋  | 211/276 [13:38<04:10,  3.86s/it]"
     ]
    },
    {
     "name": "stdout",
     "output_type": "stream",
     "text": [
      "Train Dice 1: 0.16121220588684082, 2: 0.13936727966186543 \t Acc: 0.6919785906421467\n",
      "Train Loss :1.078340768814087\n"
     ]
    },
    {
     "name": "stderr",
     "output_type": "stream",
     "text": [
      " 80%|████████  | 221/276 [14:16<03:32,  3.86s/it]"
     ]
    },
    {
     "name": "stdout",
     "output_type": "stream",
     "text": [
      "Train Dice 1: 0.16838988661766052, 2: 0.16222378449636923 \t Acc: 0.6930998290680727\n",
      "Train Loss :1.0810643434524536\n"
     ]
    },
    {
     "name": "stderr",
     "output_type": "stream",
     "text": [
      " 84%|████████▎ | 231/276 [14:55<02:53,  3.85s/it]"
     ]
    },
    {
     "name": "stdout",
     "output_type": "stream",
     "text": [
      "Train Dice 1: 0.18704956769943237, 2: 0.14106433649268027 \t Acc: 0.6765327610596708\n",
      "Train Loss :1.0547605752944946\n"
     ]
    },
    {
     "name": "stderr",
     "output_type": "stream",
     "text": [
      " 87%|████████▋ | 241/276 [15:34<02:14,  3.85s/it]"
     ]
    },
    {
     "name": "stdout",
     "output_type": "stream",
     "text": [
      "Train Dice 1: 0.2563073933124542, 2: 0.23114536446358602 \t Acc: 0.7216981068887174\n",
      "Train Loss :1.3064290285110474\n"
     ]
    },
    {
     "name": "stderr",
     "output_type": "stream",
     "text": [
      " 91%|█████████ | 251/276 [16:12<01:36,  3.86s/it]"
     ]
    },
    {
     "name": "stdout",
     "output_type": "stream",
     "text": [
      "Train Dice 1: 0.2527008056640625, 2: 0.24995425434583715 \t Acc: 0.726823385523834\n",
      "Train Loss :1.052873134613037\n"
     ]
    },
    {
     "name": "stderr",
     "output_type": "stream",
     "text": [
      " 95%|█████████▍| 261/276 [16:51<00:57,  3.85s/it]"
     ]
    },
    {
     "name": "stdout",
     "output_type": "stream",
     "text": [
      "Train Dice 1: 0.14030368626117706, 2: 0.1394032936064797 \t Acc: 0.6879691920653292\n",
      "Train Loss :1.2607157230377197\n"
     ]
    },
    {
     "name": "stderr",
     "output_type": "stream",
     "text": [
      " 98%|█████████▊| 271/276 [17:29<00:19,  3.84s/it]"
     ]
    },
    {
     "name": "stdout",
     "output_type": "stream",
     "text": [
      "Train Dice 1: 0.12302660942077637, 2: 0.08832280192636148 \t Acc: 0.6709007817858368\n",
      "Train Loss :1.0288695096969604\n"
     ]
    },
    {
     "name": "stderr",
     "output_type": "stream",
     "text": [
      "100%|██████████| 276/276 [17:48<00:00,  3.87s/it]\n",
      "  0%|          | 0/92 [00:00<?, ?it/s]"
     ]
    },
    {
     "name": "stdout",
     "output_type": "stream",
     "text": [
      "Train Epoch loss: 1.202987106381983, \t ACC/DICE :0.695636511365641/0.16329610347747803 \n"
     ]
    },
    {
     "name": "stderr",
     "output_type": "stream",
     "text": [
      "100%|██████████| 92/92 [05:09<00:00,  3.37s/it]\n"
     ]
    },
    {
     "name": "stdout",
     "output_type": "stream",
     "text": [
      "Val Dice : 13.976022720336914, len 92\n",
      "Val Epoch loss: 1.1860170694796934 \t acc/dice:/ 0.6843167692502851/ 0.15191330015659332\n"
     ]
    },
    {
     "name": "stderr",
     "output_type": "stream",
     "text": [
      "\r",
      "  0%|          | 0/276 [00:00<?, ?it/s]"
     ]
    },
    {
     "name": "stdout",
     "output_type": "stream",
     "text": [
      "Starting Train epoch: 16\n"
     ]
    },
    {
     "name": "stderr",
     "output_type": "stream",
     "text": [
      "\r",
      "  0%|          | 1/276 [00:03<14:56,  3.26s/it]"
     ]
    },
    {
     "name": "stdout",
     "output_type": "stream",
     "text": [
      "Train Dice 1: 0.03992895036935806, 2: 0.053170318736050486 \t Acc: 0.6539150913065843\n",
      "Train Loss :1.171014428138733\n"
     ]
    },
    {
     "name": "stderr",
     "output_type": "stream",
     "text": [
      "  4%|▍         | 11/276 [00:38<15:46,  3.57s/it]"
     ]
    },
    {
     "name": "stdout",
     "output_type": "stream",
     "text": [
      "Train Dice 1: 0.28582170605659485, 2: 0.23582781731786773 \t Acc: 0.7039950649434157\n",
      "Train Loss :1.0611590147018433\n"
     ]
    },
    {
     "name": "stderr",
     "output_type": "stream",
     "text": [
      "  8%|▊         | 21/276 [01:15<16:00,  3.77s/it]"
     ]
    },
    {
     "name": "stdout",
     "output_type": "stream",
     "text": [
      "Train Dice 1: 0.19849231839179993, 2: 0.2816375424555381 \t Acc: 0.714616354273834\n",
      "Train Loss :1.1048563718795776\n"
     ]
    },
    {
     "name": "stderr",
     "output_type": "stream",
     "text": [
      " 11%|█         | 31/276 [01:54<15:41,  3.84s/it]"
     ]
    },
    {
     "name": "stdout",
     "output_type": "stream",
     "text": [
      "Train Dice 1: 0.3024652302265167, 2: 0.23334651108418883 \t Acc: 0.6980034052426269\n",
      "Train Loss :1.2620675563812256\n"
     ]
    },
    {
     "name": "stderr",
     "output_type": "stream",
     "text": [
      " 15%|█▍        | 41/276 [02:33<15:08,  3.87s/it]"
     ]
    },
    {
     "name": "stdout",
     "output_type": "stream",
     "text": [
      "Train Dice 1: 0.0057052127085626125, 2: 0.005920021560914197 \t Acc: 0.6393055019718793\n",
      "Train Loss :1.407993197441101\n"
     ]
    },
    {
     "name": "stderr",
     "output_type": "stream",
     "text": [
      " 18%|█▊        | 51/276 [03:11<14:33,  3.88s/it]"
     ]
    },
    {
     "name": "stdout",
     "output_type": "stream",
     "text": [
      "Train Dice 1: 0.3457757234573364, 2: 0.2667648851428731 \t Acc: 0.710318273641118\n",
      "Train Loss :1.1450963020324707\n"
     ]
    },
    {
     "name": "stderr",
     "output_type": "stream",
     "text": [
      " 22%|██▏       | 61/276 [03:50<13:56,  3.89s/it]"
     ]
    },
    {
     "name": "stdout",
     "output_type": "stream",
     "text": [
      "Train Dice 1: 0.08894423395395279, 2: 0.08298150065265338 \t Acc: 0.6929645302854939\n",
      "Train Loss :1.284011960029602\n"
     ]
    },
    {
     "name": "stderr",
     "output_type": "stream",
     "text": [
      " 26%|██▌       | 71/276 [04:29<13:19,  3.90s/it]"
     ]
    },
    {
     "name": "stdout",
     "output_type": "stream",
     "text": [
      "Train Dice 1: 0.22659175097942352, 2: 0.17028534204526388 \t Acc: 0.7184706950874485\n",
      "Train Loss :1.414206624031067\n"
     ]
    },
    {
     "name": "stderr",
     "output_type": "stream",
     "text": [
      " 29%|██▉       | 81/276 [05:08<12:38,  3.89s/it]"
     ]
    },
    {
     "name": "stdout",
     "output_type": "stream",
     "text": [
      "Train Dice 1: 0.06100217625498772, 2: 0.05961953111062612 \t Acc: 0.6522308893818587\n",
      "Train Loss :1.2714565992355347\n"
     ]
    },
    {
     "name": "stderr",
     "output_type": "stream",
     "text": [
      " 33%|███▎      | 91/276 [05:47<12:00,  3.90s/it]"
     ]
    },
    {
     "name": "stdout",
     "output_type": "stream",
     "text": [
      "Train Dice 1: 0.16687799990177155, 2: 0.128670773797768 \t Acc: 0.6646026904363854\n",
      "Train Loss :1.2744081020355225\n"
     ]
    },
    {
     "name": "stderr",
     "output_type": "stream",
     "text": [
      " 37%|███▋      | 101/276 [06:26<11:18,  3.88s/it]"
     ]
    },
    {
     "name": "stdout",
     "output_type": "stream",
     "text": [
      "Train Dice 1: 0.13730134069919586, 2: 0.11963734545305463 \t Acc: 0.6979608731995884\n",
      "Train Loss :1.2624152898788452\n"
     ]
    },
    {
     "name": "stderr",
     "output_type": "stream",
     "text": [
      " 40%|████      | 111/276 [07:05<10:39,  3.88s/it]"
     ]
    },
    {
     "name": "stdout",
     "output_type": "stream",
     "text": [
      "Train Dice 1: 0.05272180214524269, 2: 0.058991470810541666 \t Acc: 0.6481012624314129\n",
      "Train Loss :1.2827805280685425\n"
     ]
    },
    {
     "name": "stderr",
     "output_type": "stream",
     "text": [
      " 44%|████▍     | 121/276 [07:43<10:01,  3.88s/it]"
     ]
    },
    {
     "name": "stdout",
     "output_type": "stream",
     "text": [
      "Train Dice 1: 0.2731463611125946, 2: 0.2229875001614132 \t Acc: 0.6775729541752401\n",
      "Train Loss :1.107608437538147\n"
     ]
    },
    {
     "name": "stderr",
     "output_type": "stream",
     "text": [
      " 47%|████▋     | 131/276 [08:22<09:21,  3.87s/it]"
     ]
    },
    {
     "name": "stdout",
     "output_type": "stream",
     "text": [
      "Train Dice 1: 0.1939963549375534, 2: 0.16528919512368606 \t Acc: 0.6973838439857681\n",
      "Train Loss :1.062529444694519\n"
     ]
    },
    {
     "name": "stderr",
     "output_type": "stream",
     "text": [
      " 51%|█████     | 141/276 [09:01<08:43,  3.88s/it]"
     ]
    },
    {
     "name": "stdout",
     "output_type": "stream",
     "text": [
      "Train Dice 1: 0.0745437815785408, 2: 0.09686979801705978 \t Acc: 0.6400613667052469\n",
      "Train Loss :1.2450727224349976\n"
     ]
    },
    {
     "name": "stderr",
     "output_type": "stream",
     "text": [
      " 55%|█████▍    | 151/276 [09:40<08:05,  3.88s/it]"
     ]
    },
    {
     "name": "stdout",
     "output_type": "stream",
     "text": [
      "Train Dice 1: 0.044576019048690796, 2: 0.04664215502363623 \t Acc: 0.638323916002229\n",
      "Train Loss :1.3844871520996094\n"
     ]
    },
    {
     "name": "stderr",
     "output_type": "stream",
     "text": [
      " 58%|█████▊    | 161/276 [10:18<07:25,  3.88s/it]"
     ]
    },
    {
     "name": "stdout",
     "output_type": "stream",
     "text": [
      "Train Dice 1: 0.05205538868904114, 2: 0.0468180279575743 \t Acc: 0.6444672844864541\n",
      "Train Loss :1.248992919921875\n"
     ]
    },
    {
     "name": "stderr",
     "output_type": "stream",
     "text": [
      " 62%|██████▏   | 171/276 [10:57<06:45,  3.86s/it]"
     ]
    },
    {
     "name": "stdout",
     "output_type": "stream",
     "text": [
      "Train Dice 1: 0.03721053898334503, 2: 0.05917007700770077 \t Acc: 0.6419880347650891\n",
      "Train Loss :1.1503204107284546\n"
     ]
    },
    {
     "name": "stderr",
     "output_type": "stream",
     "text": [
      " 66%|██████▌   | 181/276 [11:36<06:06,  3.85s/it]"
     ]
    },
    {
     "name": "stdout",
     "output_type": "stream",
     "text": [
      "Train Dice 1: 0.19062533974647522, 2: 0.16747446320617052 \t Acc: 0.6790103362911523\n",
      "Train Loss :1.2871638536453247\n"
     ]
    },
    {
     "name": "stderr",
     "output_type": "stream",
     "text": [
      " 69%|██████▉   | 191/276 [12:15<05:28,  3.87s/it]"
     ]
    },
    {
     "name": "stdout",
     "output_type": "stream",
     "text": [
      "Train Dice 1: 0.054005321115255356, 2: 0.10777291057511494 \t Acc: 0.6701228137860082\n",
      "Train Loss :1.1137529611587524\n"
     ]
    },
    {
     "name": "stderr",
     "output_type": "stream",
     "text": [
      " 73%|███████▎  | 201/276 [12:53<04:50,  3.87s/it]"
     ]
    },
    {
     "name": "stdout",
     "output_type": "stream",
     "text": [
      "Train Dice 1: 0.22873540222644806, 2: 0.3339484814819772 \t Acc: 0.7333602591306584\n",
      "Train Loss :1.155869483947754\n"
     ]
    },
    {
     "name": "stderr",
     "output_type": "stream",
     "text": [
      " 76%|███████▋  | 211/276 [13:32<04:11,  3.88s/it]"
     ]
    },
    {
     "name": "stdout",
     "output_type": "stream",
     "text": [
      "Train Dice 1: 0.07476162910461426, 2: 0.06898680377643535 \t Acc: 0.6838161222565158\n",
      "Train Loss :1.2716068029403687\n"
     ]
    },
    {
     "name": "stderr",
     "output_type": "stream",
     "text": [
      " 80%|████████  | 221/276 [14:11<03:32,  3.86s/it]"
     ]
    },
    {
     "name": "stdout",
     "output_type": "stream",
     "text": [
      "Train Dice 1: 0.2760481536388397, 2: 0.20833725614962326 \t Acc: 0.6733358249742798\n",
      "Train Loss :1.316343903541565\n"
     ]
    },
    {
     "name": "stderr",
     "output_type": "stream",
     "text": [
      " 84%|████████▎ | 231/276 [14:49<02:54,  3.87s/it]"
     ]
    },
    {
     "name": "stdout",
     "output_type": "stream",
     "text": [
      "Train Dice 1: 0.10304637253284454, 2: 0.09870736667880843 \t Acc: 0.7074836971664952\n",
      "Train Loss :1.0979217290878296\n"
     ]
    },
    {
     "name": "stderr",
     "output_type": "stream",
     "text": [
      " 87%|████████▋ | 241/276 [15:28<02:15,  3.86s/it]"
     ]
    },
    {
     "name": "stdout",
     "output_type": "stream",
     "text": [
      "Train Dice 1: 0.07243669778108597, 2: 0.06597525696339249 \t Acc: 0.7297885722093621\n",
      "Train Loss :1.2941170930862427\n"
     ]
    },
    {
     "name": "stderr",
     "output_type": "stream",
     "text": [
      " 91%|█████████ | 251/276 [16:06<01:36,  3.85s/it]"
     ]
    },
    {
     "name": "stdout",
     "output_type": "stream",
     "text": [
      "Train Dice 1: 0.20536144077777863, 2: 0.22571954071852154 \t Acc: 0.6730581945516118\n",
      "Train Loss :1.25184166431427\n"
     ]
    },
    {
     "name": "stderr",
     "output_type": "stream",
     "text": [
      " 95%|█████████▍| 261/276 [16:45<00:57,  3.84s/it]"
     ]
    },
    {
     "name": "stdout",
     "output_type": "stream",
     "text": [
      "Train Dice 1: 0.19165505468845367, 2: 0.23888912636534398 \t Acc: 0.6839591236925583\n",
      "Train Loss :1.204101324081421\n"
     ]
    },
    {
     "name": "stderr",
     "output_type": "stream",
     "text": [
      " 98%|█████████▊| 271/276 [17:23<00:19,  3.86s/it]"
     ]
    },
    {
     "name": "stdout",
     "output_type": "stream",
     "text": [
      "Train Dice 1: 0.12884114682674408, 2: 0.1269083072681795 \t Acc: 0.6453269675925926\n",
      "Train Loss :1.0972108840942383\n"
     ]
    },
    {
     "name": "stderr",
     "output_type": "stream",
     "text": [
      "100%|██████████| 276/276 [17:43<00:00,  3.85s/it]\n",
      "  0%|          | 0/276 [00:00<?, ?it/s]"
     ]
    },
    {
     "name": "stdout",
     "output_type": "stream",
     "text": [
      "Train Epoch loss: 1.2228174254946087, \t ACC/DICE :0.6835702998612418/0.16095316410064697 \n",
      "Starting Train epoch: 17\n"
     ]
    },
    {
     "name": "stderr",
     "output_type": "stream",
     "text": [
      "\r",
      "  0%|          | 1/276 [00:03<15:09,  3.31s/it]"
     ]
    },
    {
     "name": "stdout",
     "output_type": "stream",
     "text": [
      "Train Dice 1: 0.1908336579799652, 2: 0.20801966927889226 \t Acc: 0.6701124319487312\n",
      "Train Loss :1.0965375900268555\n"
     ]
    },
    {
     "name": "stderr",
     "output_type": "stream",
     "text": [
      "  4%|▍         | 11/276 [00:41<17:00,  3.85s/it]"
     ]
    },
    {
     "name": "stdout",
     "output_type": "stream",
     "text": [
      "Train Dice 1: 0.07417760044336319, 2: 0.08617053178311021 \t Acc: 0.6336212786136831\n",
      "Train Loss :1.2353404760360718\n"
     ]
    },
    {
     "name": "stderr",
     "output_type": "stream",
     "text": [
      "  8%|▊         | 21/276 [01:20<16:21,  3.85s/it]"
     ]
    },
    {
     "name": "stdout",
     "output_type": "stream",
     "text": [
      "Train Dice 1: 0.13435032963752747, 2: 0.11688388575488215 \t Acc: 0.6503095796896433\n",
      "Train Loss :1.0963534116744995\n"
     ]
    },
    {
     "name": "stderr",
     "output_type": "stream",
     "text": [
      " 11%|█         | 31/276 [01:58<15:44,  3.86s/it]"
     ]
    },
    {
     "name": "stdout",
     "output_type": "stream",
     "text": [
      "Train Dice 1: 0.12345513701438904, 2: 0.09453570619394679 \t Acc: 0.6332813571673526\n",
      "Train Loss :1.0815508365631104\n"
     ]
    },
    {
     "name": "stderr",
     "output_type": "stream",
     "text": [
      " 15%|█▍        | 41/276 [02:37<15:05,  3.85s/it]"
     ]
    },
    {
     "name": "stdout",
     "output_type": "stream",
     "text": [
      "Train Dice 1: 0.2617865800857544, 2: 0.16634057865749138 \t Acc: 0.6636629667138203\n",
      "Train Loss :1.0451691150665283\n"
     ]
    },
    {
     "name": "stderr",
     "output_type": "stream",
     "text": [
      " 18%|█▊        | 51/276 [03:15<14:26,  3.85s/it]"
     ]
    },
    {
     "name": "stdout",
     "output_type": "stream",
     "text": [
      "Train Dice 1: 0.07606544345617294, 2: 0.07640877408704741 \t Acc: 0.6342478727280522\n",
      "Train Loss :1.111594557762146\n"
     ]
    },
    {
     "name": "stderr",
     "output_type": "stream",
     "text": [
      " 22%|██▏       | 61/276 [03:54<13:49,  3.86s/it]"
     ]
    },
    {
     "name": "stdout",
     "output_type": "stream",
     "text": [
      "Train Dice 1: 0.25156348943710327, 2: 0.2582192239208896 \t Acc: 0.7364510325574417\n",
      "Train Loss :1.377320408821106\n"
     ]
    },
    {
     "name": "stderr",
     "output_type": "stream",
     "text": [
      " 26%|██▌       | 71/276 [04:32<13:11,  3.86s/it]"
     ]
    },
    {
     "name": "stdout",
     "output_type": "stream",
     "text": [
      "Train Dice 1: 0.04840009659528732, 2: 0.040599877327614865 \t Acc: 0.6568873108496228\n",
      "Train Loss :1.2746599912643433\n"
     ]
    },
    {
     "name": "stderr",
     "output_type": "stream",
     "text": [
      " 29%|██▉       | 81/276 [05:11<12:29,  3.85s/it]"
     ]
    },
    {
     "name": "stdout",
     "output_type": "stream",
     "text": [
      "Train Dice 1: 0.07294884324073792, 2: 0.0779130146087961 \t Acc: 0.6353855211548354\n",
      "Train Loss :1.116514801979065\n"
     ]
    },
    {
     "name": "stderr",
     "output_type": "stream",
     "text": [
      " 33%|███▎      | 91/276 [05:49<11:52,  3.85s/it]"
     ]
    },
    {
     "name": "stdout",
     "output_type": "stream",
     "text": [
      "Train Dice 1: 0.10869698226451874, 2: 0.1066496564747085 \t Acc: 0.6336932816786695\n",
      "Train Loss :1.2247223854064941\n"
     ]
    },
    {
     "name": "stderr",
     "output_type": "stream",
     "text": [
      " 37%|███▋      | 101/276 [06:28<11:12,  3.84s/it]"
     ]
    },
    {
     "name": "stdout",
     "output_type": "stream",
     "text": [
      "Train Dice 1: 0.025471586734056473, 2: 0.03277092506351412 \t Acc: 0.6020712100265775\n",
      "Train Loss :1.1756938695907593\n"
     ]
    },
    {
     "name": "stderr",
     "output_type": "stream",
     "text": [
      " 40%|████      | 111/276 [07:06<10:35,  3.85s/it]"
     ]
    },
    {
     "name": "stdout",
     "output_type": "stream",
     "text": [
      "Train Dice 1: 0.08518233150243759, 2: 0.07105861989609369 \t Acc: 0.6498758868098422\n",
      "Train Loss :1.259692907333374\n"
     ]
    },
    {
     "name": "stderr",
     "output_type": "stream",
     "text": [
      " 44%|████▍     | 121/276 [07:45<09:57,  3.85s/it]"
     ]
    },
    {
     "name": "stdout",
     "output_type": "stream",
     "text": [
      "Train Dice 1: 0.15892399847507477, 2: 0.14130402458799884 \t Acc: 0.671208553026406\n",
      "Train Loss :1.061553955078125\n"
     ]
    },
    {
     "name": "stderr",
     "output_type": "stream",
     "text": [
      " 47%|████▋     | 131/276 [08:24<09:18,  3.85s/it]"
     ]
    },
    {
     "name": "stdout",
     "output_type": "stream",
     "text": [
      "Train Dice 1: 0.3524961769580841, 2: 0.2699974198166073 \t Acc: 0.693952479316701\n",
      "Train Loss :1.2723850011825562\n"
     ]
    },
    {
     "name": "stderr",
     "output_type": "stream",
     "text": [
      " 51%|█████     | 141/276 [09:02<08:41,  3.86s/it]"
     ]
    },
    {
     "name": "stdout",
     "output_type": "stream",
     "text": [
      "Train Dice 1: 0.1713375300168991, 2: 0.2204288958618657 \t Acc: 0.6686867712620027\n",
      "Train Loss :1.3368462324142456\n"
     ]
    },
    {
     "name": "stderr",
     "output_type": "stream",
     "text": [
      " 55%|█████▍    | 151/276 [09:41<08:03,  3.87s/it]"
     ]
    },
    {
     "name": "stdout",
     "output_type": "stream",
     "text": [
      "Train Dice 1: 0.1608186960220337, 2: 0.159910389936392 \t Acc: 0.6435868377057613\n",
      "Train Loss :1.3376976251602173\n"
     ]
    },
    {
     "name": "stderr",
     "output_type": "stream",
     "text": [
      " 58%|█████▊    | 161/276 [10:20<07:25,  3.87s/it]"
     ]
    },
    {
     "name": "stdout",
     "output_type": "stream",
     "text": [
      "Train Dice 1: 0.3369361162185669, 2: 0.2783974375160065 \t Acc: 0.6650172941315158\n",
      "Train Loss :1.1537703275680542\n"
     ]
    },
    {
     "name": "stderr",
     "output_type": "stream",
     "text": [
      " 62%|██████▏   | 171/276 [10:58<06:46,  3.87s/it]"
     ]
    },
    {
     "name": "stdout",
     "output_type": "stream",
     "text": [
      "Train Dice 1: 0.13117976486682892, 2: 0.1412606646181669 \t Acc: 0.7252088423782579\n",
      "Train Loss :1.3131812810897827\n"
     ]
    },
    {
     "name": "stderr",
     "output_type": "stream",
     "text": [
      " 66%|██████▌   | 181/276 [11:37<06:08,  3.87s/it]"
     ]
    },
    {
     "name": "stdout",
     "output_type": "stream",
     "text": [
      "Train Dice 1: 0.05002959817647934, 2: 0.04316557211130425 \t Acc: 0.6469803589034636\n",
      "Train Loss :1.307684063911438\n"
     ]
    },
    {
     "name": "stderr",
     "output_type": "stream",
     "text": [
      " 69%|██████▉   | 191/276 [12:16<05:28,  3.87s/it]"
     ]
    },
    {
     "name": "stdout",
     "output_type": "stream",
     "text": [
      "Train Dice 1: 0.2624334990978241, 2: 0.20970485624186105 \t Acc: 0.6668866946373457\n",
      "Train Loss :1.1924227476119995\n"
     ]
    },
    {
     "name": "stderr",
     "output_type": "stream",
     "text": [
      " 73%|███████▎  | 201/276 [12:55<04:51,  3.89s/it]"
     ]
    },
    {
     "name": "stdout",
     "output_type": "stream",
     "text": [
      "Train Dice 1: 0.1460975855588913, 2: 0.14950337998228821 \t Acc: 0.665829086826989\n",
      "Train Loss :1.1202961206436157\n"
     ]
    },
    {
     "name": "stderr",
     "output_type": "stream",
     "text": [
      " 76%|███████▋  | 211/276 [13:33<04:12,  3.88s/it]"
     ]
    },
    {
     "name": "stdout",
     "output_type": "stream",
     "text": [
      "Train Dice 1: 0.036700330674648285, 2: 0.03866680170339183 \t Acc: 0.6662182382758917\n",
      "Train Loss :1.2983031272888184\n"
     ]
    },
    {
     "name": "stderr",
     "output_type": "stream",
     "text": [
      " 80%|████████  | 221/276 [14:12<03:33,  3.89s/it]"
     ]
    },
    {
     "name": "stdout",
     "output_type": "stream",
     "text": [
      "Train Dice 1: 0.1540347933769226, 2: 0.15620007325530413 \t Acc: 0.6397036956661523\n",
      "Train Loss :1.2354170083999634\n"
     ]
    },
    {
     "name": "stderr",
     "output_type": "stream",
     "text": [
      " 84%|████████▎ | 231/276 [14:51<02:54,  3.87s/it]"
     ]
    },
    {
     "name": "stdout",
     "output_type": "stream",
     "text": [
      "Train Dice 1: 0.21717099845409393, 2: 0.22481345984922343 \t Acc: 0.6503695264274691\n",
      "Train Loss :1.1018307209014893\n"
     ]
    },
    {
     "name": "stderr",
     "output_type": "stream",
     "text": [
      " 87%|████████▋ | 241/276 [15:30<02:15,  3.88s/it]"
     ]
    },
    {
     "name": "stdout",
     "output_type": "stream",
     "text": [
      "Train Dice 1: 0.2442605197429657, 2: 0.22815306112111092 \t Acc: 0.6938268925754458\n",
      "Train Loss :1.0856010913848877\n"
     ]
    },
    {
     "name": "stderr",
     "output_type": "stream",
     "text": [
      " 91%|█████████ | 251/276 [16:09<01:37,  3.90s/it]"
     ]
    },
    {
     "name": "stdout",
     "output_type": "stream",
     "text": [
      "Train Dice 1: 0.17609302699565887, 2: 0.18947519233909607 \t Acc: 0.6476049436299726\n",
      "Train Loss :1.1534796953201294\n"
     ]
    },
    {
     "name": "stderr",
     "output_type": "stream",
     "text": [
      " 95%|█████████▍| 261/276 [16:48<00:58,  3.88s/it]"
     ]
    },
    {
     "name": "stdout",
     "output_type": "stream",
     "text": [
      "Train Dice 1: 0.12584108114242554, 2: 0.11819822089836983 \t Acc: 0.6718371565286351\n",
      "Train Loss :1.2648539543151855\n"
     ]
    },
    {
     "name": "stderr",
     "output_type": "stream",
     "text": [
      " 98%|█████████▊| 271/276 [17:27<00:19,  3.88s/it]"
     ]
    },
    {
     "name": "stdout",
     "output_type": "stream",
     "text": [
      "Train Dice 1: 0.026544474065303802, 2: 0.025751196620290503 \t Acc: 0.6376310120884774\n",
      "Train Loss :1.3046236038208008\n"
     ]
    },
    {
     "name": "stderr",
     "output_type": "stream",
     "text": [
      "100%|██████████| 276/276 [17:46<00:00,  3.86s/it]\n",
      "  0%|          | 0/92 [00:00<?, ?it/s]"
     ]
    },
    {
     "name": "stdout",
     "output_type": "stream",
     "text": [
      "Train Epoch loss: 1.2064666972644087, \t ACC/DICE :0.6630869567547116/0.15162846446037292 \n"
     ]
    },
    {
     "name": "stderr",
     "output_type": "stream",
     "text": [
      "100%|██████████| 92/92 [05:08<00:00,  3.36s/it]\n",
      "  0%|          | 0/276 [00:00<?, ?it/s]"
     ]
    },
    {
     "name": "stdout",
     "output_type": "stream",
     "text": [
      "Val Dice : 13.958091735839844, len 92\n",
      "Val Epoch loss: 1.1962526129639668 \t acc/dice:/ 0.6670683185465685/ 0.1517183929681778\n",
      "Starting Train epoch: 18\n"
     ]
    },
    {
     "name": "stderr",
     "output_type": "stream",
     "text": [
      "\r",
      "  0%|          | 1/276 [00:03<14:54,  3.25s/it]"
     ]
    },
    {
     "name": "stdout",
     "output_type": "stream",
     "text": [
      "Train Dice 1: 0.2482042759656906, 2: 0.2101252482671963 \t Acc: 0.6736921564214677\n",
      "Train Loss :1.2803629636764526\n"
     ]
    },
    {
     "name": "stderr",
     "output_type": "stream",
     "text": [
      "  4%|▍         | 11/276 [00:38<15:48,  3.58s/it]"
     ]
    },
    {
     "name": "stdout",
     "output_type": "stream",
     "text": [
      "Train Dice 1: 0.2021394968032837, 2: 0.1511617093231914 \t Acc: 0.6484713246956447\n",
      "Train Loss :1.0307389497756958\n"
     ]
    },
    {
     "name": "stderr",
     "output_type": "stream",
     "text": [
      "  8%|▊         | 21/276 [01:16<16:15,  3.82s/it]"
     ]
    },
    {
     "name": "stdout",
     "output_type": "stream",
     "text": [
      "Train Dice 1: 0.047491613775491714, 2: 0.05502900138272846 \t Acc: 0.6475359546467764\n",
      "Train Loss :1.211533546447754\n"
     ]
    },
    {
     "name": "stderr",
     "output_type": "stream",
     "text": [
      " 11%|█         | 31/276 [01:55<15:43,  3.85s/it]"
     ]
    },
    {
     "name": "stdout",
     "output_type": "stream",
     "text": [
      "Train Dice 1: 0.3144417703151703, 2: 0.2666464354844001 \t Acc: 0.7005563325188614\n",
      "Train Loss :1.2822972536087036\n"
     ]
    },
    {
     "name": "stderr",
     "output_type": "stream",
     "text": [
      " 15%|█▍        | 41/276 [02:34<15:14,  3.89s/it]"
     ]
    },
    {
     "name": "stdout",
     "output_type": "stream",
     "text": [
      "Train Dice 1: 0.15205959975719452, 2: 0.15393336040116637 \t Acc: 0.6775856802983539\n",
      "Train Loss :1.1316837072372437\n"
     ]
    },
    {
     "name": "stderr",
     "output_type": "stream",
     "text": [
      " 18%|█▊        | 51/276 [03:13<14:32,  3.88s/it]"
     ]
    },
    {
     "name": "stdout",
     "output_type": "stream",
     "text": [
      "Train Dice 1: 0.08440922945737839, 2: 0.073627827277683 \t Acc: 0.6664998874742798\n",
      "Train Loss :1.0911147594451904\n"
     ]
    },
    {
     "name": "stderr",
     "output_type": "stream",
     "text": [
      " 22%|██▏       | 61/276 [03:52<13:56,  3.89s/it]"
     ]
    },
    {
     "name": "stdout",
     "output_type": "stream",
     "text": [
      "Train Dice 1: 0.22240808606147766, 2: 0.19112070493631023 \t Acc: 0.6729634184242113\n",
      "Train Loss :1.3161598443984985\n"
     ]
    },
    {
     "name": "stderr",
     "output_type": "stream",
     "text": [
      " 26%|██▌       | 71/276 [04:31<13:16,  3.89s/it]"
     ]
    },
    {
     "name": "stdout",
     "output_type": "stream",
     "text": [
      "Train Dice 1: 0.12316916137933731, 2: 0.1329986504723347 \t Acc: 0.6772681970164609\n",
      "Train Loss :1.0608748197555542\n"
     ]
    },
    {
     "name": "stderr",
     "output_type": "stream",
     "text": [
      " 29%|██▉       | 81/276 [05:09<12:36,  3.88s/it]"
     ]
    },
    {
     "name": "stdout",
     "output_type": "stream",
     "text": [
      "Train Dice 1: 0.026747291907668114, 2: 0.026659485424212308 \t Acc: 0.6283921816057956\n",
      "Train Loss :1.2070567607879639\n"
     ]
    },
    {
     "name": "stderr",
     "output_type": "stream",
     "text": [
      " 33%|███▎      | 91/276 [05:48<11:55,  3.87s/it]"
     ]
    },
    {
     "name": "stdout",
     "output_type": "stream",
     "text": [
      "Train Dice 1: 0.19793714582920074, 2: 0.165914449954032 \t Acc: 0.6788465711805556\n",
      "Train Loss :1.1251221895217896\n"
     ]
    },
    {
     "name": "stderr",
     "output_type": "stream",
     "text": [
      " 37%|███▋      | 101/276 [06:27<11:24,  3.91s/it]"
     ]
    },
    {
     "name": "stdout",
     "output_type": "stream",
     "text": [
      "Train Dice 1: 0.17132632434368134, 2: 0.16520951463680048 \t Acc: 0.6780903715492113\n",
      "Train Loss :1.1068775653839111\n"
     ]
    },
    {
     "name": "stderr",
     "output_type": "stream",
     "text": [
      " 40%|████      | 111/276 [07:06<10:42,  3.89s/it]"
     ]
    },
    {
     "name": "stdout",
     "output_type": "stream",
     "text": [
      "Train Dice 1: 0.11827772855758667, 2: 0.1368890563094109 \t Acc: 0.6531622406550068\n",
      "Train Loss :1.2760863304138184\n"
     ]
    },
    {
     "name": "stderr",
     "output_type": "stream",
     "text": [
      " 44%|████▍     | 121/276 [07:45<10:09,  3.93s/it]"
     ]
    },
    {
     "name": "stdout",
     "output_type": "stream",
     "text": [
      "Train Dice 1: 0.061473552137613297, 2: 0.059528268589415755 \t Acc: 0.6501930351937586\n",
      "Train Loss :1.3253014087677002\n"
     ]
    },
    {
     "name": "stderr",
     "output_type": "stream",
     "text": [
      " 47%|████▋     | 131/276 [08:24<09:25,  3.90s/it]"
     ]
    },
    {
     "name": "stdout",
     "output_type": "stream",
     "text": [
      "Train Dice 1: 0.037591543048620224, 2: 0.026252514265997343 \t Acc: 0.6399140115955075\n",
      "Train Loss :1.115053653717041\n"
     ]
    },
    {
     "name": "stderr",
     "output_type": "stream",
     "text": [
      " 51%|█████     | 141/276 [09:03<08:45,  3.89s/it]"
     ]
    },
    {
     "name": "stdout",
     "output_type": "stream",
     "text": [
      "Train Dice 1: 0.059461742639541626, 2: 0.04996105517294248 \t Acc: 0.663818359375\n",
      "Train Loss :1.2362631559371948\n"
     ]
    },
    {
     "name": "stderr",
     "output_type": "stream",
     "text": [
      " 55%|█████▍    | 151/276 [09:42<08:06,  3.89s/it]"
     ]
    },
    {
     "name": "stdout",
     "output_type": "stream",
     "text": [
      "Train Dice 1: 0.0751178190112114, 2: 0.07341323383435633 \t Acc: 0.6745692542223937\n",
      "Train Loss :1.2741807699203491\n"
     ]
    },
    {
     "name": "stderr",
     "output_type": "stream",
     "text": [
      " 58%|█████▊    | 161/276 [10:21<07:31,  3.93s/it]"
     ]
    },
    {
     "name": "stdout",
     "output_type": "stream",
     "text": [
      "Train Dice 1: 0.12536193430423737, 2: 0.11398454075020314 \t Acc: 0.680842228223594\n",
      "Train Loss :1.2945928573608398\n"
     ]
    },
    {
     "name": "stderr",
     "output_type": "stream",
     "text": [
      " 62%|██████▏   | 171/276 [11:00<06:48,  3.89s/it]"
     ]
    },
    {
     "name": "stdout",
     "output_type": "stream",
     "text": [
      "Train Dice 1: 0.2594365179538727, 2: 0.194434551889778 \t Acc: 0.6803204571759259\n",
      "Train Loss :1.251180648803711\n"
     ]
    },
    {
     "name": "stderr",
     "output_type": "stream",
     "text": [
      " 66%|██████▌   | 181/276 [11:39<06:10,  3.90s/it]"
     ]
    },
    {
     "name": "stdout",
     "output_type": "stream",
     "text": [
      "Train Dice 1: 0.142879456281662, 2: 0.11228711397187671 \t Acc: 0.6479622797710906\n",
      "Train Loss :1.235371470451355\n"
     ]
    },
    {
     "name": "stderr",
     "output_type": "stream",
     "text": [
      " 69%|██████▉   | 191/276 [12:18<05:30,  3.89s/it]"
     ]
    },
    {
     "name": "stdout",
     "output_type": "stream",
     "text": [
      "Train Dice 1: 0.2394552379846573, 2: 0.20740368025369493 \t Acc: 0.6581555694873114\n",
      "Train Loss :1.2902214527130127\n"
     ]
    },
    {
     "name": "stderr",
     "output_type": "stream",
     "text": [
      " 73%|███████▎  | 201/276 [12:57<04:52,  3.90s/it]"
     ]
    },
    {
     "name": "stdout",
     "output_type": "stream",
     "text": [
      "Train Dice 1: 0.22082339227199554, 2: 0.20051757374947582 \t Acc: 0.6641636391889575\n",
      "Train Loss :1.23002028465271\n"
     ]
    },
    {
     "name": "stderr",
     "output_type": "stream",
     "text": [
      " 76%|███████▋  | 211/276 [13:36<04:13,  3.90s/it]"
     ]
    },
    {
     "name": "stdout",
     "output_type": "stream",
     "text": [
      "Train Dice 1: 0.101274274289608, 2: 0.10517502631596591 \t Acc: 0.6424301000943072\n",
      "Train Loss :1.3526040315628052\n"
     ]
    },
    {
     "name": "stderr",
     "output_type": "stream",
     "text": [
      " 80%|████████  | 221/276 [14:15<03:34,  3.90s/it]"
     ]
    },
    {
     "name": "stdout",
     "output_type": "stream",
     "text": [
      "Train Dice 1: 0.07384806126356125, 2: 0.06497256812633545 \t Acc: 0.6339163237311386\n",
      "Train Loss :1.104109764099121\n"
     ]
    },
    {
     "name": "stderr",
     "output_type": "stream",
     "text": [
      " 84%|████████▎ | 231/276 [14:54<02:55,  3.90s/it]"
     ]
    },
    {
     "name": "stdout",
     "output_type": "stream",
     "text": [
      "Train Dice 1: 0.08375145494937897, 2: 0.07132124554061965 \t Acc: 0.6764775028935185\n",
      "Train Loss :1.1480597257614136\n"
     ]
    },
    {
     "name": "stderr",
     "output_type": "stream",
     "text": [
      " 87%|████████▋ | 241/276 [15:33<02:16,  3.90s/it]"
     ]
    },
    {
     "name": "stdout",
     "output_type": "stream",
     "text": [
      "Train Dice 1: 0.18196898698806763, 2: 0.18085668781284295 \t Acc: 0.6720424489883402\n",
      "Train Loss :1.0594316720962524\n"
     ]
    },
    {
     "name": "stderr",
     "output_type": "stream",
     "text": [
      " 91%|█████████ | 251/276 [16:12<01:37,  3.89s/it]"
     ]
    },
    {
     "name": "stdout",
     "output_type": "stream",
     "text": [
      "Train Dice 1: 0.03917142376303673, 2: 0.03868191452001162 \t Acc: 0.659895364476166\n",
      "Train Loss :1.2343634366989136\n"
     ]
    },
    {
     "name": "stderr",
     "output_type": "stream",
     "text": [
      " 95%|█████████▍| 261/276 [16:51<00:58,  3.88s/it]"
     ]
    },
    {
     "name": "stdout",
     "output_type": "stream",
     "text": [
      "Train Dice 1: 0.2704886198043823, 2: 0.24487164218333546 \t Acc: 0.6921065216692387\n",
      "Train Loss :1.2979036569595337\n"
     ]
    },
    {
     "name": "stderr",
     "output_type": "stream",
     "text": [
      " 98%|█████████▊| 271/276 [17:30<00:19,  3.89s/it]"
     ]
    },
    {
     "name": "stdout",
     "output_type": "stream",
     "text": [
      "Train Dice 1: 0.18223144114017487, 2: 0.11268084158881464 \t Acc: 0.6903774434156379\n",
      "Train Loss :1.2345508337020874\n"
     ]
    },
    {
     "name": "stderr",
     "output_type": "stream",
     "text": [
      "100%|██████████| 276/276 [17:49<00:00,  3.88s/it]\n",
      "  0%|          | 0/276 [00:00<?, ?it/s]"
     ]
    },
    {
     "name": "stdout",
     "output_type": "stream",
     "text": [
      "Train Epoch loss: 1.2040352264176244, \t ACC/DICE :0.6666581862247859/0.15369930863380432 \n",
      "Starting Train epoch: 19\n"
     ]
    },
    {
     "name": "stderr",
     "output_type": "stream",
     "text": [
      "\r",
      "  0%|          | 1/276 [00:03<14:28,  3.16s/it]"
     ]
    },
    {
     "name": "stdout",
     "output_type": "stream",
     "text": [
      "Train Dice 1: 0.05688505247235298, 2: 0.05251876639233065 \t Acc: 0.6491508326903292\n",
      "Train Loss :1.1298093795776367\n"
     ]
    },
    {
     "name": "stderr",
     "output_type": "stream",
     "text": [
      "  4%|▍         | 11/276 [00:42<17:08,  3.88s/it]"
     ]
    },
    {
     "name": "stdout",
     "output_type": "stream",
     "text": [
      "Train Dice 1: 0.14001499116420746, 2: 0.13539911281232006 \t Acc: 0.6429491919581619\n",
      "Train Loss :1.0723212957382202\n"
     ]
    },
    {
     "name": "stderr",
     "output_type": "stream",
     "text": [
      "  8%|▊         | 21/276 [01:21<16:31,  3.89s/it]"
     ]
    },
    {
     "name": "stdout",
     "output_type": "stream",
     "text": [
      "Train Dice 1: 0.1450389176607132, 2: 0.15494932973453693 \t Acc: 0.635953843021262\n",
      "Train Loss :1.2853935956954956\n"
     ]
    },
    {
     "name": "stderr",
     "output_type": "stream",
     "text": [
      " 11%|█         | 31/276 [01:59<15:52,  3.89s/it]"
     ]
    },
    {
     "name": "stdout",
     "output_type": "stream",
     "text": [
      "Train Dice 1: 0.12901164591312408, 2: 0.11447921249228112 \t Acc: 0.632609216928155\n",
      "Train Loss :1.1877481937408447\n"
     ]
    },
    {
     "name": "stderr",
     "output_type": "stream",
     "text": [
      " 15%|█▍        | 41/276 [02:38<15:10,  3.87s/it]"
     ]
    },
    {
     "name": "stdout",
     "output_type": "stream",
     "text": [
      "Train Dice 1: 0.20418858528137207, 2: 0.22615669478369835 \t Acc: 0.6535892355752744\n",
      "Train Loss :1.1324405670166016\n"
     ]
    },
    {
     "name": "stderr",
     "output_type": "stream",
     "text": [
      " 18%|█▊        | 51/276 [03:17<14:35,  3.89s/it]"
     ]
    },
    {
     "name": "stdout",
     "output_type": "stream",
     "text": [
      "Train Dice 1: 0.383777916431427, 2: 0.30601322692572414 \t Acc: 0.7048718278463649\n",
      "Train Loss :1.3116199970245361\n"
     ]
    },
    {
     "name": "stderr",
     "output_type": "stream",
     "text": [
      " 22%|██▏       | 61/276 [03:56<13:55,  3.89s/it]"
     ]
    },
    {
     "name": "stdout",
     "output_type": "stream",
     "text": [
      "Train Dice 1: 0.10534331202507019, 2: 0.0854862319067306 \t Acc: 0.6378208992412552\n",
      "Train Loss :1.368131160736084\n"
     ]
    },
    {
     "name": "stderr",
     "output_type": "stream",
     "text": [
      " 26%|██▌       | 71/276 [04:35<13:16,  3.88s/it]"
     ]
    },
    {
     "name": "stdout",
     "output_type": "stream",
     "text": [
      "Train Dice 1: 0.07119619101285934, 2: 0.06551196184538723 \t Acc: 0.6588471338091564\n",
      "Train Loss :1.3063064813613892\n"
     ]
    },
    {
     "name": "stderr",
     "output_type": "stream",
     "text": [
      " 29%|██▉       | 81/276 [05:14<12:38,  3.89s/it]"
     ]
    },
    {
     "name": "stdout",
     "output_type": "stream",
     "text": [
      "Train Dice 1: 0.3391188681125641, 2: 0.29656023170714824 \t Acc: 0.6936835562414266\n",
      "Train Loss :1.3207893371582031\n"
     ]
    },
    {
     "name": "stderr",
     "output_type": "stream",
     "text": [
      " 33%|███▎      | 91/276 [05:53<12:02,  3.90s/it]"
     ]
    },
    {
     "name": "stdout",
     "output_type": "stream",
     "text": [
      "Train Dice 1: 0.23186925053596497, 2: 0.20862567132463933 \t Acc: 0.6727222918810014\n",
      "Train Loss :1.2929736375808716\n"
     ]
    },
    {
     "name": "stderr",
     "output_type": "stream",
     "text": [
      " 37%|███▋      | 101/276 [06:32<11:21,  3.89s/it]"
     ]
    },
    {
     "name": "stdout",
     "output_type": "stream",
     "text": [
      "Train Dice 1: 0.06209759786725044, 2: 0.06906318760696108 \t Acc: 0.6493145978009259\n",
      "Train Loss :1.2719249725341797\n"
     ]
    },
    {
     "name": "stderr",
     "output_type": "stream",
     "text": [
      " 40%|████      | 111/276 [07:11<10:41,  3.89s/it]"
     ]
    },
    {
     "name": "stdout",
     "output_type": "stream",
     "text": [
      "Train Dice 1: 0.3941126763820648, 2: 0.2798346155160928 \t Acc: 0.7107295283564815\n",
      "Train Loss :1.276368498802185\n"
     ]
    },
    {
     "name": "stderr",
     "output_type": "stream",
     "text": [
      " 44%|████▍     | 121/276 [07:50<10:04,  3.90s/it]"
     ]
    },
    {
     "name": "stdout",
     "output_type": "stream",
     "text": [
      "Train Dice 1: 0.2653237283229828, 2: 0.25146327796574974 \t Acc: 0.7078628016760974\n",
      "Train Loss :1.026443600654602\n"
     ]
    },
    {
     "name": "stderr",
     "output_type": "stream",
     "text": [
      " 47%|████▋     | 131/276 [08:29<09:24,  3.89s/it]"
     ]
    },
    {
     "name": "stdout",
     "output_type": "stream",
     "text": [
      "Train Dice 1: 0.029879724606871605, 2: 0.02892398124606377 \t Acc: 0.6375044206532922\n",
      "Train Loss :1.316422939300537\n"
     ]
    },
    {
     "name": "stderr",
     "output_type": "stream",
     "text": [
      " 51%|█████     | 141/276 [09:08<08:45,  3.89s/it]"
     ]
    },
    {
     "name": "stdout",
     "output_type": "stream",
     "text": [
      "Train Dice 1: 0.19192475080490112, 2: 0.18740916779348896 \t Acc: 0.6663183727709191\n",
      "Train Loss :1.2913634777069092\n"
     ]
    },
    {
     "name": "stderr",
     "output_type": "stream",
     "text": [
      " 55%|█████▍    | 151/276 [09:46<08:04,  3.88s/it]"
     ]
    },
    {
     "name": "stdout",
     "output_type": "stream",
     "text": [
      "Train Dice 1: 0.19759505987167358, 2: 0.1436974265394317 \t Acc: 0.6875803755144033\n",
      "Train Loss :1.1223589181900024\n"
     ]
    },
    {
     "name": "stderr",
     "output_type": "stream",
     "text": [
      " 58%|█████▊    | 161/276 [10:25<07:27,  3.89s/it]"
     ]
    },
    {
     "name": "stdout",
     "output_type": "stream",
     "text": [
      "Train Dice 1: 0.042835552245378494, 2: 0.04192566248861517 \t Acc: 0.6300998263888888\n",
      "Train Loss :1.2739431858062744\n"
     ]
    },
    {
     "name": "stderr",
     "output_type": "stream",
     "text": [
      " 62%|██████▏   | 171/276 [11:04<06:47,  3.88s/it]"
     ]
    },
    {
     "name": "stdout",
     "output_type": "stream",
     "text": [
      "Train Dice 1: 0.2376042753458023, 2: 0.1943214561179347 \t Acc: 0.6995010689943416\n",
      "Train Loss :1.329780101776123\n"
     ]
    },
    {
     "name": "stderr",
     "output_type": "stream",
     "text": [
      " 66%|██████▌   | 181/276 [11:43<06:11,  3.92s/it]"
     ]
    },
    {
     "name": "stdout",
     "output_type": "stream",
     "text": [
      "Train Dice 1: 0.1647549271583557, 2: 0.12807049091889947 \t Acc: 0.6427522719478738\n",
      "Train Loss :1.2749509811401367\n"
     ]
    },
    {
     "name": "stderr",
     "output_type": "stream",
     "text": [
      " 69%|██████▉   | 191/276 [12:22<05:30,  3.89s/it]"
     ]
    },
    {
     "name": "stdout",
     "output_type": "stream",
     "text": [
      "Train Dice 1: 0.0644180178642273, 2: 0.07789270995380268 \t Acc: 0.646851088284465\n",
      "Train Loss :1.3656260967254639\n"
     ]
    },
    {
     "name": "stderr",
     "output_type": "stream",
     "text": [
      " 73%|███████▎  | 201/276 [13:01<04:52,  3.90s/it]"
     ]
    },
    {
     "name": "stdout",
     "output_type": "stream",
     "text": [
      "Train Dice 1: 0.0769018903374672, 2: 0.06926027705611465 \t Acc: 0.6676593042695473\n",
      "Train Loss :1.2369638681411743\n"
     ]
    },
    {
     "name": "stderr",
     "output_type": "stream",
     "text": [
      " 76%|███████▋  | 211/276 [13:40<04:12,  3.89s/it]"
     ]
    },
    {
     "name": "stdout",
     "output_type": "stream",
     "text": [
      "Train Dice 1: 0.06810155510902405, 2: 0.0628974026672496 \t Acc: 0.6382130647719478\n",
      "Train Loss :1.1781048774719238\n"
     ]
    },
    {
     "name": "stderr",
     "output_type": "stream",
     "text": [
      " 80%|████████  | 221/276 [14:19<03:33,  3.89s/it]"
     ]
    },
    {
     "name": "stdout",
     "output_type": "stream",
     "text": [
      "Train Dice 1: 0.10750507563352585, 2: 0.11763419757360272 \t Acc: 0.6594117717978395\n",
      "Train Loss :1.1447031497955322\n"
     ]
    },
    {
     "name": "stderr",
     "output_type": "stream",
     "text": [
      " 84%|████████▎ | 231/276 [14:58<02:55,  3.89s/it]"
     ]
    },
    {
     "name": "stdout",
     "output_type": "stream",
     "text": [
      "Train Dice 1: 0.0962735041975975, 2: 0.08244146975562987 \t Acc: 0.6887883525162894\n",
      "Train Loss :1.1103578805923462\n"
     ]
    },
    {
     "name": "stderr",
     "output_type": "stream",
     "text": [
      " 87%|████████▋ | 241/276 [15:37<02:15,  3.87s/it]"
     ]
    },
    {
     "name": "stdout",
     "output_type": "stream",
     "text": [
      "Train Dice 1: 0.21078427135944366, 2: 0.20808669656203288 \t Acc: 0.6806339216820988\n",
      "Train Loss :1.2436327934265137\n"
     ]
    },
    {
     "name": "stderr",
     "output_type": "stream",
     "text": [
      " 91%|█████████ | 251/276 [16:15<01:37,  3.88s/it]"
     ]
    },
    {
     "name": "stdout",
     "output_type": "stream",
     "text": [
      "Train Dice 1: 0.09466534107923508, 2: 0.0823896993817808 \t Acc: 0.7097536356524349\n",
      "Train Loss :1.3988699913024902\n"
     ]
    },
    {
     "name": "stderr",
     "output_type": "stream",
     "text": [
      " 95%|█████████▍| 261/276 [16:54<00:58,  3.89s/it]"
     ]
    },
    {
     "name": "stdout",
     "output_type": "stream",
     "text": [
      "Train Dice 1: 0.25796374678611755, 2: 0.22347173612306437 \t Acc: 0.7144495750814472\n",
      "Train Loss :1.0159746408462524\n"
     ]
    },
    {
     "name": "stderr",
     "output_type": "stream",
     "text": [
      " 98%|█████████▊| 271/276 [17:33<00:19,  3.88s/it]"
     ]
    },
    {
     "name": "stdout",
     "output_type": "stream",
     "text": [
      "Train Dice 1: 0.24805518984794617, 2: 0.22161009404290968 \t Acc: 0.682308076667524\n",
      "Train Loss :1.2982468605041504\n"
     ]
    },
    {
     "name": "stderr",
     "output_type": "stream",
     "text": [
      "100%|██████████| 276/276 [17:52<00:00,  3.89s/it]\n",
      "  0%|          | 0/92 [00:00<?, ?it/s]"
     ]
    },
    {
     "name": "stdout",
     "output_type": "stream",
     "text": [
      "Train Epoch loss: 1.2042787556630978, \t ACC/DICE :0.6729777814218563/0.15616348385810852 \n"
     ]
    },
    {
     "name": "stderr",
     "output_type": "stream",
     "text": [
      "100%|██████████| 92/92 [05:07<00:00,  3.34s/it]\n",
      "  0%|          | 0/276 [00:00<?, ?it/s]"
     ]
    },
    {
     "name": "stdout",
     "output_type": "stream",
     "text": [
      "Val Dice : 13.692721366882324, len 92\n",
      "Val Epoch loss: 1.2181910898374475 \t acc/dice:/ 0.6730160083271362/ 0.14883393049240112\n",
      "Starting Train epoch: 20\n"
     ]
    },
    {
     "name": "stderr",
     "output_type": "stream",
     "text": [
      "\r",
      "  0%|          | 1/276 [00:03<14:51,  3.24s/it]"
     ]
    },
    {
     "name": "stdout",
     "output_type": "stream",
     "text": [
      "Train Dice 1: 0.2257450520992279, 2: 0.21788565702346724 \t Acc: 0.680067944101509\n",
      "Train Loss :1.0555436611175537\n"
     ]
    },
    {
     "name": "stderr",
     "output_type": "stream",
     "text": [
      "  4%|▍         | 11/276 [00:38<15:46,  3.57s/it]"
     ]
    },
    {
     "name": "stdout",
     "output_type": "stream",
     "text": [
      "Train Dice 1: 0.06527367979288101, 2: 0.09743173621319219 \t Acc: 0.7034826710390947\n",
      "Train Loss :1.1769132614135742\n"
     ]
    },
    {
     "name": "stderr",
     "output_type": "stream",
     "text": [
      "  8%|▊         | 21/276 [01:16<16:09,  3.80s/it]"
     ]
    },
    {
     "name": "stdout",
     "output_type": "stream",
     "text": [
      "Train Dice 1: 0.2902185618877411, 2: 0.22515453582604786 \t Acc: 0.6976628140003429\n",
      "Train Loss :1.2442946434020996\n"
     ]
    },
    {
     "name": "stderr",
     "output_type": "stream",
     "text": [
      " 11%|█         | 31/276 [01:55<15:45,  3.86s/it]"
     ]
    },
    {
     "name": "stdout",
     "output_type": "stream",
     "text": [
      "Train Dice 1: 0.06846584379673004, 2: 0.051927634196359415 \t Acc: 0.6696010427383402\n",
      "Train Loss :1.114960789680481\n"
     ]
    },
    {
     "name": "stderr",
     "output_type": "stream",
     "text": [
      " 15%|█▍        | 41/276 [02:34<15:15,  3.89s/it]"
     ]
    },
    {
     "name": "stdout",
     "output_type": "stream",
     "text": [
      "Train Dice 1: 0.0949355810880661, 2: 0.07786428957240964 \t Acc: 0.6638133359053497\n",
      "Train Loss :1.0620663166046143\n"
     ]
    },
    {
     "name": "stderr",
     "output_type": "stream",
     "text": [
      " 18%|█▊        | 51/276 [03:13<14:34,  3.89s/it]"
     ]
    },
    {
     "name": "stdout",
     "output_type": "stream",
     "text": [
      "Train Dice 1: 0.05096238851547241, 2: 0.058840452932886235 \t Acc: 0.6757142704046639\n",
      "Train Loss :1.1662333011627197\n"
     ]
    },
    {
     "name": "stderr",
     "output_type": "stream",
     "text": [
      " 22%|██▏       | 61/276 [03:52<13:57,  3.90s/it]"
     ]
    },
    {
     "name": "stdout",
     "output_type": "stream",
     "text": [
      "Train Dice 1: 0.026626989245414734, 2: 0.03262159057644145 \t Acc: 0.62150031614369\n",
      "Train Loss :1.1742775440216064\n"
     ]
    },
    {
     "name": "stderr",
     "output_type": "stream",
     "text": [
      " 26%|██▌       | 71/276 [04:31<13:18,  3.90s/it]"
     ]
    },
    {
     "name": "stdout",
     "output_type": "stream",
     "text": [
      "Train Dice 1: 0.0930640771985054, 2: 0.07518214119082654 \t Acc: 0.6548112782921811\n",
      "Train Loss :1.312171459197998\n"
     ]
    },
    {
     "name": "stderr",
     "output_type": "stream",
     "text": [
      " 29%|██▉       | 81/276 [05:10<12:37,  3.89s/it]"
     ]
    },
    {
     "name": "stdout",
     "output_type": "stream",
     "text": [
      "Train Dice 1: 0.2626524865627289, 2: 0.19619339895958898 \t Acc: 0.6645728845164609\n",
      "Train Loss :1.3681139945983887\n"
     ]
    },
    {
     "name": "stderr",
     "output_type": "stream",
     "text": [
      " 33%|███▎      | 91/276 [05:49<12:02,  3.91s/it]"
     ]
    },
    {
     "name": "stdout",
     "output_type": "stream",
     "text": [
      "Train Dice 1: 0.07916068285703659, 2: 0.07601885017087613 \t Acc: 0.6836359471450617\n",
      "Train Loss :1.2898718118667603\n"
     ]
    },
    {
     "name": "stderr",
     "output_type": "stream",
     "text": [
      " 37%|███▋      | 101/276 [06:28<11:23,  3.91s/it]"
     ]
    },
    {
     "name": "stdout",
     "output_type": "stream",
     "text": [
      "Train Dice 1: 0.13785436749458313, 2: 0.11423337595484329 \t Acc: 0.6417971429183813\n",
      "Train Loss :1.1451051235198975\n"
     ]
    },
    {
     "name": "stderr",
     "output_type": "stream",
     "text": [
      " 40%|████      | 111/276 [07:07<10:43,  3.90s/it]"
     ]
    },
    {
     "name": "stdout",
     "output_type": "stream",
     "text": [
      "Train Dice 1: 0.012993942014873028, 2: 0.01886030856874935 \t Acc: 0.6271721482767489\n",
      "Train Loss :1.2198266983032227\n"
     ]
    },
    {
     "name": "stderr",
     "output_type": "stream",
     "text": [
      " 44%|████▍     | 121/276 [07:46<10:02,  3.89s/it]"
     ]
    },
    {
     "name": "stdout",
     "output_type": "stream",
     "text": [
      "Train Dice 1: 0.2512073516845703, 2: 0.18191235298909664 \t Acc: 0.68050163698131\n",
      "Train Loss :1.2424874305725098\n"
     ]
    },
    {
     "name": "stderr",
     "output_type": "stream",
     "text": [
      " 47%|████▋     | 131/276 [08:25<09:23,  3.89s/it]"
     ]
    },
    {
     "name": "stdout",
     "output_type": "stream",
     "text": [
      "Train Dice 1: 0.16019035875797272, 2: 0.1709424799945284 \t Acc: 0.6752387152777778\n",
      "Train Loss :1.1768205165863037\n"
     ]
    },
    {
     "name": "stderr",
     "output_type": "stream",
     "text": [
      " 51%|█████     | 141/276 [09:03<08:41,  3.86s/it]"
     ]
    },
    {
     "name": "stdout",
     "output_type": "stream",
     "text": [
      "Train Dice 1: 0.15457142889499664, 2: 0.1525147229735253 \t Acc: 0.6805729702503429\n",
      "Train Loss :1.390978217124939\n"
     ]
    },
    {
     "name": "stderr",
     "output_type": "stream",
     "text": [
      " 55%|█████▍    | 151/276 [09:42<08:05,  3.89s/it]"
     ]
    },
    {
     "name": "stdout",
     "output_type": "stream",
     "text": [
      "Train Dice 1: 0.2353876233100891, 2: 0.2291012173237395 \t Acc: 0.7155768416709534\n",
      "Train Loss :1.0476410388946533\n"
     ]
    },
    {
     "name": "stderr",
     "output_type": "stream",
     "text": [
      " 58%|█████▊    | 161/276 [10:21<07:27,  3.89s/it]"
     ]
    },
    {
     "name": "stdout",
     "output_type": "stream",
     "text": [
      "Train Dice 1: 0.049156539142131805, 2: 0.05933962629768789 \t Acc: 0.6829872497642319\n",
      "Train Loss :1.1344475746154785\n"
     ]
    },
    {
     "name": "stderr",
     "output_type": "stream",
     "text": [
      " 62%|██████▏   | 171/276 [11:00<06:47,  3.88s/it]"
     ]
    },
    {
     "name": "stdout",
     "output_type": "stream",
     "text": [
      "Train Dice 1: 0.33407771587371826, 2: 0.24563118362583852 \t Acc: 0.7306840893990055\n",
      "Train Loss :1.2894349098205566\n"
     ]
    },
    {
     "name": "stderr",
     "output_type": "stream",
     "text": [
      " 66%|██████▌   | 181/276 [11:39<06:11,  3.91s/it]"
     ]
    },
    {
     "name": "stdout",
     "output_type": "stream",
     "text": [
      "Train Dice 1: 0.13476675748825073, 2: 0.1574918756322683 \t Acc: 0.6848308631258574\n",
      "Train Loss :1.0622222423553467\n"
     ]
    },
    {
     "name": "stderr",
     "output_type": "stream",
     "text": [
      " 69%|██████▉   | 191/276 [12:18<05:30,  3.89s/it]"
     ]
    },
    {
     "name": "stdout",
     "output_type": "stream",
     "text": [
      "Train Dice 1: 0.14547854661941528, 2: 0.12921285059562215 \t Acc: 0.7021434140303497\n",
      "Train Loss :1.2776905298233032\n"
     ]
    },
    {
     "name": "stderr",
     "output_type": "stream",
     "text": [
      " 73%|███████▎  | 201/276 [12:57<04:52,  3.89s/it]"
     ]
    },
    {
     "name": "stdout",
     "output_type": "stream",
     "text": [
      "Train Dice 1: 0.11552086472511292, 2: 0.09390890810197022 \t Acc: 0.693213694380144\n",
      "Train Loss :1.329342007637024\n"
     ]
    },
    {
     "name": "stderr",
     "output_type": "stream",
     "text": [
      " 76%|███████▋  | 211/276 [13:36<04:13,  3.90s/it]"
     ]
    },
    {
     "name": "stdout",
     "output_type": "stream",
     "text": [
      "Train Dice 1: 0.1975473016500473, 2: 0.17363205959271932 \t Acc: 0.7048641251929012\n",
      "Train Loss :1.3131210803985596\n"
     ]
    },
    {
     "name": "stderr",
     "output_type": "stream",
     "text": [
      " 80%|████████  | 221/276 [14:14<03:34,  3.90s/it]"
     ]
    },
    {
     "name": "stdout",
     "output_type": "stream",
     "text": [
      "Train Dice 1: 0.24370568990707397, 2: 0.2033341562560659 \t Acc: 0.716854477451989\n",
      "Train Loss :1.3433204889297485\n"
     ]
    },
    {
     "name": "stderr",
     "output_type": "stream",
     "text": [
      " 84%|████████▎ | 231/276 [14:54<02:56,  3.92s/it]"
     ]
    },
    {
     "name": "stdout",
     "output_type": "stream",
     "text": [
      "Train Dice 1: 0.35103124380111694, 2: 0.32819051667085514 \t Acc: 0.7215735248413924\n",
      "Train Loss :1.1342841386795044\n"
     ]
    },
    {
     "name": "stderr",
     "output_type": "stream",
     "text": [
      " 87%|████████▋ | 241/276 [15:32<02:16,  3.89s/it]"
     ]
    },
    {
     "name": "stdout",
     "output_type": "stream",
     "text": [
      "Train Dice 1: 0.0324050635099411, 2: 0.024546498363442512 \t Acc: 0.6494803722993827\n",
      "Train Loss :1.1373759508132935\n"
     ]
    },
    {
     "name": "stderr",
     "output_type": "stream",
     "text": [
      " 91%|█████████ | 251/276 [16:12<01:40,  4.02s/it]"
     ]
    },
    {
     "name": "stdout",
     "output_type": "stream",
     "text": [
      "Train Dice 1: 0.3077632486820221, 2: 0.2573010712180595 \t Acc: 0.7497665761102538\n",
      "Train Loss :1.0459825992584229\n"
     ]
    },
    {
     "name": "stderr",
     "output_type": "stream",
     "text": [
      " 95%|█████████▍| 261/276 [16:51<00:58,  3.90s/it]"
     ]
    },
    {
     "name": "stdout",
     "output_type": "stream",
     "text": [
      "Train Dice 1: 0.10746656358242035, 2: 0.1062131579314093 \t Acc: 0.6563290359224966\n",
      "Train Loss :1.230942964553833\n"
     ]
    },
    {
     "name": "stderr",
     "output_type": "stream",
     "text": [
      " 98%|█████████▊| 271/276 [17:30<00:19,  3.89s/it]"
     ]
    },
    {
     "name": "stdout",
     "output_type": "stream",
     "text": [
      "Train Dice 1: 0.3514087498188019, 2: 0.27758007800503653 \t Acc: 0.7479055480538409\n",
      "Train Loss :1.3067092895507812\n"
     ]
    },
    {
     "name": "stderr",
     "output_type": "stream",
     "text": [
      "100%|██████████| 276/276 [17:49<00:00,  3.88s/it]\n"
     ]
    },
    {
     "name": "stdout",
     "output_type": "stream",
     "text": [
      "Train Epoch loss: 1.2073662710794504, \t ACC/DICE :0.6854010706135001/0.160820871591568 \n"
     ]
    }
   ],
   "source": [
    "# Run learn from scratch (UNCOMMENT TO RUN)\n",
    "\n",
    "t_loss, t_acc, t_history, v_loss, v_acc, v_history = learn_from_scratch(params)"
   ]
  },
  {
   "cell_type": "code",
   "execution_count": 32,
   "metadata": {},
   "outputs": [],
   "source": [
    "# torch.cuda.empty_cache()"
   ]
  },
  {
   "cell_type": "code",
   "execution_count": null,
   "metadata": {},
   "outputs": [],
   "source": []
  }
 ],
 "metadata": {
  "kernelspec": {
   "display_name": "Python 3",
   "language": "python",
   "name": "python3"
  },
  "language_info": {
   "codemirror_mode": {
    "name": "ipython",
    "version": 3
   },
   "file_extension": ".py",
   "mimetype": "text/x-python",
   "name": "python",
   "nbconvert_exporter": "python",
   "pygments_lexer": "ipython3",
   "version": "3.8.2"
  },
  "varInspector": {
   "cols": {
    "lenName": 16,
    "lenType": 16,
    "lenVar": 40
   },
   "kernels_config": {
    "python": {
     "delete_cmd_postfix": "",
     "delete_cmd_prefix": "del ",
     "library": "var_list.py",
     "varRefreshCmd": "print(var_dic_list())"
    },
    "r": {
     "delete_cmd_postfix": ") ",
     "delete_cmd_prefix": "rm(",
     "library": "var_list.r",
     "varRefreshCmd": "cat(var_dic_list()) "
    }
   },
   "types_to_exclude": [
    "module",
    "function",
    "builtin_function_or_method",
    "instance",
    "_Feature"
   ],
   "window_display": false
  }
 },
 "nbformat": 4,
 "nbformat_minor": 4
}
